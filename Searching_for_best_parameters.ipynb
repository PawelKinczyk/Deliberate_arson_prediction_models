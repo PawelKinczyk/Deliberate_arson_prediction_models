{
 "cells": [
  {
   "cell_type": "markdown",
   "id": "f326b945",
   "metadata": {},
   "source": [
    "# Załącznik nr 2: Krzyżowy dobór najlepszych parametrów klasyfikatorów"
   ]
  },
  {
   "cell_type": "code",
   "execution_count": 2,
   "id": "49954919",
   "metadata": {
    "id": "49954919"
   },
   "outputs": [],
   "source": [
    "import pandas as pd\n",
    "from sklearn.metrics import accuracy_score, precision_score, recall_score, confusion_matrix\n",
    "import time\n",
    "import matplotlib.pyplot as plt\n",
    "from datetime import timedelta\n",
    "from sklearn.feature_selection import SelectKBest, chi2\n",
    "from sklearn.preprocessing import MinMaxScaler\n",
    "from sklearn.model_selection import GridSearchCV\n",
    "import numpy as np\n",
    "from sklearn.pipeline import make_pipeline\n",
    "from sklearn.pipeline import Pipeline"
   ]
  },
  {
   "cell_type": "markdown",
   "id": "GDEu8dsLGJxO",
   "metadata": {
    "id": "GDEu8dsLGJxO"
   },
   "source": [
    "# Collab"
   ]
  },
  {
   "cell_type": "code",
   "execution_count": 2,
   "id": "qtqs6VGeEfpm",
   "metadata": {
    "colab": {
     "base_uri": "https://localhost:8080/"
    },
    "executionInfo": {
     "elapsed": 6,
     "status": "ok",
     "timestamp": 1658942577994,
     "user": {
      "displayName": "pawel kinczyk",
      "userId": "16956936289197048561"
     },
     "user_tz": -120
    },
    "id": "qtqs6VGeEfpm",
    "outputId": "68369743-886c-4e3a-d93a-016e62609292"
   },
   "outputs": [
    {
     "data": {
      "text/plain": [
       "12"
      ]
     },
     "execution_count": 2,
     "metadata": {},
     "output_type": "execute_result"
    }
   ],
   "source": [
    "import multiprocessing\n",
    "n_cpus = multiprocessing.cpu_count()\n",
    "n_cpus"
   ]
  },
  {
   "cell_type": "code",
   "execution_count": 3,
   "id": "RwjPjNllJ2_y",
   "metadata": {
    "colab": {
     "base_uri": "https://localhost:8080/"
    },
    "executionInfo": {
     "elapsed": 6,
     "status": "ok",
     "timestamp": 1658681072229,
     "user": {
      "displayName": "pawel kinczyk",
      "userId": "16956936289197048561"
     },
     "user_tz": -120
    },
    "id": "RwjPjNllJ2_y",
    "outputId": "75abd56a-d412-4145-a99d-c26d8fdd1a99"
   },
   "outputs": [
    {
     "name": "stderr",
     "output_type": "stream",
     "text": [
      "'cat' is not recognized as an internal or external command,\n",
      "operable program or batch file.\n"
     ]
    }
   ],
   "source": [
    "!cat /proc/cpuinfo"
   ]
  },
  {
   "cell_type": "code",
   "execution_count": 3,
   "id": "PsKiugrVJ-bD",
   "metadata": {
    "colab": {
     "base_uri": "https://localhost:8080/"
    },
    "executionInfo": {
     "elapsed": 262,
     "status": "ok",
     "timestamp": 1658681075365,
     "user": {
      "displayName": "pawel kinczyk",
      "userId": "16956936289197048561"
     },
     "user_tz": -120
    },
    "id": "PsKiugrVJ-bD",
    "outputId": "c9b36332-4d0b-4f24-d7ce-cf74d5a04b22"
   },
   "outputs": [
    {
     "name": "stderr",
     "output_type": "stream",
     "text": [
      "'nvidia-smi' is not recognized as an internal or external command,\n",
      "operable program or batch file.\n"
     ]
    }
   ],
   "source": [
    "!nvidia-smi"
   ]
  },
  {
   "cell_type": "markdown",
   "id": "1ccd62da",
   "metadata": {
    "id": "1ccd62da"
   },
   "source": [
    "# BUDOWANIE MODELI"
   ]
  },
  {
   "cell_type": "code",
   "execution_count": 3,
   "id": "066e314e",
   "metadata": {
    "colab": {
     "base_uri": "https://localhost:8080/",
     "height": 336
    },
    "executionInfo": {
     "elapsed": 674,
     "status": "error",
     "timestamp": 1658942580956,
     "user": {
      "displayName": "pawel kinczyk",
      "userId": "16956936289197048561"
     },
     "user_tz": -120
    },
    "id": "066e314e",
    "outputId": "7d4eb909-6f5d-4ff2-d0f3-913ad127c3fb"
   },
   "outputs": [],
   "source": [
    "dfj = pd.read_excel(\"2022_06_24mgrpythonPY.xlsx\")"
   ]
  },
  {
   "cell_type": "code",
   "execution_count": 19,
   "id": "189d72f9",
   "metadata": {},
   "outputs": [
    {
     "data": {
      "text/html": [
       "<div>\n",
       "<style scoped>\n",
       "    .dataframe tbody tr th:only-of-type {\n",
       "        vertical-align: middle;\n",
       "    }\n",
       "\n",
       "    .dataframe tbody tr th {\n",
       "        vertical-align: top;\n",
       "    }\n",
       "\n",
       "    .dataframe thead th {\n",
       "        text-align: right;\n",
       "    }\n",
       "</style>\n",
       "<table border=\"1\" class=\"dataframe\">\n",
       "  <thead>\n",
       "    <tr style=\"text-align: right;\">\n",
       "      <th></th>\n",
       "      <th>ZAG_LUDNOŚCI</th>\n",
       "      <th>GDP_NA_OS</th>\n",
       "      <th>DNI POWSZEDNIE_WEEKEND</th>\n",
       "      <th>SPECJALNA_BUDOWA_OBIEKTU</th>\n",
       "      <th>CZY_BUDYNEK_JEST_NORMALNIE_ZAJĘTY</th>\n",
       "      <th>LICZBA_CZUJNIKÓW_DYMU</th>\n",
       "      <th>PÓŹNE_WYWOŁANIE</th>\n",
       "      <th>PRZYPADKOWE_CZY_CELOWE</th>\n",
       "      <th>CZY_SĄSIEDNI_OBIEKT_ZOSTAŁ_DOTKNIĘTY_POŻAREM</th>\n",
       "      <th>KOD_POJAZDÓW</th>\n",
       "      <th>KOD_PERSONELU</th>\n",
       "      <th>KOD_CZAS_INCYDENTU</th>\n",
       "      <th>POSZKODOWANI_MARTWI</th>\n",
       "      <th>URATOWANI</th>\n",
       "      <th>KOD_EWAKUOWANI</th>\n",
       "      <th>KOD_OBSZAR_USZKODZONY_PRZEZ_POŻAR</th>\n",
       "      <th>KOD_OBSZAR USZKODZONY PRZEZ POŻAR_ORAZ_WODĘ</th>\n",
       "      <th>SĄSIEDNI_OBIEKT_USZKODZONY</th>\n",
       "    </tr>\n",
       "  </thead>\n",
       "  <tbody>\n",
       "    <tr>\n",
       "      <th>ZAG_LUDNOŚCI</th>\n",
       "      <td>NaN</td>\n",
       "      <td>0.192128</td>\n",
       "      <td>0.000780</td>\n",
       "      <td>0.014880</td>\n",
       "      <td>0.006123</td>\n",
       "      <td>0.015935</td>\n",
       "      <td>0.011962</td>\n",
       "      <td>0.002046</td>\n",
       "      <td>0.008903</td>\n",
       "      <td>0.001644</td>\n",
       "      <td>0.031888</td>\n",
       "      <td>0.022097</td>\n",
       "      <td>0.012982</td>\n",
       "      <td>0.004780</td>\n",
       "      <td>0.001890</td>\n",
       "      <td>0.027391</td>\n",
       "      <td>0.007469</td>\n",
       "      <td>0.007180</td>\n",
       "    </tr>\n",
       "    <tr>\n",
       "      <th>GDP_NA_OS</th>\n",
       "      <td>NaN</td>\n",
       "      <td>NaN</td>\n",
       "      <td>0.003053</td>\n",
       "      <td>0.016876</td>\n",
       "      <td>0.033236</td>\n",
       "      <td>0.047514</td>\n",
       "      <td>0.067124</td>\n",
       "      <td>0.059825</td>\n",
       "      <td>0.024105</td>\n",
       "      <td>0.008024</td>\n",
       "      <td>0.043461</td>\n",
       "      <td>0.037612</td>\n",
       "      <td>0.047097</td>\n",
       "      <td>0.013969</td>\n",
       "      <td>0.023160</td>\n",
       "      <td>0.104431</td>\n",
       "      <td>0.092682</td>\n",
       "      <td>0.020871</td>\n",
       "    </tr>\n",
       "    <tr>\n",
       "      <th>DNI POWSZEDNIE_WEEKEND</th>\n",
       "      <td>NaN</td>\n",
       "      <td>NaN</td>\n",
       "      <td>NaN</td>\n",
       "      <td>0.003344</td>\n",
       "      <td>0.001655</td>\n",
       "      <td>0.004254</td>\n",
       "      <td>0.023074</td>\n",
       "      <td>0.028609</td>\n",
       "      <td>0.008131</td>\n",
       "      <td>0.009283</td>\n",
       "      <td>0.003648</td>\n",
       "      <td>0.012117</td>\n",
       "      <td>0.010982</td>\n",
       "      <td>0.020036</td>\n",
       "      <td>0.005173</td>\n",
       "      <td>0.005824</td>\n",
       "      <td>0.005183</td>\n",
       "      <td>0.006991</td>\n",
       "    </tr>\n",
       "    <tr>\n",
       "      <th>SPECJALNA_BUDOWA_OBIEKTU</th>\n",
       "      <td>NaN</td>\n",
       "      <td>NaN</td>\n",
       "      <td>NaN</td>\n",
       "      <td>NaN</td>\n",
       "      <td>0.043892</td>\n",
       "      <td>0.038971</td>\n",
       "      <td>0.008959</td>\n",
       "      <td>0.008418</td>\n",
       "      <td>0.064821</td>\n",
       "      <td>0.023150</td>\n",
       "      <td>0.005100</td>\n",
       "      <td>0.040048</td>\n",
       "      <td>0.011757</td>\n",
       "      <td>0.002999</td>\n",
       "      <td>0.014683</td>\n",
       "      <td>0.116589</td>\n",
       "      <td>0.071325</td>\n",
       "      <td>0.066783</td>\n",
       "    </tr>\n",
       "    <tr>\n",
       "      <th>CZY_BUDYNEK_JEST_NORMALNIE_ZAJĘTY</th>\n",
       "      <td>NaN</td>\n",
       "      <td>NaN</td>\n",
       "      <td>NaN</td>\n",
       "      <td>NaN</td>\n",
       "      <td>NaN</td>\n",
       "      <td>0.168838</td>\n",
       "      <td>0.008612</td>\n",
       "      <td>0.253785</td>\n",
       "      <td>0.078908</td>\n",
       "      <td>0.013987</td>\n",
       "      <td>0.002125</td>\n",
       "      <td>0.040763</td>\n",
       "      <td>0.050373</td>\n",
       "      <td>0.026715</td>\n",
       "      <td>0.020254</td>\n",
       "      <td>0.147694</td>\n",
       "      <td>0.104350</td>\n",
       "      <td>0.080433</td>\n",
       "    </tr>\n",
       "    <tr>\n",
       "      <th>LICZBA_CZUJNIKÓW_DYMU</th>\n",
       "      <td>NaN</td>\n",
       "      <td>NaN</td>\n",
       "      <td>NaN</td>\n",
       "      <td>NaN</td>\n",
       "      <td>NaN</td>\n",
       "      <td>NaN</td>\n",
       "      <td>0.017896</td>\n",
       "      <td>0.116330</td>\n",
       "      <td>0.080699</td>\n",
       "      <td>0.003653</td>\n",
       "      <td>0.012833</td>\n",
       "      <td>0.013442</td>\n",
       "      <td>0.062244</td>\n",
       "      <td>0.038953</td>\n",
       "      <td>0.026458</td>\n",
       "      <td>0.083631</td>\n",
       "      <td>0.009984</td>\n",
       "      <td>0.080234</td>\n",
       "    </tr>\n",
       "    <tr>\n",
       "      <th>PÓŹNE_WYWOŁANIE</th>\n",
       "      <td>NaN</td>\n",
       "      <td>NaN</td>\n",
       "      <td>NaN</td>\n",
       "      <td>NaN</td>\n",
       "      <td>NaN</td>\n",
       "      <td>NaN</td>\n",
       "      <td>NaN</td>\n",
       "      <td>0.042068</td>\n",
       "      <td>0.033114</td>\n",
       "      <td>0.100665</td>\n",
       "      <td>0.022641</td>\n",
       "      <td>0.108108</td>\n",
       "      <td>0.021714</td>\n",
       "      <td>0.029714</td>\n",
       "      <td>0.012383</td>\n",
       "      <td>0.039559</td>\n",
       "      <td>0.051160</td>\n",
       "      <td>0.027836</td>\n",
       "    </tr>\n",
       "    <tr>\n",
       "      <th>PRZYPADKOWE_CZY_CELOWE</th>\n",
       "      <td>NaN</td>\n",
       "      <td>NaN</td>\n",
       "      <td>NaN</td>\n",
       "      <td>NaN</td>\n",
       "      <td>NaN</td>\n",
       "      <td>NaN</td>\n",
       "      <td>NaN</td>\n",
       "      <td>NaN</td>\n",
       "      <td>0.091178</td>\n",
       "      <td>0.037872</td>\n",
       "      <td>0.001067</td>\n",
       "      <td>0.086634</td>\n",
       "      <td>0.002225</td>\n",
       "      <td>0.057666</td>\n",
       "      <td>0.009617</td>\n",
       "      <td>0.150449</td>\n",
       "      <td>0.110919</td>\n",
       "      <td>0.094163</td>\n",
       "    </tr>\n",
       "    <tr>\n",
       "      <th>CZY_SĄSIEDNI_OBIEKT_ZOSTAŁ_DOTKNIĘTY_POŻAREM</th>\n",
       "      <td>NaN</td>\n",
       "      <td>NaN</td>\n",
       "      <td>NaN</td>\n",
       "      <td>NaN</td>\n",
       "      <td>NaN</td>\n",
       "      <td>NaN</td>\n",
       "      <td>NaN</td>\n",
       "      <td>NaN</td>\n",
       "      <td>NaN</td>\n",
       "      <td>0.044336</td>\n",
       "      <td>0.003274</td>\n",
       "      <td>0.091615</td>\n",
       "      <td>0.036145</td>\n",
       "      <td>0.044077</td>\n",
       "      <td>0.031995</td>\n",
       "      <td>0.302498</td>\n",
       "      <td>0.225562</td>\n",
       "      <td>0.887150</td>\n",
       "    </tr>\n",
       "    <tr>\n",
       "      <th>KOD_POJAZDÓW</th>\n",
       "      <td>NaN</td>\n",
       "      <td>NaN</td>\n",
       "      <td>NaN</td>\n",
       "      <td>NaN</td>\n",
       "      <td>NaN</td>\n",
       "      <td>NaN</td>\n",
       "      <td>NaN</td>\n",
       "      <td>NaN</td>\n",
       "      <td>NaN</td>\n",
       "      <td>NaN</td>\n",
       "      <td>0.237850</td>\n",
       "      <td>0.923735</td>\n",
       "      <td>0.041491</td>\n",
       "      <td>0.039678</td>\n",
       "      <td>0.019454</td>\n",
       "      <td>0.097268</td>\n",
       "      <td>0.089560</td>\n",
       "      <td>0.049911</td>\n",
       "    </tr>\n",
       "    <tr>\n",
       "      <th>KOD_PERSONELU</th>\n",
       "      <td>NaN</td>\n",
       "      <td>NaN</td>\n",
       "      <td>NaN</td>\n",
       "      <td>NaN</td>\n",
       "      <td>NaN</td>\n",
       "      <td>NaN</td>\n",
       "      <td>NaN</td>\n",
       "      <td>NaN</td>\n",
       "      <td>NaN</td>\n",
       "      <td>NaN</td>\n",
       "      <td>NaN</td>\n",
       "      <td>0.226253</td>\n",
       "      <td>0.012736</td>\n",
       "      <td>0.003277</td>\n",
       "      <td>0.129651</td>\n",
       "      <td>0.026321</td>\n",
       "      <td>0.023484</td>\n",
       "      <td>0.003889</td>\n",
       "    </tr>\n",
       "    <tr>\n",
       "      <th>KOD_CZAS_INCYDENTU</th>\n",
       "      <td>NaN</td>\n",
       "      <td>NaN</td>\n",
       "      <td>NaN</td>\n",
       "      <td>NaN</td>\n",
       "      <td>NaN</td>\n",
       "      <td>NaN</td>\n",
       "      <td>NaN</td>\n",
       "      <td>NaN</td>\n",
       "      <td>NaN</td>\n",
       "      <td>NaN</td>\n",
       "      <td>NaN</td>\n",
       "      <td>NaN</td>\n",
       "      <td>0.097864</td>\n",
       "      <td>0.065450</td>\n",
       "      <td>0.035485</td>\n",
       "      <td>0.201955</td>\n",
       "      <td>0.192181</td>\n",
       "      <td>0.098211</td>\n",
       "    </tr>\n",
       "    <tr>\n",
       "      <th>POSZKODOWANI_MARTWI</th>\n",
       "      <td>NaN</td>\n",
       "      <td>NaN</td>\n",
       "      <td>NaN</td>\n",
       "      <td>NaN</td>\n",
       "      <td>NaN</td>\n",
       "      <td>NaN</td>\n",
       "      <td>NaN</td>\n",
       "      <td>NaN</td>\n",
       "      <td>NaN</td>\n",
       "      <td>NaN</td>\n",
       "      <td>NaN</td>\n",
       "      <td>NaN</td>\n",
       "      <td>NaN</td>\n",
       "      <td>0.302331</td>\n",
       "      <td>0.081497</td>\n",
       "      <td>0.139272</td>\n",
       "      <td>0.189036</td>\n",
       "      <td>0.040269</td>\n",
       "    </tr>\n",
       "    <tr>\n",
       "      <th>URATOWANI</th>\n",
       "      <td>NaN</td>\n",
       "      <td>NaN</td>\n",
       "      <td>NaN</td>\n",
       "      <td>NaN</td>\n",
       "      <td>NaN</td>\n",
       "      <td>NaN</td>\n",
       "      <td>NaN</td>\n",
       "      <td>NaN</td>\n",
       "      <td>NaN</td>\n",
       "      <td>NaN</td>\n",
       "      <td>NaN</td>\n",
       "      <td>NaN</td>\n",
       "      <td>NaN</td>\n",
       "      <td>NaN</td>\n",
       "      <td>0.156373</td>\n",
       "      <td>0.091570</td>\n",
       "      <td>0.127027</td>\n",
       "      <td>0.046451</td>\n",
       "    </tr>\n",
       "    <tr>\n",
       "      <th>KOD_EWAKUOWANI</th>\n",
       "      <td>NaN</td>\n",
       "      <td>NaN</td>\n",
       "      <td>NaN</td>\n",
       "      <td>NaN</td>\n",
       "      <td>NaN</td>\n",
       "      <td>NaN</td>\n",
       "      <td>NaN</td>\n",
       "      <td>NaN</td>\n",
       "      <td>NaN</td>\n",
       "      <td>NaN</td>\n",
       "      <td>NaN</td>\n",
       "      <td>NaN</td>\n",
       "      <td>NaN</td>\n",
       "      <td>NaN</td>\n",
       "      <td>NaN</td>\n",
       "      <td>0.067356</td>\n",
       "      <td>0.071755</td>\n",
       "      <td>0.035010</td>\n",
       "    </tr>\n",
       "    <tr>\n",
       "      <th>KOD_OBSZAR_USZKODZONY_PRZEZ_POŻAR</th>\n",
       "      <td>NaN</td>\n",
       "      <td>NaN</td>\n",
       "      <td>NaN</td>\n",
       "      <td>NaN</td>\n",
       "      <td>NaN</td>\n",
       "      <td>NaN</td>\n",
       "      <td>NaN</td>\n",
       "      <td>NaN</td>\n",
       "      <td>NaN</td>\n",
       "      <td>NaN</td>\n",
       "      <td>NaN</td>\n",
       "      <td>NaN</td>\n",
       "      <td>NaN</td>\n",
       "      <td>NaN</td>\n",
       "      <td>NaN</td>\n",
       "      <td>NaN</td>\n",
       "      <td>0.710699</td>\n",
       "      <td>0.321766</td>\n",
       "    </tr>\n",
       "    <tr>\n",
       "      <th>KOD_OBSZAR USZKODZONY PRZEZ POŻAR_ORAZ_WODĘ</th>\n",
       "      <td>NaN</td>\n",
       "      <td>NaN</td>\n",
       "      <td>NaN</td>\n",
       "      <td>NaN</td>\n",
       "      <td>NaN</td>\n",
       "      <td>NaN</td>\n",
       "      <td>NaN</td>\n",
       "      <td>NaN</td>\n",
       "      <td>NaN</td>\n",
       "      <td>NaN</td>\n",
       "      <td>NaN</td>\n",
       "      <td>NaN</td>\n",
       "      <td>NaN</td>\n",
       "      <td>NaN</td>\n",
       "      <td>NaN</td>\n",
       "      <td>NaN</td>\n",
       "      <td>NaN</td>\n",
       "      <td>0.242737</td>\n",
       "    </tr>\n",
       "    <tr>\n",
       "      <th>SĄSIEDNI_OBIEKT_USZKODZONY</th>\n",
       "      <td>NaN</td>\n",
       "      <td>NaN</td>\n",
       "      <td>NaN</td>\n",
       "      <td>NaN</td>\n",
       "      <td>NaN</td>\n",
       "      <td>NaN</td>\n",
       "      <td>NaN</td>\n",
       "      <td>NaN</td>\n",
       "      <td>NaN</td>\n",
       "      <td>NaN</td>\n",
       "      <td>NaN</td>\n",
       "      <td>NaN</td>\n",
       "      <td>NaN</td>\n",
       "      <td>NaN</td>\n",
       "      <td>NaN</td>\n",
       "      <td>NaN</td>\n",
       "      <td>NaN</td>\n",
       "      <td>NaN</td>\n",
       "    </tr>\n",
       "  </tbody>\n",
       "</table>\n",
       "</div>"
      ],
      "text/plain": [
       "                                              ZAG_LUDNOŚCI  GDP_NA_OS  \\\n",
       "ZAG_LUDNOŚCI                                           NaN   0.192128   \n",
       "GDP_NA_OS                                              NaN        NaN   \n",
       "DNI POWSZEDNIE_WEEKEND                                 NaN        NaN   \n",
       "SPECJALNA_BUDOWA_OBIEKTU                               NaN        NaN   \n",
       "CZY_BUDYNEK_JEST_NORMALNIE_ZAJĘTY                      NaN        NaN   \n",
       "LICZBA_CZUJNIKÓW_DYMU                                  NaN        NaN   \n",
       "PÓŹNE_WYWOŁANIE                                        NaN        NaN   \n",
       "PRZYPADKOWE_CZY_CELOWE                                 NaN        NaN   \n",
       "CZY_SĄSIEDNI_OBIEKT_ZOSTAŁ_DOTKNIĘTY_POŻAREM           NaN        NaN   \n",
       "KOD_POJAZDÓW                                           NaN        NaN   \n",
       "KOD_PERSONELU                                          NaN        NaN   \n",
       "KOD_CZAS_INCYDENTU                                     NaN        NaN   \n",
       "POSZKODOWANI_MARTWI                                    NaN        NaN   \n",
       "URATOWANI                                              NaN        NaN   \n",
       "KOD_EWAKUOWANI                                         NaN        NaN   \n",
       "KOD_OBSZAR_USZKODZONY_PRZEZ_POŻAR                      NaN        NaN   \n",
       "KOD_OBSZAR USZKODZONY PRZEZ POŻAR_ORAZ_WODĘ            NaN        NaN   \n",
       "SĄSIEDNI_OBIEKT_USZKODZONY                             NaN        NaN   \n",
       "\n",
       "                                              DNI POWSZEDNIE_WEEKEND  \\\n",
       "ZAG_LUDNOŚCI                                                0.000780   \n",
       "GDP_NA_OS                                                   0.003053   \n",
       "DNI POWSZEDNIE_WEEKEND                                           NaN   \n",
       "SPECJALNA_BUDOWA_OBIEKTU                                         NaN   \n",
       "CZY_BUDYNEK_JEST_NORMALNIE_ZAJĘTY                                NaN   \n",
       "LICZBA_CZUJNIKÓW_DYMU                                            NaN   \n",
       "PÓŹNE_WYWOŁANIE                                                  NaN   \n",
       "PRZYPADKOWE_CZY_CELOWE                                           NaN   \n",
       "CZY_SĄSIEDNI_OBIEKT_ZOSTAŁ_DOTKNIĘTY_POŻAREM                     NaN   \n",
       "KOD_POJAZDÓW                                                     NaN   \n",
       "KOD_PERSONELU                                                    NaN   \n",
       "KOD_CZAS_INCYDENTU                                               NaN   \n",
       "POSZKODOWANI_MARTWI                                              NaN   \n",
       "URATOWANI                                                        NaN   \n",
       "KOD_EWAKUOWANI                                                   NaN   \n",
       "KOD_OBSZAR_USZKODZONY_PRZEZ_POŻAR                                NaN   \n",
       "KOD_OBSZAR USZKODZONY PRZEZ POŻAR_ORAZ_WODĘ                      NaN   \n",
       "SĄSIEDNI_OBIEKT_USZKODZONY                                       NaN   \n",
       "\n",
       "                                              SPECJALNA_BUDOWA_OBIEKTU  \\\n",
       "ZAG_LUDNOŚCI                                                  0.014880   \n",
       "GDP_NA_OS                                                     0.016876   \n",
       "DNI POWSZEDNIE_WEEKEND                                        0.003344   \n",
       "SPECJALNA_BUDOWA_OBIEKTU                                           NaN   \n",
       "CZY_BUDYNEK_JEST_NORMALNIE_ZAJĘTY                                  NaN   \n",
       "LICZBA_CZUJNIKÓW_DYMU                                              NaN   \n",
       "PÓŹNE_WYWOŁANIE                                                    NaN   \n",
       "PRZYPADKOWE_CZY_CELOWE                                             NaN   \n",
       "CZY_SĄSIEDNI_OBIEKT_ZOSTAŁ_DOTKNIĘTY_POŻAREM                       NaN   \n",
       "KOD_POJAZDÓW                                                       NaN   \n",
       "KOD_PERSONELU                                                      NaN   \n",
       "KOD_CZAS_INCYDENTU                                                 NaN   \n",
       "POSZKODOWANI_MARTWI                                                NaN   \n",
       "URATOWANI                                                          NaN   \n",
       "KOD_EWAKUOWANI                                                     NaN   \n",
       "KOD_OBSZAR_USZKODZONY_PRZEZ_POŻAR                                  NaN   \n",
       "KOD_OBSZAR USZKODZONY PRZEZ POŻAR_ORAZ_WODĘ                        NaN   \n",
       "SĄSIEDNI_OBIEKT_USZKODZONY                                         NaN   \n",
       "\n",
       "                                              CZY_BUDYNEK_JEST_NORMALNIE_ZAJĘTY  \\\n",
       "ZAG_LUDNOŚCI                                                           0.006123   \n",
       "GDP_NA_OS                                                              0.033236   \n",
       "DNI POWSZEDNIE_WEEKEND                                                 0.001655   \n",
       "SPECJALNA_BUDOWA_OBIEKTU                                               0.043892   \n",
       "CZY_BUDYNEK_JEST_NORMALNIE_ZAJĘTY                                           NaN   \n",
       "LICZBA_CZUJNIKÓW_DYMU                                                       NaN   \n",
       "PÓŹNE_WYWOŁANIE                                                             NaN   \n",
       "PRZYPADKOWE_CZY_CELOWE                                                      NaN   \n",
       "CZY_SĄSIEDNI_OBIEKT_ZOSTAŁ_DOTKNIĘTY_POŻAREM                                NaN   \n",
       "KOD_POJAZDÓW                                                                NaN   \n",
       "KOD_PERSONELU                                                               NaN   \n",
       "KOD_CZAS_INCYDENTU                                                          NaN   \n",
       "POSZKODOWANI_MARTWI                                                         NaN   \n",
       "URATOWANI                                                                   NaN   \n",
       "KOD_EWAKUOWANI                                                              NaN   \n",
       "KOD_OBSZAR_USZKODZONY_PRZEZ_POŻAR                                           NaN   \n",
       "KOD_OBSZAR USZKODZONY PRZEZ POŻAR_ORAZ_WODĘ                                 NaN   \n",
       "SĄSIEDNI_OBIEKT_USZKODZONY                                                  NaN   \n",
       "\n",
       "                                              LICZBA_CZUJNIKÓW_DYMU  \\\n",
       "ZAG_LUDNOŚCI                                               0.015935   \n",
       "GDP_NA_OS                                                  0.047514   \n",
       "DNI POWSZEDNIE_WEEKEND                                     0.004254   \n",
       "SPECJALNA_BUDOWA_OBIEKTU                                   0.038971   \n",
       "CZY_BUDYNEK_JEST_NORMALNIE_ZAJĘTY                          0.168838   \n",
       "LICZBA_CZUJNIKÓW_DYMU                                           NaN   \n",
       "PÓŹNE_WYWOŁANIE                                                 NaN   \n",
       "PRZYPADKOWE_CZY_CELOWE                                          NaN   \n",
       "CZY_SĄSIEDNI_OBIEKT_ZOSTAŁ_DOTKNIĘTY_POŻAREM                    NaN   \n",
       "KOD_POJAZDÓW                                                    NaN   \n",
       "KOD_PERSONELU                                                   NaN   \n",
       "KOD_CZAS_INCYDENTU                                              NaN   \n",
       "POSZKODOWANI_MARTWI                                             NaN   \n",
       "URATOWANI                                                       NaN   \n",
       "KOD_EWAKUOWANI                                                  NaN   \n",
       "KOD_OBSZAR_USZKODZONY_PRZEZ_POŻAR                               NaN   \n",
       "KOD_OBSZAR USZKODZONY PRZEZ POŻAR_ORAZ_WODĘ                     NaN   \n",
       "SĄSIEDNI_OBIEKT_USZKODZONY                                      NaN   \n",
       "\n",
       "                                              PÓŹNE_WYWOŁANIE  \\\n",
       "ZAG_LUDNOŚCI                                         0.011962   \n",
       "GDP_NA_OS                                            0.067124   \n",
       "DNI POWSZEDNIE_WEEKEND                               0.023074   \n",
       "SPECJALNA_BUDOWA_OBIEKTU                             0.008959   \n",
       "CZY_BUDYNEK_JEST_NORMALNIE_ZAJĘTY                    0.008612   \n",
       "LICZBA_CZUJNIKÓW_DYMU                                0.017896   \n",
       "PÓŹNE_WYWOŁANIE                                           NaN   \n",
       "PRZYPADKOWE_CZY_CELOWE                                    NaN   \n",
       "CZY_SĄSIEDNI_OBIEKT_ZOSTAŁ_DOTKNIĘTY_POŻAREM              NaN   \n",
       "KOD_POJAZDÓW                                              NaN   \n",
       "KOD_PERSONELU                                             NaN   \n",
       "KOD_CZAS_INCYDENTU                                        NaN   \n",
       "POSZKODOWANI_MARTWI                                       NaN   \n",
       "URATOWANI                                                 NaN   \n",
       "KOD_EWAKUOWANI                                            NaN   \n",
       "KOD_OBSZAR_USZKODZONY_PRZEZ_POŻAR                         NaN   \n",
       "KOD_OBSZAR USZKODZONY PRZEZ POŻAR_ORAZ_WODĘ               NaN   \n",
       "SĄSIEDNI_OBIEKT_USZKODZONY                                NaN   \n",
       "\n",
       "                                              PRZYPADKOWE_CZY_CELOWE  \\\n",
       "ZAG_LUDNOŚCI                                                0.002046   \n",
       "GDP_NA_OS                                                   0.059825   \n",
       "DNI POWSZEDNIE_WEEKEND                                      0.028609   \n",
       "SPECJALNA_BUDOWA_OBIEKTU                                    0.008418   \n",
       "CZY_BUDYNEK_JEST_NORMALNIE_ZAJĘTY                           0.253785   \n",
       "LICZBA_CZUJNIKÓW_DYMU                                       0.116330   \n",
       "PÓŹNE_WYWOŁANIE                                             0.042068   \n",
       "PRZYPADKOWE_CZY_CELOWE                                           NaN   \n",
       "CZY_SĄSIEDNI_OBIEKT_ZOSTAŁ_DOTKNIĘTY_POŻAREM                     NaN   \n",
       "KOD_POJAZDÓW                                                     NaN   \n",
       "KOD_PERSONELU                                                    NaN   \n",
       "KOD_CZAS_INCYDENTU                                               NaN   \n",
       "POSZKODOWANI_MARTWI                                              NaN   \n",
       "URATOWANI                                                        NaN   \n",
       "KOD_EWAKUOWANI                                                   NaN   \n",
       "KOD_OBSZAR_USZKODZONY_PRZEZ_POŻAR                                NaN   \n",
       "KOD_OBSZAR USZKODZONY PRZEZ POŻAR_ORAZ_WODĘ                      NaN   \n",
       "SĄSIEDNI_OBIEKT_USZKODZONY                                       NaN   \n",
       "\n",
       "                                              CZY_SĄSIEDNI_OBIEKT_ZOSTAŁ_DOTKNIĘTY_POŻAREM  \\\n",
       "ZAG_LUDNOŚCI                                                                      0.008903   \n",
       "GDP_NA_OS                                                                         0.024105   \n",
       "DNI POWSZEDNIE_WEEKEND                                                            0.008131   \n",
       "SPECJALNA_BUDOWA_OBIEKTU                                                          0.064821   \n",
       "CZY_BUDYNEK_JEST_NORMALNIE_ZAJĘTY                                                 0.078908   \n",
       "LICZBA_CZUJNIKÓW_DYMU                                                             0.080699   \n",
       "PÓŹNE_WYWOŁANIE                                                                   0.033114   \n",
       "PRZYPADKOWE_CZY_CELOWE                                                            0.091178   \n",
       "CZY_SĄSIEDNI_OBIEKT_ZOSTAŁ_DOTKNIĘTY_POŻAREM                                           NaN   \n",
       "KOD_POJAZDÓW                                                                           NaN   \n",
       "KOD_PERSONELU                                                                          NaN   \n",
       "KOD_CZAS_INCYDENTU                                                                     NaN   \n",
       "POSZKODOWANI_MARTWI                                                                    NaN   \n",
       "URATOWANI                                                                              NaN   \n",
       "KOD_EWAKUOWANI                                                                         NaN   \n",
       "KOD_OBSZAR_USZKODZONY_PRZEZ_POŻAR                                                      NaN   \n",
       "KOD_OBSZAR USZKODZONY PRZEZ POŻAR_ORAZ_WODĘ                                            NaN   \n",
       "SĄSIEDNI_OBIEKT_USZKODZONY                                                             NaN   \n",
       "\n",
       "                                              KOD_POJAZDÓW  KOD_PERSONELU  \\\n",
       "ZAG_LUDNOŚCI                                      0.001644       0.031888   \n",
       "GDP_NA_OS                                         0.008024       0.043461   \n",
       "DNI POWSZEDNIE_WEEKEND                            0.009283       0.003648   \n",
       "SPECJALNA_BUDOWA_OBIEKTU                          0.023150       0.005100   \n",
       "CZY_BUDYNEK_JEST_NORMALNIE_ZAJĘTY                 0.013987       0.002125   \n",
       "LICZBA_CZUJNIKÓW_DYMU                             0.003653       0.012833   \n",
       "PÓŹNE_WYWOŁANIE                                   0.100665       0.022641   \n",
       "PRZYPADKOWE_CZY_CELOWE                            0.037872       0.001067   \n",
       "CZY_SĄSIEDNI_OBIEKT_ZOSTAŁ_DOTKNIĘTY_POŻAREM      0.044336       0.003274   \n",
       "KOD_POJAZDÓW                                           NaN       0.237850   \n",
       "KOD_PERSONELU                                          NaN            NaN   \n",
       "KOD_CZAS_INCYDENTU                                     NaN            NaN   \n",
       "POSZKODOWANI_MARTWI                                    NaN            NaN   \n",
       "URATOWANI                                              NaN            NaN   \n",
       "KOD_EWAKUOWANI                                         NaN            NaN   \n",
       "KOD_OBSZAR_USZKODZONY_PRZEZ_POŻAR                      NaN            NaN   \n",
       "KOD_OBSZAR USZKODZONY PRZEZ POŻAR_ORAZ_WODĘ            NaN            NaN   \n",
       "SĄSIEDNI_OBIEKT_USZKODZONY                             NaN            NaN   \n",
       "\n",
       "                                              KOD_CZAS_INCYDENTU  \\\n",
       "ZAG_LUDNOŚCI                                            0.022097   \n",
       "GDP_NA_OS                                               0.037612   \n",
       "DNI POWSZEDNIE_WEEKEND                                  0.012117   \n",
       "SPECJALNA_BUDOWA_OBIEKTU                                0.040048   \n",
       "CZY_BUDYNEK_JEST_NORMALNIE_ZAJĘTY                       0.040763   \n",
       "LICZBA_CZUJNIKÓW_DYMU                                   0.013442   \n",
       "PÓŹNE_WYWOŁANIE                                         0.108108   \n",
       "PRZYPADKOWE_CZY_CELOWE                                  0.086634   \n",
       "CZY_SĄSIEDNI_OBIEKT_ZOSTAŁ_DOTKNIĘTY_POŻAREM            0.091615   \n",
       "KOD_POJAZDÓW                                            0.923735   \n",
       "KOD_PERSONELU                                           0.226253   \n",
       "KOD_CZAS_INCYDENTU                                           NaN   \n",
       "POSZKODOWANI_MARTWI                                          NaN   \n",
       "URATOWANI                                                    NaN   \n",
       "KOD_EWAKUOWANI                                               NaN   \n",
       "KOD_OBSZAR_USZKODZONY_PRZEZ_POŻAR                            NaN   \n",
       "KOD_OBSZAR USZKODZONY PRZEZ POŻAR_ORAZ_WODĘ                  NaN   \n",
       "SĄSIEDNI_OBIEKT_USZKODZONY                                   NaN   \n",
       "\n",
       "                                              POSZKODOWANI_MARTWI  URATOWANI  \\\n",
       "ZAG_LUDNOŚCI                                             0.012982   0.004780   \n",
       "GDP_NA_OS                                                0.047097   0.013969   \n",
       "DNI POWSZEDNIE_WEEKEND                                   0.010982   0.020036   \n",
       "SPECJALNA_BUDOWA_OBIEKTU                                 0.011757   0.002999   \n",
       "CZY_BUDYNEK_JEST_NORMALNIE_ZAJĘTY                        0.050373   0.026715   \n",
       "LICZBA_CZUJNIKÓW_DYMU                                    0.062244   0.038953   \n",
       "PÓŹNE_WYWOŁANIE                                          0.021714   0.029714   \n",
       "PRZYPADKOWE_CZY_CELOWE                                   0.002225   0.057666   \n",
       "CZY_SĄSIEDNI_OBIEKT_ZOSTAŁ_DOTKNIĘTY_POŻAREM             0.036145   0.044077   \n",
       "KOD_POJAZDÓW                                             0.041491   0.039678   \n",
       "KOD_PERSONELU                                            0.012736   0.003277   \n",
       "KOD_CZAS_INCYDENTU                                       0.097864   0.065450   \n",
       "POSZKODOWANI_MARTWI                                           NaN   0.302331   \n",
       "URATOWANI                                                     NaN        NaN   \n",
       "KOD_EWAKUOWANI                                                NaN        NaN   \n",
       "KOD_OBSZAR_USZKODZONY_PRZEZ_POŻAR                             NaN        NaN   \n",
       "KOD_OBSZAR USZKODZONY PRZEZ POŻAR_ORAZ_WODĘ                   NaN        NaN   \n",
       "SĄSIEDNI_OBIEKT_USZKODZONY                                    NaN        NaN   \n",
       "\n",
       "                                              KOD_EWAKUOWANI  \\\n",
       "ZAG_LUDNOŚCI                                        0.001890   \n",
       "GDP_NA_OS                                           0.023160   \n",
       "DNI POWSZEDNIE_WEEKEND                              0.005173   \n",
       "SPECJALNA_BUDOWA_OBIEKTU                            0.014683   \n",
       "CZY_BUDYNEK_JEST_NORMALNIE_ZAJĘTY                   0.020254   \n",
       "LICZBA_CZUJNIKÓW_DYMU                               0.026458   \n",
       "PÓŹNE_WYWOŁANIE                                     0.012383   \n",
       "PRZYPADKOWE_CZY_CELOWE                              0.009617   \n",
       "CZY_SĄSIEDNI_OBIEKT_ZOSTAŁ_DOTKNIĘTY_POŻAREM        0.031995   \n",
       "KOD_POJAZDÓW                                        0.019454   \n",
       "KOD_PERSONELU                                       0.129651   \n",
       "KOD_CZAS_INCYDENTU                                  0.035485   \n",
       "POSZKODOWANI_MARTWI                                 0.081497   \n",
       "URATOWANI                                           0.156373   \n",
       "KOD_EWAKUOWANI                                           NaN   \n",
       "KOD_OBSZAR_USZKODZONY_PRZEZ_POŻAR                        NaN   \n",
       "KOD_OBSZAR USZKODZONY PRZEZ POŻAR_ORAZ_WODĘ              NaN   \n",
       "SĄSIEDNI_OBIEKT_USZKODZONY                               NaN   \n",
       "\n",
       "                                              KOD_OBSZAR_USZKODZONY_PRZEZ_POŻAR  \\\n",
       "ZAG_LUDNOŚCI                                                           0.027391   \n",
       "GDP_NA_OS                                                              0.104431   \n",
       "DNI POWSZEDNIE_WEEKEND                                                 0.005824   \n",
       "SPECJALNA_BUDOWA_OBIEKTU                                               0.116589   \n",
       "CZY_BUDYNEK_JEST_NORMALNIE_ZAJĘTY                                      0.147694   \n",
       "LICZBA_CZUJNIKÓW_DYMU                                                  0.083631   \n",
       "PÓŹNE_WYWOŁANIE                                                        0.039559   \n",
       "PRZYPADKOWE_CZY_CELOWE                                                 0.150449   \n",
       "CZY_SĄSIEDNI_OBIEKT_ZOSTAŁ_DOTKNIĘTY_POŻAREM                           0.302498   \n",
       "KOD_POJAZDÓW                                                           0.097268   \n",
       "KOD_PERSONELU                                                          0.026321   \n",
       "KOD_CZAS_INCYDENTU                                                     0.201955   \n",
       "POSZKODOWANI_MARTWI                                                    0.139272   \n",
       "URATOWANI                                                              0.091570   \n",
       "KOD_EWAKUOWANI                                                         0.067356   \n",
       "KOD_OBSZAR_USZKODZONY_PRZEZ_POŻAR                                           NaN   \n",
       "KOD_OBSZAR USZKODZONY PRZEZ POŻAR_ORAZ_WODĘ                                 NaN   \n",
       "SĄSIEDNI_OBIEKT_USZKODZONY                                                  NaN   \n",
       "\n",
       "                                              KOD_OBSZAR USZKODZONY PRZEZ POŻAR_ORAZ_WODĘ  \\\n",
       "ZAG_LUDNOŚCI                                                                     0.007469   \n",
       "GDP_NA_OS                                                                        0.092682   \n",
       "DNI POWSZEDNIE_WEEKEND                                                           0.005183   \n",
       "SPECJALNA_BUDOWA_OBIEKTU                                                         0.071325   \n",
       "CZY_BUDYNEK_JEST_NORMALNIE_ZAJĘTY                                                0.104350   \n",
       "LICZBA_CZUJNIKÓW_DYMU                                                            0.009984   \n",
       "PÓŹNE_WYWOŁANIE                                                                  0.051160   \n",
       "PRZYPADKOWE_CZY_CELOWE                                                           0.110919   \n",
       "CZY_SĄSIEDNI_OBIEKT_ZOSTAŁ_DOTKNIĘTY_POŻAREM                                     0.225562   \n",
       "KOD_POJAZDÓW                                                                     0.089560   \n",
       "KOD_PERSONELU                                                                    0.023484   \n",
       "KOD_CZAS_INCYDENTU                                                               0.192181   \n",
       "POSZKODOWANI_MARTWI                                                              0.189036   \n",
       "URATOWANI                                                                        0.127027   \n",
       "KOD_EWAKUOWANI                                                                   0.071755   \n",
       "KOD_OBSZAR_USZKODZONY_PRZEZ_POŻAR                                                0.710699   \n",
       "KOD_OBSZAR USZKODZONY PRZEZ POŻAR_ORAZ_WODĘ                                           NaN   \n",
       "SĄSIEDNI_OBIEKT_USZKODZONY                                                            NaN   \n",
       "\n",
       "                                              SĄSIEDNI_OBIEKT_USZKODZONY  \n",
       "ZAG_LUDNOŚCI                                                    0.007180  \n",
       "GDP_NA_OS                                                       0.020871  \n",
       "DNI POWSZEDNIE_WEEKEND                                          0.006991  \n",
       "SPECJALNA_BUDOWA_OBIEKTU                                        0.066783  \n",
       "CZY_BUDYNEK_JEST_NORMALNIE_ZAJĘTY                               0.080433  \n",
       "LICZBA_CZUJNIKÓW_DYMU                                           0.080234  \n",
       "PÓŹNE_WYWOŁANIE                                                 0.027836  \n",
       "PRZYPADKOWE_CZY_CELOWE                                          0.094163  \n",
       "CZY_SĄSIEDNI_OBIEKT_ZOSTAŁ_DOTKNIĘTY_POŻAREM                    0.887150  \n",
       "KOD_POJAZDÓW                                                    0.049911  \n",
       "KOD_PERSONELU                                                   0.003889  \n",
       "KOD_CZAS_INCYDENTU                                              0.098211  \n",
       "POSZKODOWANI_MARTWI                                             0.040269  \n",
       "URATOWANI                                                       0.046451  \n",
       "KOD_EWAKUOWANI                                                  0.035010  \n",
       "KOD_OBSZAR_USZKODZONY_PRZEZ_POŻAR                               0.321766  \n",
       "KOD_OBSZAR USZKODZONY PRZEZ POŻAR_ORAZ_WODĘ                     0.242737  \n",
       "SĄSIEDNI_OBIEKT_USZKODZONY                                           NaN  "
      ]
     },
     "execution_count": 19,
     "metadata": {},
     "output_type": "execute_result"
    }
   ],
   "source": [
    "# Create correlation matrix\n",
    "corr_matrix = dfj.corr().abs()\n",
    "\n",
    "# Select upper triangle of correlation matrix\n",
    "upper = corr_matrix.where(np.triu(np.ones(corr_matrix.shape), k=1).astype(np.bool_))\n",
    "\n",
    "# Find features with correlation greater than 0.95\n",
    "to_drop = [column for column in upper.columns if any(upper[column] > 0.50)]\n",
    "upper"
   ]
  },
  {
   "cell_type": "code",
   "execution_count": null,
   "id": "A43CT1G74fRz",
   "metadata": {
    "colab": {
     "base_uri": "https://localhost:8080/"
    },
    "executionInfo": {
     "elapsed": 191839,
     "status": "ok",
     "timestamp": 1658942774111,
     "user": {
      "displayName": "pawel kinczyk",
      "userId": "16956936289197048561"
     },
     "user_tz": -120
    },
    "id": "A43CT1G74fRz",
    "outputId": "c95cad1a-105e-42e2-f0fc-569cc1cfb8e8"
   },
   "outputs": [
    {
     "name": "stdout",
     "output_type": "stream",
     "text": [
      "Mounted at /content/drive/\n"
     ]
    }
   ],
   "source": [
    "from google.colab import drive\n",
    "drive.mount('/content/drive/')\n",
    "\n",
    "dfj = pd.read_excel('/content/drive/MyDrive/Organizacja/Nauka/MGR IiE/Python/2022_06_24mgrpythonPY.xlsx')"
   ]
  },
  {
   "cell_type": "code",
   "execution_count": 16,
   "id": "f5755840",
   "metadata": {
    "colab": {
     "base_uri": "https://localhost:8080/"
    },
    "executionInfo": {
     "elapsed": 14,
     "status": "ok",
     "timestamp": 1658681257708,
     "user": {
      "displayName": "pawel kinczyk",
      "userId": "16956936289197048561"
     },
     "user_tz": -120
    },
    "id": "f5755840",
    "outputId": "7bf36731-a1ae-48aa-8c29-ac97d464651f"
   },
   "outputs": [
    {
     "data": {
      "text/plain": [
       "ZAG_LUDNOŚCI                                       int64\n",
       "GDP_NA_OS                                          int64\n",
       "DNI POWSZEDNIE_WEEKEND                             int64\n",
       "PORA_DNIA                                       category\n",
       "SPECJALNA_BUDOWA_OBIEKTU                           int64\n",
       "ILOŚĆ_MIESZKAŃCÓW_OBIEKTU                       category\n",
       "CZY_BUDYNEK_JEST_NORMALNIE_ZAJĘTY                  int64\n",
       "CZY_CZUJNIK_DYMU_JEST_W_OBIEKCIE                  object\n",
       "LICZBA_CZUJNIKÓW_DYMU                              int64\n",
       "RODZAJ_CZUJNIKA_DYMU_W_MIESZKANIU                 object\n",
       "POWÓD_ZŁEGO_ZADZIAŁANIA_ALRMU                     object\n",
       "CZAS_DO_ZAUWAŻENIA_POŻARU                         object\n",
       "CZAS_MIĘDZY_ODKRYCIEM_A_ZGŁOSZENIEM               object\n",
       "PÓŹNE_WYWOŁANIE                                    int64\n",
       "PRZYPADKOWE_CZY_CELOWE                             int64\n",
       "CO_NAPĘDZA_ZAPŁON                                 object\n",
       "ŹRÓDŁO_POŻARU                                     object\n",
       "LOKACJA_ROZPOCZĘCIA_POŻARU                        object\n",
       "ZASIĘG_OGNIA_PO_PRZYBYCIU                         object\n",
       "CZY_SĄSIEDNI_OBIEKT_ZOSTAŁ_DOTKNIĘTY_POŻAREM       int64\n",
       "PRZEDMIOT_KTÓRY_ZAPŁONĄŁ                          object\n",
       "PRZEDMIOT_ROZPRZESTRZENIAJĄCY                     object\n",
       "SZYBKI_WZROST_POŻARU                              object\n",
       "KOD_POJAZDÓW                                       int64\n",
       "KOD_PERSONELU                                      int64\n",
       "KOD_CZAS_INCYDENTU                                 int64\n",
       "POSZKODOWANI_MARTWI                                int64\n",
       "URATOWANI                                          int64\n",
       "KOD_EWAKUOWANI                                     int64\n",
       "KOD_OBSZAR_USZKODZONY_PRZEZ_POŻAR                  int64\n",
       "KOD_OBSZAR USZKODZONY PRZEZ POŻAR_ORAZ_WODĘ        int64\n",
       "SĄSIEDNI_OBIEKT_USZKODZONY                         int64\n",
       "dtype: object"
      ]
     },
     "execution_count": 16,
     "metadata": {},
     "output_type": "execute_result"
    }
   ],
   "source": [
    "data_type= dfj.dtypes\n",
    "data_type"
   ]
  },
  {
   "cell_type": "code",
   "execution_count": 4,
   "id": "f3b12744",
   "metadata": {
    "id": "f3b12744"
   },
   "outputs": [],
   "source": [
    "plt.rcParams[\"figure.figsize\"] = (20,20)"
   ]
  },
  {
   "cell_type": "code",
   "execution_count": 5,
   "id": "0f342bbb",
   "metadata": {
    "id": "0f342bbb"
   },
   "outputs": [],
   "source": [
    "target_name = \"PRZYPADKOWE_CZY_CELOWE\"\n",
    "target = dfj[target_name]\n",
    "\n",
    "data = dfj.drop(columns=[target_name])"
   ]
  },
  {
   "cell_type": "code",
   "execution_count": 6,
   "id": "39df2f93",
   "metadata": {
    "id": "39df2f93"
   },
   "outputs": [],
   "source": [
    "from sklearn.compose import make_column_selector as selector\n",
    "\n",
    "numerical_columns_selector = selector(dtype_exclude=object)\n",
    "categorical_columns_selector = selector(dtype_include=object)\n",
    "\n",
    "numerical_columns = numerical_columns_selector(data)\n",
    "categorical_columns = categorical_columns_selector(data)"
   ]
  },
  {
   "cell_type": "code",
   "execution_count": 7,
   "id": "b147d459",
   "metadata": {
    "colab": {
     "base_uri": "https://localhost:8080/"
    },
    "executionInfo": {
     "elapsed": 10,
     "status": "ok",
     "timestamp": 1658681257710,
     "user": {
      "displayName": "pawel kinczyk",
      "userId": "16956936289197048561"
     },
     "user_tz": -120
    },
    "id": "b147d459",
    "outputId": "dba1042a-22fd-46ac-a3c1-c0c60b89838a"
   },
   "outputs": [
    {
     "data": {
      "text/plain": [
       "['ZAG_LUDNOŚCI',\n",
       " 'GDP_NA_OS',\n",
       " 'DNI POWSZEDNIE_WEEKEND',\n",
       " 'SPECJALNA_BUDOWA_OBIEKTU',\n",
       " 'CZY_BUDYNEK_JEST_NORMALNIE_ZAJĘTY',\n",
       " 'LICZBA_CZUJNIKÓW_DYMU',\n",
       " 'PÓŹNE_WYWOŁANIE',\n",
       " 'CZY_SĄSIEDNI_OBIEKT_ZOSTAŁ_DOTKNIĘTY_POŻAREM',\n",
       " 'KOD_POJAZDÓW',\n",
       " 'KOD_PERSONELU',\n",
       " 'KOD_CZAS_INCYDENTU',\n",
       " 'POSZKODOWANI_MARTWI',\n",
       " 'URATOWANI',\n",
       " 'KOD_EWAKUOWANI',\n",
       " 'KOD_OBSZAR_USZKODZONY_PRZEZ_POŻAR',\n",
       " 'KOD_OBSZAR USZKODZONY PRZEZ POŻAR_ORAZ_WODĘ',\n",
       " 'SĄSIEDNI_OBIEKT_USZKODZONY']"
      ]
     },
     "execution_count": 7,
     "metadata": {},
     "output_type": "execute_result"
    }
   ],
   "source": [
    "numerical_columns"
   ]
  },
  {
   "cell_type": "code",
   "execution_count": 8,
   "id": "3872cd9c",
   "metadata": {
    "colab": {
     "base_uri": "https://localhost:8080/"
    },
    "executionInfo": {
     "elapsed": 8,
     "status": "ok",
     "timestamp": 1658667909167,
     "user": {
      "displayName": "pawel kinczyk",
      "userId": "16956936289197048561"
     },
     "user_tz": -120
    },
    "id": "3872cd9c",
    "outputId": "25d4b9b9-4d79-40e6-def4-f09578461eb9"
   },
   "outputs": [
    {
     "data": {
      "text/plain": [
       "['PORA_DNIA',\n",
       " 'ILOŚĆ_MIESZKAŃCÓW_OBIEKTU',\n",
       " 'CZY_CZUJNIK_DYMU_JEST_W_OBIEKCIE',\n",
       " 'RODZAJ_CZUJNIKA_DYMU_W_MIESZKANIU',\n",
       " 'POWÓD_ZŁEGO_ZADZIAŁANIA_ALRMU',\n",
       " 'CZAS_DO_ZAUWAŻENIA_POŻARU',\n",
       " 'CZAS_MIĘDZY_ODKRYCIEM_A_ZGŁOSZENIEM',\n",
       " 'CO_NAPĘDZA_ZAPŁON',\n",
       " 'ŹRÓDŁO_POŻARU',\n",
       " 'LOKACJA_ROZPOCZĘCIA_POŻARU',\n",
       " 'ZASIĘG_OGNIA_PO_PRZYBYCIU',\n",
       " 'PRZEDMIOT_KTÓRY_ZAPŁONĄŁ',\n",
       " 'PRZEDMIOT_ROZPRZESTRZENIAJĄCY',\n",
       " 'SZYBKI_WZROST_POŻARU']"
      ]
     },
     "execution_count": 8,
     "metadata": {},
     "output_type": "execute_result"
    }
   ],
   "source": [
    "categorical_columns"
   ]
  },
  {
   "cell_type": "code",
   "execution_count": 9,
   "id": "c0770141",
   "metadata": {
    "id": "c0770141"
   },
   "outputs": [],
   "source": [
    "from sklearn.preprocessing import OneHotEncoder, StandardScaler\n",
    "\n",
    "categorical_preprocessor = OneHotEncoder(handle_unknown=\"ignore\")\n",
    "numerical_preprocessor = StandardScaler()\n",
    "minmax =MinMaxScaler()"
   ]
  },
  {
   "cell_type": "code",
   "execution_count": 10,
   "id": "1f82b0b7",
   "metadata": {
    "id": "1f82b0b7"
   },
   "outputs": [],
   "source": [
    "from sklearn.compose import ColumnTransformer\n",
    "\n",
    "preprocessor = ColumnTransformer([\n",
    "    ('one-hot-encoder', categorical_preprocessor, categorical_columns),\n",
    "    ('min_max_scaler', minmax, numerical_columns)])"
   ]
  },
  {
   "cell_type": "code",
   "execution_count": 11,
   "id": "724c5c8b",
   "metadata": {
    "id": "724c5c8b"
   },
   "outputs": [],
   "source": [
    "from sklearn.model_selection import train_test_split\n",
    "\n",
    "data_train, data_test, target_train, target_test = train_test_split(\n",
    "    data, target, random_state=42)"
   ]
  },
  {
   "cell_type": "code",
   "execution_count": 12,
   "id": "731e05ce",
   "metadata": {
    "colab": {
     "base_uri": "https://localhost:8080/",
     "height": 679
    },
    "executionInfo": {
     "elapsed": 244,
     "status": "ok",
     "timestamp": 1658656594302,
     "user": {
      "displayName": "pawel kinczyk",
      "userId": "16956936289197048561"
     },
     "user_tz": -120
    },
    "id": "731e05ce",
    "outputId": "8812abdb-70af-43ce-dc57-7a9f34005a88",
    "scrolled": true
   },
   "outputs": [
    {
     "data": {
      "text/html": [
       "<div>\n",
       "<style scoped>\n",
       "    .dataframe tbody tr th:only-of-type {\n",
       "        vertical-align: middle;\n",
       "    }\n",
       "\n",
       "    .dataframe tbody tr th {\n",
       "        vertical-align: top;\n",
       "    }\n",
       "\n",
       "    .dataframe thead th {\n",
       "        text-align: right;\n",
       "    }\n",
       "</style>\n",
       "<table border=\"1\" class=\"dataframe\">\n",
       "  <thead>\n",
       "    <tr style=\"text-align: right;\">\n",
       "      <th></th>\n",
       "      <th>ZAG_LUDNOŚCI</th>\n",
       "      <th>GDP_NA_OS</th>\n",
       "      <th>DNI POWSZEDNIE_WEEKEND</th>\n",
       "      <th>PORA_DNIA</th>\n",
       "      <th>SPECJALNA_BUDOWA_OBIEKTU</th>\n",
       "      <th>ILOŚĆ_MIESZKAŃCÓW_OBIEKTU</th>\n",
       "      <th>CZY_BUDYNEK_JEST_NORMALNIE_ZAJĘTY</th>\n",
       "      <th>CZY_CZUJNIK_DYMU_JEST_W_OBIEKCIE</th>\n",
       "      <th>LICZBA_CZUJNIKÓW_DYMU</th>\n",
       "      <th>RODZAJ_CZUJNIKA_DYMU_W_MIESZKANIU</th>\n",
       "      <th>...</th>\n",
       "      <th>SZYBKI_WZROST_POŻARU</th>\n",
       "      <th>KOD_POJAZDÓW</th>\n",
       "      <th>KOD_PERSONELU</th>\n",
       "      <th>KOD_CZAS_INCYDENTU</th>\n",
       "      <th>POSZKODOWANI_MARTWI</th>\n",
       "      <th>URATOWANI</th>\n",
       "      <th>KOD_EWAKUOWANI</th>\n",
       "      <th>KOD_OBSZAR_USZKODZONY_PRZEZ_POŻAR</th>\n",
       "      <th>KOD_OBSZAR USZKODZONY PRZEZ POŻAR_ORAZ_WODĘ</th>\n",
       "      <th>SĄSIEDNI_OBIEKT_USZKODZONY</th>\n",
       "    </tr>\n",
       "  </thead>\n",
       "  <tbody>\n",
       "    <tr>\n",
       "      <th>185609</th>\n",
       "      <td>709</td>\n",
       "      <td>32358</td>\n",
       "      <td>1</td>\n",
       "      <td>Popołudnie</td>\n",
       "      <td>0</td>\n",
       "      <td>3 lub więcej osób dorosłych poniżej wieku emer...</td>\n",
       "      <td>1</td>\n",
       "      <td>Alarm obecny i podniesiony alarm</td>\n",
       "      <td>1</td>\n",
       "      <td>Zasilanie sieciowe</td>\n",
       "      <td>...</td>\n",
       "      <td>0</td>\n",
       "      <td>1</td>\n",
       "      <td>2</td>\n",
       "      <td>1</td>\n",
       "      <td>0</td>\n",
       "      <td>0</td>\n",
       "      <td>0</td>\n",
       "      <td>0</td>\n",
       "      <td>0</td>\n",
       "      <td>0</td>\n",
       "    </tr>\n",
       "    <tr>\n",
       "      <th>56081</th>\n",
       "      <td>681</td>\n",
       "      <td>29354</td>\n",
       "      <td>1</td>\n",
       "      <td>Popołudnie</td>\n",
       "      <td>0</td>\n",
       "      <td>Samotna osoba w wieku emerytalnym</td>\n",
       "      <td>1</td>\n",
       "      <td>Alarm obecny i podniesiony alarm</td>\n",
       "      <td>1</td>\n",
       "      <td>Zasilanie bateryjne</td>\n",
       "      <td>...</td>\n",
       "      <td>0</td>\n",
       "      <td>2</td>\n",
       "      <td>7</td>\n",
       "      <td>2</td>\n",
       "      <td>0</td>\n",
       "      <td>0</td>\n",
       "      <td>0</td>\n",
       "      <td>0</td>\n",
       "      <td>2</td>\n",
       "      <td>0</td>\n",
       "    </tr>\n",
       "    <tr>\n",
       "      <th>142215</th>\n",
       "      <td>148</td>\n",
       "      <td>24593</td>\n",
       "      <td>1</td>\n",
       "      <td>Wieczór</td>\n",
       "      <td>0</td>\n",
       "      <td>3 lub więcej osób dorosłych poniżej wieku emer...</td>\n",
       "      <td>1</td>\n",
       "      <td>Alarm obecny, ale nie działa</td>\n",
       "      <td>1</td>\n",
       "      <td>Zasilanie bateryjne</td>\n",
       "      <td>...</td>\n",
       "      <td>0</td>\n",
       "      <td>2</td>\n",
       "      <td>7</td>\n",
       "      <td>8</td>\n",
       "      <td>0</td>\n",
       "      <td>0</td>\n",
       "      <td>0</td>\n",
       "      <td>1</td>\n",
       "      <td>5</td>\n",
       "      <td>0</td>\n",
       "    </tr>\n",
       "    <tr>\n",
       "      <th>302354</th>\n",
       "      <td>5700</td>\n",
       "      <td>55092</td>\n",
       "      <td>1</td>\n",
       "      <td>Popołudnie</td>\n",
       "      <td>0</td>\n",
       "      <td>Samotna osoba w wieku emerytalnym</td>\n",
       "      <td>1</td>\n",
       "      <td>Alarm obecny i podniesiony alarm</td>\n",
       "      <td>1</td>\n",
       "      <td>Zasilanie sieciowe</td>\n",
       "      <td>...</td>\n",
       "      <td>0</td>\n",
       "      <td>2</td>\n",
       "      <td>6</td>\n",
       "      <td>3</td>\n",
       "      <td>0</td>\n",
       "      <td>0</td>\n",
       "      <td>0</td>\n",
       "      <td>1</td>\n",
       "      <td>2</td>\n",
       "      <td>0</td>\n",
       "    </tr>\n",
       "    <tr>\n",
       "      <th>143385</th>\n",
       "      <td>316</td>\n",
       "      <td>19367</td>\n",
       "      <td>1</td>\n",
       "      <td>Noc</td>\n",
       "      <td>0</td>\n",
       "      <td>Inne</td>\n",
       "      <td>1</td>\n",
       "      <td>Alarm obecny i podniesiony alarm</td>\n",
       "      <td>1</td>\n",
       "      <td>Zasilanie sieciowe</td>\n",
       "      <td>...</td>\n",
       "      <td>0</td>\n",
       "      <td>4</td>\n",
       "      <td>8</td>\n",
       "      <td>8</td>\n",
       "      <td>0</td>\n",
       "      <td>0</td>\n",
       "      <td>0</td>\n",
       "      <td>1</td>\n",
       "      <td>4</td>\n",
       "      <td>1</td>\n",
       "    </tr>\n",
       "    <tr>\n",
       "      <th>...</th>\n",
       "      <td>...</td>\n",
       "      <td>...</td>\n",
       "      <td>...</td>\n",
       "      <td>...</td>\n",
       "      <td>...</td>\n",
       "      <td>...</td>\n",
       "      <td>...</td>\n",
       "      <td>...</td>\n",
       "      <td>...</td>\n",
       "      <td>...</td>\n",
       "      <td>...</td>\n",
       "      <td>...</td>\n",
       "      <td>...</td>\n",
       "      <td>...</td>\n",
       "      <td>...</td>\n",
       "      <td>...</td>\n",
       "      <td>...</td>\n",
       "      <td>...</td>\n",
       "      <td>...</td>\n",
       "      <td>...</td>\n",
       "      <td>...</td>\n",
       "    </tr>\n",
       "    <tr>\n",
       "      <th>304216</th>\n",
       "      <td>2222</td>\n",
       "      <td>29057</td>\n",
       "      <td>1</td>\n",
       "      <td>Wieczór</td>\n",
       "      <td>0</td>\n",
       "      <td>Samotna osoba poniżej wieku emerytalnego</td>\n",
       "      <td>1</td>\n",
       "      <td>Brak alarmu</td>\n",
       "      <td>0</td>\n",
       "      <td>Brak alarmu</td>\n",
       "      <td>...</td>\n",
       "      <td>1</td>\n",
       "      <td>3</td>\n",
       "      <td>8</td>\n",
       "      <td>2</td>\n",
       "      <td>0</td>\n",
       "      <td>0</td>\n",
       "      <td>0</td>\n",
       "      <td>1</td>\n",
       "      <td>1</td>\n",
       "      <td>0</td>\n",
       "    </tr>\n",
       "    <tr>\n",
       "      <th>51738</th>\n",
       "      <td>5218</td>\n",
       "      <td>47812</td>\n",
       "      <td>1</td>\n",
       "      <td>Poranek</td>\n",
       "      <td>0</td>\n",
       "      <td>Samotna osoba w wieku emerytalnym</td>\n",
       "      <td>1</td>\n",
       "      <td>Brak alarmu</td>\n",
       "      <td>0</td>\n",
       "      <td>Brak alarmu</td>\n",
       "      <td>...</td>\n",
       "      <td>0</td>\n",
       "      <td>1</td>\n",
       "      <td>2</td>\n",
       "      <td>3</td>\n",
       "      <td>0</td>\n",
       "      <td>0</td>\n",
       "      <td>0</td>\n",
       "      <td>1</td>\n",
       "      <td>2</td>\n",
       "      <td>0</td>\n",
       "    </tr>\n",
       "    <tr>\n",
       "      <th>334415</th>\n",
       "      <td>391</td>\n",
       "      <td>25766</td>\n",
       "      <td>1</td>\n",
       "      <td>Popołudnie</td>\n",
       "      <td>1</td>\n",
       "      <td>Para z dzieckiem/dziećmi</td>\n",
       "      <td>1</td>\n",
       "      <td>Brak alarmu</td>\n",
       "      <td>0</td>\n",
       "      <td>Brak alarmu</td>\n",
       "      <td>...</td>\n",
       "      <td>0</td>\n",
       "      <td>2</td>\n",
       "      <td>7</td>\n",
       "      <td>2</td>\n",
       "      <td>0</td>\n",
       "      <td>0</td>\n",
       "      <td>0</td>\n",
       "      <td>1</td>\n",
       "      <td>1</td>\n",
       "      <td>0</td>\n",
       "    </tr>\n",
       "    <tr>\n",
       "      <th>323142</th>\n",
       "      <td>163</td>\n",
       "      <td>24431</td>\n",
       "      <td>0</td>\n",
       "      <td>Popołudnie</td>\n",
       "      <td>0</td>\n",
       "      <td>3 lub więcej osób dorosłych z dzieckiem/dziećmi</td>\n",
       "      <td>1</td>\n",
       "      <td>Alarm obecny, ale nie podniósł alarmu</td>\n",
       "      <td>1</td>\n",
       "      <td>Zasilanie bateryjne</td>\n",
       "      <td>...</td>\n",
       "      <td>0</td>\n",
       "      <td>3</td>\n",
       "      <td>8</td>\n",
       "      <td>6</td>\n",
       "      <td>0</td>\n",
       "      <td>0</td>\n",
       "      <td>0</td>\n",
       "      <td>1</td>\n",
       "      <td>1</td>\n",
       "      <td>0</td>\n",
       "    </tr>\n",
       "    <tr>\n",
       "      <th>198448</th>\n",
       "      <td>421</td>\n",
       "      <td>30380</td>\n",
       "      <td>1</td>\n",
       "      <td>Popołudnie</td>\n",
       "      <td>0</td>\n",
       "      <td>Samotna osoba poniżej wieku emerytalnego</td>\n",
       "      <td>1</td>\n",
       "      <td>Alarm obecny, ale nie działa</td>\n",
       "      <td>1</td>\n",
       "      <td>Zasilanie bateryjne</td>\n",
       "      <td>...</td>\n",
       "      <td>0</td>\n",
       "      <td>1</td>\n",
       "      <td>2</td>\n",
       "      <td>2</td>\n",
       "      <td>0</td>\n",
       "      <td>0</td>\n",
       "      <td>0</td>\n",
       "      <td>0</td>\n",
       "      <td>1</td>\n",
       "      <td>0</td>\n",
       "    </tr>\n",
       "  </tbody>\n",
       "</table>\n",
       "<p>86561 rows × 31 columns</p>\n",
       "</div>"
      ],
      "text/plain": [
       "        ZAG_LUDNOŚCI  GDP_NA_OS  DNI POWSZEDNIE_WEEKEND   PORA_DNIA  \\\n",
       "185609           709      32358                       1  Popołudnie   \n",
       "56081            681      29354                       1  Popołudnie   \n",
       "142215           148      24593                       1     Wieczór   \n",
       "302354          5700      55092                       1  Popołudnie   \n",
       "143385           316      19367                       1         Noc   \n",
       "...              ...        ...                     ...         ...   \n",
       "304216          2222      29057                       1     Wieczór   \n",
       "51738           5218      47812                       1     Poranek   \n",
       "334415           391      25766                       1  Popołudnie   \n",
       "323142           163      24431                       0  Popołudnie   \n",
       "198448           421      30380                       1  Popołudnie   \n",
       "\n",
       "        SPECJALNA_BUDOWA_OBIEKTU  \\\n",
       "185609                         0   \n",
       "56081                          0   \n",
       "142215                         0   \n",
       "302354                         0   \n",
       "143385                         0   \n",
       "...                          ...   \n",
       "304216                         0   \n",
       "51738                          0   \n",
       "334415                         1   \n",
       "323142                         0   \n",
       "198448                         0   \n",
       "\n",
       "                                ILOŚĆ_MIESZKAŃCÓW_OBIEKTU  \\\n",
       "185609  3 lub więcej osób dorosłych poniżej wieku emer...   \n",
       "56081                   Samotna osoba w wieku emerytalnym   \n",
       "142215  3 lub więcej osób dorosłych poniżej wieku emer...   \n",
       "302354                  Samotna osoba w wieku emerytalnym   \n",
       "143385                                               Inne   \n",
       "...                                                   ...   \n",
       "304216           Samotna osoba poniżej wieku emerytalnego   \n",
       "51738                   Samotna osoba w wieku emerytalnym   \n",
       "334415                           Para z dzieckiem/dziećmi   \n",
       "323142   3 lub więcej osób dorosłych z dzieckiem/dziećmi    \n",
       "198448           Samotna osoba poniżej wieku emerytalnego   \n",
       "\n",
       "        CZY_BUDYNEK_JEST_NORMALNIE_ZAJĘTY  \\\n",
       "185609                                  1   \n",
       "56081                                   1   \n",
       "142215                                  1   \n",
       "302354                                  1   \n",
       "143385                                  1   \n",
       "...                                   ...   \n",
       "304216                                  1   \n",
       "51738                                   1   \n",
       "334415                                  1   \n",
       "323142                                  1   \n",
       "198448                                  1   \n",
       "\n",
       "             CZY_CZUJNIK_DYMU_JEST_W_OBIEKCIE  LICZBA_CZUJNIKÓW_DYMU  \\\n",
       "185609       Alarm obecny i podniesiony alarm                      1   \n",
       "56081        Alarm obecny i podniesiony alarm                      1   \n",
       "142215           Alarm obecny, ale nie działa                      1   \n",
       "302354       Alarm obecny i podniesiony alarm                      1   \n",
       "143385       Alarm obecny i podniesiony alarm                      1   \n",
       "...                                       ...                    ...   \n",
       "304216                            Brak alarmu                      0   \n",
       "51738                             Brak alarmu                      0   \n",
       "334415                            Brak alarmu                      0   \n",
       "323142  Alarm obecny, ale nie podniósł alarmu                      1   \n",
       "198448           Alarm obecny, ale nie działa                      1   \n",
       "\n",
       "       RODZAJ_CZUJNIKA_DYMU_W_MIESZKANIU  ... SZYBKI_WZROST_POŻARU  \\\n",
       "185609                Zasilanie sieciowe  ...                    0   \n",
       "56081                Zasilanie bateryjne  ...                    0   \n",
       "142215               Zasilanie bateryjne  ...                    0   \n",
       "302354                Zasilanie sieciowe  ...                    0   \n",
       "143385                Zasilanie sieciowe  ...                    0   \n",
       "...                                  ...  ...                  ...   \n",
       "304216                       Brak alarmu  ...                    1   \n",
       "51738                        Brak alarmu  ...                    0   \n",
       "334415                       Brak alarmu  ...                    0   \n",
       "323142               Zasilanie bateryjne  ...                    0   \n",
       "198448               Zasilanie bateryjne  ...                    0   \n",
       "\n",
       "       KOD_POJAZDÓW KOD_PERSONELU  KOD_CZAS_INCYDENTU POSZKODOWANI_MARTWI  \\\n",
       "185609            1             2                   1                   0   \n",
       "56081             2             7                   2                   0   \n",
       "142215            2             7                   8                   0   \n",
       "302354            2             6                   3                   0   \n",
       "143385            4             8                   8                   0   \n",
       "...             ...           ...                 ...                 ...   \n",
       "304216            3             8                   2                   0   \n",
       "51738             1             2                   3                   0   \n",
       "334415            2             7                   2                   0   \n",
       "323142            3             8                   6                   0   \n",
       "198448            1             2                   2                   0   \n",
       "\n",
       "       URATOWANI KOD_EWAKUOWANI KOD_OBSZAR_USZKODZONY_PRZEZ_POŻAR  \\\n",
       "185609         0              0                                 0   \n",
       "56081          0              0                                 0   \n",
       "142215         0              0                                 1   \n",
       "302354         0              0                                 1   \n",
       "143385         0              0                                 1   \n",
       "...          ...            ...                               ...   \n",
       "304216         0              0                                 1   \n",
       "51738          0              0                                 1   \n",
       "334415         0              0                                 1   \n",
       "323142         0              0                                 1   \n",
       "198448         0              0                                 0   \n",
       "\n",
       "        KOD_OBSZAR USZKODZONY PRZEZ POŻAR_ORAZ_WODĘ SĄSIEDNI_OBIEKT_USZKODZONY  \n",
       "185609                                            0                          0  \n",
       "56081                                             2                          0  \n",
       "142215                                            5                          0  \n",
       "302354                                            2                          0  \n",
       "143385                                            4                          1  \n",
       "...                                             ...                        ...  \n",
       "304216                                            1                          0  \n",
       "51738                                             2                          0  \n",
       "334415                                            1                          0  \n",
       "323142                                            1                          0  \n",
       "198448                                            1                          0  \n",
       "\n",
       "[86561 rows x 31 columns]"
      ]
     },
     "execution_count": 12,
     "metadata": {},
     "output_type": "execute_result"
    }
   ],
   "source": [
    "data_test"
   ]
  },
  {
   "cell_type": "markdown",
   "id": "be399e03",
   "metadata": {
    "id": "be399e03"
   },
   "source": [
    "# REGRESJA LOGISTYCZNA"
   ]
  },
  {
   "cell_type": "code",
   "execution_count": 11,
   "id": "471f38e1",
   "metadata": {
    "id": "471f38e1"
   },
   "outputs": [],
   "source": [
    "from sklearn.linear_model import LogisticRegression\n",
    "\n",
    "\n",
    "model = make_pipeline(preprocessor, LogisticRegression(n_jobs = -1))"
   ]
  },
  {
   "cell_type": "code",
   "execution_count": 12,
   "id": "8cb3d608",
   "metadata": {
    "colab": {
     "base_uri": "https://localhost:8080/",
     "height": 192
    },
    "executionInfo": {
     "elapsed": 448,
     "status": "ok",
     "timestamp": 1658942774555,
     "user": {
      "displayName": "pawel kinczyk",
      "userId": "16956936289197048561"
     },
     "user_tz": -120
    },
    "id": "8cb3d608",
    "outputId": "628a3f57-c6c6-49be-b884-768ebcf46582"
   },
   "outputs": [
    {
     "data": {
      "text/html": [
       "<style>#sk-container-id-1 {color: black;background-color: white;}#sk-container-id-1 pre{padding: 0;}#sk-container-id-1 div.sk-toggleable {background-color: white;}#sk-container-id-1 label.sk-toggleable__label {cursor: pointer;display: block;width: 100%;margin-bottom: 0;padding: 0.3em;box-sizing: border-box;text-align: center;}#sk-container-id-1 label.sk-toggleable__label-arrow:before {content: \"▸\";float: left;margin-right: 0.25em;color: #696969;}#sk-container-id-1 label.sk-toggleable__label-arrow:hover:before {color: black;}#sk-container-id-1 div.sk-estimator:hover label.sk-toggleable__label-arrow:before {color: black;}#sk-container-id-1 div.sk-toggleable__content {max-height: 0;max-width: 0;overflow: hidden;text-align: left;background-color: #f0f8ff;}#sk-container-id-1 div.sk-toggleable__content pre {margin: 0.2em;color: black;border-radius: 0.25em;background-color: #f0f8ff;}#sk-container-id-1 input.sk-toggleable__control:checked~div.sk-toggleable__content {max-height: 200px;max-width: 100%;overflow: auto;}#sk-container-id-1 input.sk-toggleable__control:checked~label.sk-toggleable__label-arrow:before {content: \"▾\";}#sk-container-id-1 div.sk-estimator input.sk-toggleable__control:checked~label.sk-toggleable__label {background-color: #d4ebff;}#sk-container-id-1 div.sk-label input.sk-toggleable__control:checked~label.sk-toggleable__label {background-color: #d4ebff;}#sk-container-id-1 input.sk-hidden--visually {border: 0;clip: rect(1px 1px 1px 1px);clip: rect(1px, 1px, 1px, 1px);height: 1px;margin: -1px;overflow: hidden;padding: 0;position: absolute;width: 1px;}#sk-container-id-1 div.sk-estimator {font-family: monospace;background-color: #f0f8ff;border: 1px dotted black;border-radius: 0.25em;box-sizing: border-box;margin-bottom: 0.5em;}#sk-container-id-1 div.sk-estimator:hover {background-color: #d4ebff;}#sk-container-id-1 div.sk-parallel-item::after {content: \"\";width: 100%;border-bottom: 1px solid gray;flex-grow: 1;}#sk-container-id-1 div.sk-label:hover label.sk-toggleable__label {background-color: #d4ebff;}#sk-container-id-1 div.sk-serial::before {content: \"\";position: absolute;border-left: 1px solid gray;box-sizing: border-box;top: 0;bottom: 0;left: 50%;z-index: 0;}#sk-container-id-1 div.sk-serial {display: flex;flex-direction: column;align-items: center;background-color: white;padding-right: 0.2em;padding-left: 0.2em;position: relative;}#sk-container-id-1 div.sk-item {position: relative;z-index: 1;}#sk-container-id-1 div.sk-parallel {display: flex;align-items: stretch;justify-content: center;background-color: white;position: relative;}#sk-container-id-1 div.sk-item::before, #sk-container-id-1 div.sk-parallel-item::before {content: \"\";position: absolute;border-left: 1px solid gray;box-sizing: border-box;top: 0;bottom: 0;left: 50%;z-index: -1;}#sk-container-id-1 div.sk-parallel-item {display: flex;flex-direction: column;z-index: 1;position: relative;background-color: white;}#sk-container-id-1 div.sk-parallel-item:first-child::after {align-self: flex-end;width: 50%;}#sk-container-id-1 div.sk-parallel-item:last-child::after {align-self: flex-start;width: 50%;}#sk-container-id-1 div.sk-parallel-item:only-child::after {width: 0;}#sk-container-id-1 div.sk-dashed-wrapped {border: 1px dashed gray;margin: 0 0.4em 0.5em 0.4em;box-sizing: border-box;padding-bottom: 0.4em;background-color: white;}#sk-container-id-1 div.sk-label label {font-family: monospace;font-weight: bold;display: inline-block;line-height: 1.2em;}#sk-container-id-1 div.sk-label-container {text-align: center;}#sk-container-id-1 div.sk-container {/* jupyter's `normalize.less` sets `[hidden] { display: none; }` but bootstrap.min.css set `[hidden] { display: none !important; }` so we also need the `!important` here to be able to override the default hidden behavior on the sphinx rendered scikit-learn.org. See: https://github.com/scikit-learn/scikit-learn/issues/21755 */display: inline-block !important;position: relative;}#sk-container-id-1 div.sk-text-repr-fallback {display: none;}</style><div id=\"sk-container-id-1\" class=\"sk-top-container\"><div class=\"sk-text-repr-fallback\"><pre>Pipeline(steps=[(&#x27;columntransformer&#x27;,\n",
       "                 ColumnTransformer(transformers=[(&#x27;one-hot-encoder&#x27;,\n",
       "                                                  OneHotEncoder(handle_unknown=&#x27;ignore&#x27;),\n",
       "                                                  [&#x27;PORA_DNIA&#x27;,\n",
       "                                                   &#x27;ILOŚĆ_MIESZKAŃCÓW_OBIEKTU&#x27;,\n",
       "                                                   &#x27;CZY_CZUJNIK_DYMU_JEST_W_OBIEKCIE&#x27;,\n",
       "                                                   &#x27;RODZAJ_CZUJNIKA_DYMU_W_MIESZKANIU&#x27;,\n",
       "                                                   &#x27;POWÓD_ZŁEGO_ZADZIAŁANIA_ALRMU&#x27;,\n",
       "                                                   &#x27;CZAS_DO_ZAUWAŻENIA_POŻARU&#x27;,\n",
       "                                                   &#x27;CZAS_MIĘDZY_ODKRYCIEM_A_ZGŁOSZENIEM&#x27;,\n",
       "                                                   &#x27;CO_NAPĘDZA_Z...\n",
       "                                                   &#x27;LICZBA_CZUJNIKÓW_DYMU&#x27;,\n",
       "                                                   &#x27;PÓŹNE_WYWOŁANIE&#x27;,\n",
       "                                                   &#x27;CZY_SĄSIEDNI_OBIEKT_ZOSTAŁ_DOTKNIĘTY_POŻAREM&#x27;,\n",
       "                                                   &#x27;KOD_POJAZDÓW&#x27;,\n",
       "                                                   &#x27;KOD_PERSONELU&#x27;,\n",
       "                                                   &#x27;KOD_CZAS_INCYDENTU&#x27;,\n",
       "                                                   &#x27;POSZKODOWANI_MARTWI&#x27;,\n",
       "                                                   &#x27;URATOWANI&#x27;,\n",
       "                                                   &#x27;KOD_EWAKUOWANI&#x27;,\n",
       "                                                   &#x27;KOD_OBSZAR_USZKODZONY_PRZEZ_POŻAR&#x27;,\n",
       "                                                   &#x27;KOD_OBSZAR USZKODZONY &#x27;\n",
       "                                                   &#x27;PRZEZ POŻAR_ORAZ_WODĘ&#x27;,\n",
       "                                                   &#x27;SĄSIEDNI_OBIEKT_USZKODZONY&#x27;])])),\n",
       "                (&#x27;logisticregression&#x27;, LogisticRegression(n_jobs=-1))])</pre><b>In a Jupyter environment, please rerun this cell to show the HTML representation or trust the notebook. <br />On GitHub, the HTML representation is unable to render, please try loading this page with nbviewer.org.</b></div><div class=\"sk-container\" hidden><div class=\"sk-item sk-dashed-wrapped\"><div class=\"sk-label-container\"><div class=\"sk-label sk-toggleable\"><input class=\"sk-toggleable__control sk-hidden--visually\" id=\"sk-estimator-id-1\" type=\"checkbox\" ><label for=\"sk-estimator-id-1\" class=\"sk-toggleable__label sk-toggleable__label-arrow\">Pipeline</label><div class=\"sk-toggleable__content\"><pre>Pipeline(steps=[(&#x27;columntransformer&#x27;,\n",
       "                 ColumnTransformer(transformers=[(&#x27;one-hot-encoder&#x27;,\n",
       "                                                  OneHotEncoder(handle_unknown=&#x27;ignore&#x27;),\n",
       "                                                  [&#x27;PORA_DNIA&#x27;,\n",
       "                                                   &#x27;ILOŚĆ_MIESZKAŃCÓW_OBIEKTU&#x27;,\n",
       "                                                   &#x27;CZY_CZUJNIK_DYMU_JEST_W_OBIEKCIE&#x27;,\n",
       "                                                   &#x27;RODZAJ_CZUJNIKA_DYMU_W_MIESZKANIU&#x27;,\n",
       "                                                   &#x27;POWÓD_ZŁEGO_ZADZIAŁANIA_ALRMU&#x27;,\n",
       "                                                   &#x27;CZAS_DO_ZAUWAŻENIA_POŻARU&#x27;,\n",
       "                                                   &#x27;CZAS_MIĘDZY_ODKRYCIEM_A_ZGŁOSZENIEM&#x27;,\n",
       "                                                   &#x27;CO_NAPĘDZA_Z...\n",
       "                                                   &#x27;LICZBA_CZUJNIKÓW_DYMU&#x27;,\n",
       "                                                   &#x27;PÓŹNE_WYWOŁANIE&#x27;,\n",
       "                                                   &#x27;CZY_SĄSIEDNI_OBIEKT_ZOSTAŁ_DOTKNIĘTY_POŻAREM&#x27;,\n",
       "                                                   &#x27;KOD_POJAZDÓW&#x27;,\n",
       "                                                   &#x27;KOD_PERSONELU&#x27;,\n",
       "                                                   &#x27;KOD_CZAS_INCYDENTU&#x27;,\n",
       "                                                   &#x27;POSZKODOWANI_MARTWI&#x27;,\n",
       "                                                   &#x27;URATOWANI&#x27;,\n",
       "                                                   &#x27;KOD_EWAKUOWANI&#x27;,\n",
       "                                                   &#x27;KOD_OBSZAR_USZKODZONY_PRZEZ_POŻAR&#x27;,\n",
       "                                                   &#x27;KOD_OBSZAR USZKODZONY &#x27;\n",
       "                                                   &#x27;PRZEZ POŻAR_ORAZ_WODĘ&#x27;,\n",
       "                                                   &#x27;SĄSIEDNI_OBIEKT_USZKODZONY&#x27;])])),\n",
       "                (&#x27;logisticregression&#x27;, LogisticRegression(n_jobs=-1))])</pre></div></div></div><div class=\"sk-serial\"><div class=\"sk-item sk-dashed-wrapped\"><div class=\"sk-label-container\"><div class=\"sk-label sk-toggleable\"><input class=\"sk-toggleable__control sk-hidden--visually\" id=\"sk-estimator-id-2\" type=\"checkbox\" ><label for=\"sk-estimator-id-2\" class=\"sk-toggleable__label sk-toggleable__label-arrow\">columntransformer: ColumnTransformer</label><div class=\"sk-toggleable__content\"><pre>ColumnTransformer(transformers=[(&#x27;one-hot-encoder&#x27;,\n",
       "                                 OneHotEncoder(handle_unknown=&#x27;ignore&#x27;),\n",
       "                                 [&#x27;PORA_DNIA&#x27;, &#x27;ILOŚĆ_MIESZKAŃCÓW_OBIEKTU&#x27;,\n",
       "                                  &#x27;CZY_CZUJNIK_DYMU_JEST_W_OBIEKCIE&#x27;,\n",
       "                                  &#x27;RODZAJ_CZUJNIKA_DYMU_W_MIESZKANIU&#x27;,\n",
       "                                  &#x27;POWÓD_ZŁEGO_ZADZIAŁANIA_ALRMU&#x27;,\n",
       "                                  &#x27;CZAS_DO_ZAUWAŻENIA_POŻARU&#x27;,\n",
       "                                  &#x27;CZAS_MIĘDZY_ODKRYCIEM_A_ZGŁOSZENIEM&#x27;,\n",
       "                                  &#x27;CO_NAPĘDZA_ZAPŁON&#x27;, &#x27;ŹRÓDŁO_POŻARU&#x27;,\n",
       "                                  &#x27;LOKACJA_ROZPO...\n",
       "                                  &#x27;SPECJALNA_BUDOWA_OBIEKTU&#x27;,\n",
       "                                  &#x27;CZY_BUDYNEK_JEST_NORMALNIE_ZAJĘTY&#x27;,\n",
       "                                  &#x27;LICZBA_CZUJNIKÓW_DYMU&#x27;, &#x27;PÓŹNE_WYWOŁANIE&#x27;,\n",
       "                                  &#x27;CZY_SĄSIEDNI_OBIEKT_ZOSTAŁ_DOTKNIĘTY_POŻAREM&#x27;,\n",
       "                                  &#x27;KOD_POJAZDÓW&#x27;, &#x27;KOD_PERSONELU&#x27;,\n",
       "                                  &#x27;KOD_CZAS_INCYDENTU&#x27;, &#x27;POSZKODOWANI_MARTWI&#x27;,\n",
       "                                  &#x27;URATOWANI&#x27;, &#x27;KOD_EWAKUOWANI&#x27;,\n",
       "                                  &#x27;KOD_OBSZAR_USZKODZONY_PRZEZ_POŻAR&#x27;,\n",
       "                                  &#x27;KOD_OBSZAR USZKODZONY PRZEZ POŻAR_ORAZ_WODĘ&#x27;,\n",
       "                                  &#x27;SĄSIEDNI_OBIEKT_USZKODZONY&#x27;])])</pre></div></div></div><div class=\"sk-parallel\"><div class=\"sk-parallel-item\"><div class=\"sk-item\"><div class=\"sk-label-container\"><div class=\"sk-label sk-toggleable\"><input class=\"sk-toggleable__control sk-hidden--visually\" id=\"sk-estimator-id-3\" type=\"checkbox\" ><label for=\"sk-estimator-id-3\" class=\"sk-toggleable__label sk-toggleable__label-arrow\">one-hot-encoder</label><div class=\"sk-toggleable__content\"><pre>[&#x27;PORA_DNIA&#x27;, &#x27;ILOŚĆ_MIESZKAŃCÓW_OBIEKTU&#x27;, &#x27;CZY_CZUJNIK_DYMU_JEST_W_OBIEKCIE&#x27;, &#x27;RODZAJ_CZUJNIKA_DYMU_W_MIESZKANIU&#x27;, &#x27;POWÓD_ZŁEGO_ZADZIAŁANIA_ALRMU&#x27;, &#x27;CZAS_DO_ZAUWAŻENIA_POŻARU&#x27;, &#x27;CZAS_MIĘDZY_ODKRYCIEM_A_ZGŁOSZENIEM&#x27;, &#x27;CO_NAPĘDZA_ZAPŁON&#x27;, &#x27;ŹRÓDŁO_POŻARU&#x27;, &#x27;LOKACJA_ROZPOCZĘCIA_POŻARU&#x27;, &#x27;ZASIĘG_OGNIA_PO_PRZYBYCIU&#x27;, &#x27;PRZEDMIOT_KTÓRY_ZAPŁONĄŁ&#x27;, &#x27;PRZEDMIOT_ROZPRZESTRZENIAJĄCY&#x27;, &#x27;SZYBKI_WZROST_POŻARU&#x27;]</pre></div></div></div><div class=\"sk-serial\"><div class=\"sk-item\"><div class=\"sk-estimator sk-toggleable\"><input class=\"sk-toggleable__control sk-hidden--visually\" id=\"sk-estimator-id-4\" type=\"checkbox\" ><label for=\"sk-estimator-id-4\" class=\"sk-toggleable__label sk-toggleable__label-arrow\">OneHotEncoder</label><div class=\"sk-toggleable__content\"><pre>OneHotEncoder(handle_unknown=&#x27;ignore&#x27;)</pre></div></div></div></div></div></div><div class=\"sk-parallel-item\"><div class=\"sk-item\"><div class=\"sk-label-container\"><div class=\"sk-label sk-toggleable\"><input class=\"sk-toggleable__control sk-hidden--visually\" id=\"sk-estimator-id-5\" type=\"checkbox\" ><label for=\"sk-estimator-id-5\" class=\"sk-toggleable__label sk-toggleable__label-arrow\">min_max_scaler</label><div class=\"sk-toggleable__content\"><pre>[&#x27;ZAG_LUDNOŚCI&#x27;, &#x27;GDP_NA_OS&#x27;, &#x27;DNI POWSZEDNIE_WEEKEND&#x27;, &#x27;SPECJALNA_BUDOWA_OBIEKTU&#x27;, &#x27;CZY_BUDYNEK_JEST_NORMALNIE_ZAJĘTY&#x27;, &#x27;LICZBA_CZUJNIKÓW_DYMU&#x27;, &#x27;PÓŹNE_WYWOŁANIE&#x27;, &#x27;CZY_SĄSIEDNI_OBIEKT_ZOSTAŁ_DOTKNIĘTY_POŻAREM&#x27;, &#x27;KOD_POJAZDÓW&#x27;, &#x27;KOD_PERSONELU&#x27;, &#x27;KOD_CZAS_INCYDENTU&#x27;, &#x27;POSZKODOWANI_MARTWI&#x27;, &#x27;URATOWANI&#x27;, &#x27;KOD_EWAKUOWANI&#x27;, &#x27;KOD_OBSZAR_USZKODZONY_PRZEZ_POŻAR&#x27;, &#x27;KOD_OBSZAR USZKODZONY PRZEZ POŻAR_ORAZ_WODĘ&#x27;, &#x27;SĄSIEDNI_OBIEKT_USZKODZONY&#x27;]</pre></div></div></div><div class=\"sk-serial\"><div class=\"sk-item\"><div class=\"sk-estimator sk-toggleable\"><input class=\"sk-toggleable__control sk-hidden--visually\" id=\"sk-estimator-id-6\" type=\"checkbox\" ><label for=\"sk-estimator-id-6\" class=\"sk-toggleable__label sk-toggleable__label-arrow\">MinMaxScaler</label><div class=\"sk-toggleable__content\"><pre>MinMaxScaler()</pre></div></div></div></div></div></div></div></div><div class=\"sk-item\"><div class=\"sk-estimator sk-toggleable\"><input class=\"sk-toggleable__control sk-hidden--visually\" id=\"sk-estimator-id-7\" type=\"checkbox\" ><label for=\"sk-estimator-id-7\" class=\"sk-toggleable__label sk-toggleable__label-arrow\">LogisticRegression</label><div class=\"sk-toggleable__content\"><pre>LogisticRegression(n_jobs=-1)</pre></div></div></div></div></div></div></div>"
      ],
      "text/plain": [
       "Pipeline(steps=[('columntransformer',\n",
       "                 ColumnTransformer(transformers=[('one-hot-encoder',\n",
       "                                                  OneHotEncoder(handle_unknown='ignore'),\n",
       "                                                  ['PORA_DNIA',\n",
       "                                                   'ILOŚĆ_MIESZKAŃCÓW_OBIEKTU',\n",
       "                                                   'CZY_CZUJNIK_DYMU_JEST_W_OBIEKCIE',\n",
       "                                                   'RODZAJ_CZUJNIKA_DYMU_W_MIESZKANIU',\n",
       "                                                   'POWÓD_ZŁEGO_ZADZIAŁANIA_ALRMU',\n",
       "                                                   'CZAS_DO_ZAUWAŻENIA_POŻARU',\n",
       "                                                   'CZAS_MIĘDZY_ODKRYCIEM_A_ZGŁOSZENIEM',\n",
       "                                                   'CO_NAPĘDZA_Z...\n",
       "                                                   'LICZBA_CZUJNIKÓW_DYMU',\n",
       "                                                   'PÓŹNE_WYWOŁANIE',\n",
       "                                                   'CZY_SĄSIEDNI_OBIEKT_ZOSTAŁ_DOTKNIĘTY_POŻAREM',\n",
       "                                                   'KOD_POJAZDÓW',\n",
       "                                                   'KOD_PERSONELU',\n",
       "                                                   'KOD_CZAS_INCYDENTU',\n",
       "                                                   'POSZKODOWANI_MARTWI',\n",
       "                                                   'URATOWANI',\n",
       "                                                   'KOD_EWAKUOWANI',\n",
       "                                                   'KOD_OBSZAR_USZKODZONY_PRZEZ_POŻAR',\n",
       "                                                   'KOD_OBSZAR USZKODZONY '\n",
       "                                                   'PRZEZ POŻAR_ORAZ_WODĘ',\n",
       "                                                   'SĄSIEDNI_OBIEKT_USZKODZONY'])])),\n",
       "                ('logisticregression', LogisticRegression(n_jobs=-1))])"
      ]
     },
     "execution_count": 12,
     "metadata": {},
     "output_type": "execute_result"
    }
   ],
   "source": [
    "from sklearn import set_config\n",
    "set_config(display='diagram')\n",
    "model"
   ]
  },
  {
   "cell_type": "code",
   "execution_count": 33,
   "id": "8d5c74cb",
   "metadata": {
    "id": "8d5c74cb"
   },
   "outputs": [],
   "source": [
    "start = time.time()"
   ]
  },
  {
   "cell_type": "code",
   "execution_count": null,
   "id": "4293eb50",
   "metadata": {
    "colab": {
     "base_uri": "https://localhost:8080/"
    },
    "executionInfo": {
     "elapsed": 332,
     "status": "ok",
     "timestamp": 1658656596048,
     "user": {
      "displayName": "pawel kinczyk",
      "userId": "16956936289197048561"
     },
     "user_tz": -120
    },
    "id": "4293eb50",
    "outputId": "9c520965-5824-4d41-a08e-7d104bc27bb5"
   },
   "outputs": [
    {
     "data": {
      "text/plain": [
       "dict_keys(['memory', 'steps', 'verbose', 'columntransformer', 'logisticregression', 'columntransformer__n_jobs', 'columntransformer__remainder', 'columntransformer__sparse_threshold', 'columntransformer__transformer_weights', 'columntransformer__transformers', 'columntransformer__verbose', 'columntransformer__verbose_feature_names_out', 'columntransformer__one-hot-encoder', 'columntransformer__min_max_scaler', 'columntransformer__one-hot-encoder__categories', 'columntransformer__one-hot-encoder__drop', 'columntransformer__one-hot-encoder__dtype', 'columntransformer__one-hot-encoder__handle_unknown', 'columntransformer__one-hot-encoder__sparse', 'columntransformer__min_max_scaler__clip', 'columntransformer__min_max_scaler__copy', 'columntransformer__min_max_scaler__feature_range', 'logisticregression__C', 'logisticregression__class_weight', 'logisticregression__dual', 'logisticregression__fit_intercept', 'logisticregression__intercept_scaling', 'logisticregression__l1_ratio', 'logisticregression__max_iter', 'logisticregression__multi_class', 'logisticregression__n_jobs', 'logisticregression__penalty', 'logisticregression__random_state', 'logisticregression__solver', 'logisticregression__tol', 'logisticregression__verbose', 'logisticregression__warm_start'])"
      ]
     },
     "execution_count": 14,
     "metadata": {},
     "output_type": "execute_result"
    }
   ],
   "source": [
    "model.get_params().keys()"
   ]
  },
  {
   "cell_type": "code",
   "execution_count": null,
   "id": "f1c545c6",
   "metadata": {
    "colab": {
     "base_uri": "https://localhost:8080/"
    },
    "executionInfo": {
     "elapsed": 246,
     "status": "ok",
     "timestamp": 1658661786409,
     "user": {
      "displayName": "pawel kinczyk",
      "userId": "16956936289197048561"
     },
     "user_tz": -120
    },
    "id": "f1c545c6",
    "outputId": "14ed3233-54b2-4b16-bb35-cc513cc5a189"
   },
   "outputs": [
    {
     "data": {
      "text/plain": [
       "{'logisticregression__max_iter': [1000, 1200],\n",
       " 'logisticregression__penalty': ['l2']}"
      ]
     },
     "execution_count": 31,
     "metadata": {},
     "output_type": "execute_result"
    }
   ],
   "source": [
    "param1 = {}\n",
    "param1['logisticregression__penalty'] = ['l2']\n",
    "param1['logisticregression__C'] = [1.0,1.1,2.0,3.0]\n",
    "param1['logisticregression__intercept_scaling'] = [1.0,1.1,2.0,3.0]\n",
    "param1['logisticregression__solver'] = ['newton-cg', 'lbfgs']\n",
    "param1['logisticregression__max_iter'] = [1000,1200]\n",
    "param1['logisticregression__multi_class'] = ['auto', 'ovr', 'multinomial']\n",
    "param1"
   ]
  },
  {
   "cell_type": "code",
   "execution_count": null,
   "id": "e3a95c63",
   "metadata": {
    "id": "e3a95c63"
   },
   "outputs": [],
   "source": [
    "grid1=GridSearchCV(model,param_grid=param1,scoring=\"accuracy\", refit=True,error_score=1)"
   ]
  },
  {
   "cell_type": "code",
   "execution_count": null,
   "id": "21a8f01a",
   "metadata": {
    "id": "21a8f01a"
   },
   "outputs": [],
   "source": [
    "model1 = grid1.fit(data_train, target_train)"
   ]
  },
  {
   "cell_type": "code",
   "execution_count": null,
   "id": "194ba40c",
   "metadata": {
    "colab": {
     "base_uri": "https://localhost:8080/"
    },
    "executionInfo": {
     "elapsed": 12,
     "status": "ok",
     "timestamp": 1658662004155,
     "user": {
      "displayName": "pawel kinczyk",
      "userId": "16956936289197048561"
     },
     "user_tz": -120
    },
    "id": "194ba40c",
    "outputId": "4c8ebdb7-f634-417f-dc31-f166d73a4614"
   },
   "outputs": [
    {
     "data": {
      "text/plain": [
       "0.9445167548659686"
      ]
     },
     "execution_count": 34,
     "metadata": {},
     "output_type": "execute_result"
    }
   ],
   "source": [
    "grid1.best_score_"
   ]
  },
  {
   "cell_type": "code",
   "execution_count": null,
   "id": "68e6510b",
   "metadata": {
    "colab": {
     "base_uri": "https://localhost:8080/"
    },
    "executionInfo": {
     "elapsed": 10,
     "status": "ok",
     "timestamp": 1658662004155,
     "user": {
      "displayName": "pawel kinczyk",
      "userId": "16956936289197048561"
     },
     "user_tz": -120
    },
    "id": "68e6510b",
    "outputId": "9ac4040e-ea64-4e24-9422-cbbbd4c12a5e"
   },
   "outputs": [
    {
     "data": {
      "text/plain": [
       "{'logisticregression__max_iter': 1000, 'logisticregression__penalty': 'l2'}"
      ]
     },
     "execution_count": 35,
     "metadata": {},
     "output_type": "execute_result"
    }
   ],
   "source": [
    "grid1.best_params_"
   ]
  },
  {
   "cell_type": "code",
   "execution_count": null,
   "id": "9f976051",
   "metadata": {
    "colab": {
     "base_uri": "https://localhost:8080/",
     "height": 200
    },
    "executionInfo": {
     "elapsed": 7,
     "status": "error",
     "timestamp": 1658662004156,
     "user": {
      "displayName": "pawel kinczyk",
      "userId": "16956936289197048561"
     },
     "user_tz": -120
    },
    "id": "9f976051",
    "outputId": "339854e5-d0fc-4c30-a460-c32d6bb9ae9f"
   },
   "outputs": [
    {
     "ename": "NameError",
     "evalue": "ignored",
     "output_type": "error",
     "traceback": [
      "\u001b[0;31m---------------------------------------------------------------------------\u001b[0m",
      "\u001b[0;31mNameError\u001b[0m                                 Traceback (most recent call last)",
      "\u001b[0;32m<ipython-input-36-c5ed6c971199>\u001b[0m in \u001b[0;36m<module>\u001b[0;34m()\u001b[0m\n\u001b[1;32m      1\u001b[0m \u001b[0mend\u001b[0m \u001b[0;34m=\u001b[0m \u001b[0mtime\u001b[0m\u001b[0;34m.\u001b[0m\u001b[0mtime\u001b[0m\u001b[0;34m(\u001b[0m\u001b[0;34m)\u001b[0m\u001b[0;34m\u001b[0m\u001b[0;34m\u001b[0m\u001b[0m\n\u001b[0;32m----> 2\u001b[0;31m \u001b[0mtime1\u001b[0m \u001b[0;34m=\u001b[0m\u001b[0mend\u001b[0m\u001b[0;34m-\u001b[0m\u001b[0mstart\u001b[0m\u001b[0;34m\u001b[0m\u001b[0;34m\u001b[0m\u001b[0m\n\u001b[0m\u001b[1;32m      3\u001b[0m \u001b[0mtime1\u001b[0m\u001b[0;34m\u001b[0m\u001b[0;34m\u001b[0m\u001b[0m\n",
      "\u001b[0;31mNameError\u001b[0m: name 'start' is not defined"
     ]
    }
   ],
   "source": [
    "end = time.time()\n",
    "time1 =end-start\n",
    "time1"
   ]
  },
  {
   "cell_type": "code",
   "execution_count": null,
   "id": "FgQetg-d8c4W",
   "metadata": {
    "colab": {
     "base_uri": "https://localhost:8080/"
    },
    "executionInfo": {
     "elapsed": 240,
     "status": "ok",
     "timestamp": 1658662134730,
     "user": {
      "displayName": "pawel kinczyk",
      "userId": "16956936289197048561"
     },
     "user_tz": -120
    },
    "id": "FgQetg-d8c4W",
    "outputId": "07315bd0-9009-43e0-add8-adad6dd9323f"
   },
   "outputs": [
    {
     "name": "stdout",
     "output_type": "stream",
     "text": [
      "                                              params  mean_test_score\n",
      "0  {'logisticregression__max_iter': 1000, 'logist...         0.944517\n",
      "1  {'logisticregression__max_iter': 1200, 'logist...         0.944517\n"
     ]
    }
   ],
   "source": [
    "cv_results1 = pd.DataFrame.from_dict(grid1.cv_results_)\n",
    "df1 = cv_results1[['params', 'mean_test_score']]\n",
    "\n",
    "pd.set_option(\"display.max_rows\", None, \"display.max_columns\", None)\n",
    "pd.set_option('expand_frame_repr', False)\n",
    "print(df1)"
   ]
  },
  {
   "cell_type": "code",
   "execution_count": null,
   "id": "mRh4kCFW8jj1",
   "metadata": {
    "id": "mRh4kCFW8jj1"
   },
   "outputs": [],
   "source": [
    "df1.to_excel(\"/content/drive/MyDrive/Organizacja/Nauka/MGR IiE/Python/pred1.xlsx\")"
   ]
  },
  {
   "cell_type": "markdown",
   "id": "f46e06c6",
   "metadata": {
    "id": "f46e06c6"
   },
   "source": [
    "# Random forest"
   ]
  },
  {
   "cell_type": "code",
   "execution_count": 34,
   "id": "7820de0e",
   "metadata": {
    "id": "7820de0e"
   },
   "outputs": [],
   "source": [
    "from sklearn.ensemble import RandomForestClassifier\n",
    "from sklearn.datasets import make_classification\n",
    "\n",
    "model2 = make_pipeline(preprocessor, RandomForestClassifier())"
   ]
  },
  {
   "cell_type": "code",
   "execution_count": 35,
   "id": "b251c16b",
   "metadata": {
    "colab": {
     "base_uri": "https://localhost:8080/",
     "height": 192
    },
    "executionInfo": {
     "elapsed": 235,
     "status": "ok",
     "timestamp": 1658664966019,
     "user": {
      "displayName": "pawel kinczyk",
      "userId": "16956936289197048561"
     },
     "user_tz": -120
    },
    "id": "b251c16b",
    "outputId": "0c01c771-e747-4fdf-a9e4-50588971ddf2"
   },
   "outputs": [
    {
     "data": {
      "text/html": [
       "<style>#sk-container-id-3 {color: black;background-color: white;}#sk-container-id-3 pre{padding: 0;}#sk-container-id-3 div.sk-toggleable {background-color: white;}#sk-container-id-3 label.sk-toggleable__label {cursor: pointer;display: block;width: 100%;margin-bottom: 0;padding: 0.3em;box-sizing: border-box;text-align: center;}#sk-container-id-3 label.sk-toggleable__label-arrow:before {content: \"▸\";float: left;margin-right: 0.25em;color: #696969;}#sk-container-id-3 label.sk-toggleable__label-arrow:hover:before {color: black;}#sk-container-id-3 div.sk-estimator:hover label.sk-toggleable__label-arrow:before {color: black;}#sk-container-id-3 div.sk-toggleable__content {max-height: 0;max-width: 0;overflow: hidden;text-align: left;background-color: #f0f8ff;}#sk-container-id-3 div.sk-toggleable__content pre {margin: 0.2em;color: black;border-radius: 0.25em;background-color: #f0f8ff;}#sk-container-id-3 input.sk-toggleable__control:checked~div.sk-toggleable__content {max-height: 200px;max-width: 100%;overflow: auto;}#sk-container-id-3 input.sk-toggleable__control:checked~label.sk-toggleable__label-arrow:before {content: \"▾\";}#sk-container-id-3 div.sk-estimator input.sk-toggleable__control:checked~label.sk-toggleable__label {background-color: #d4ebff;}#sk-container-id-3 div.sk-label input.sk-toggleable__control:checked~label.sk-toggleable__label {background-color: #d4ebff;}#sk-container-id-3 input.sk-hidden--visually {border: 0;clip: rect(1px 1px 1px 1px);clip: rect(1px, 1px, 1px, 1px);height: 1px;margin: -1px;overflow: hidden;padding: 0;position: absolute;width: 1px;}#sk-container-id-3 div.sk-estimator {font-family: monospace;background-color: #f0f8ff;border: 1px dotted black;border-radius: 0.25em;box-sizing: border-box;margin-bottom: 0.5em;}#sk-container-id-3 div.sk-estimator:hover {background-color: #d4ebff;}#sk-container-id-3 div.sk-parallel-item::after {content: \"\";width: 100%;border-bottom: 1px solid gray;flex-grow: 1;}#sk-container-id-3 div.sk-label:hover label.sk-toggleable__label {background-color: #d4ebff;}#sk-container-id-3 div.sk-serial::before {content: \"\";position: absolute;border-left: 1px solid gray;box-sizing: border-box;top: 0;bottom: 0;left: 50%;z-index: 0;}#sk-container-id-3 div.sk-serial {display: flex;flex-direction: column;align-items: center;background-color: white;padding-right: 0.2em;padding-left: 0.2em;position: relative;}#sk-container-id-3 div.sk-item {position: relative;z-index: 1;}#sk-container-id-3 div.sk-parallel {display: flex;align-items: stretch;justify-content: center;background-color: white;position: relative;}#sk-container-id-3 div.sk-item::before, #sk-container-id-3 div.sk-parallel-item::before {content: \"\";position: absolute;border-left: 1px solid gray;box-sizing: border-box;top: 0;bottom: 0;left: 50%;z-index: -1;}#sk-container-id-3 div.sk-parallel-item {display: flex;flex-direction: column;z-index: 1;position: relative;background-color: white;}#sk-container-id-3 div.sk-parallel-item:first-child::after {align-self: flex-end;width: 50%;}#sk-container-id-3 div.sk-parallel-item:last-child::after {align-self: flex-start;width: 50%;}#sk-container-id-3 div.sk-parallel-item:only-child::after {width: 0;}#sk-container-id-3 div.sk-dashed-wrapped {border: 1px dashed gray;margin: 0 0.4em 0.5em 0.4em;box-sizing: border-box;padding-bottom: 0.4em;background-color: white;}#sk-container-id-3 div.sk-label label {font-family: monospace;font-weight: bold;display: inline-block;line-height: 1.2em;}#sk-container-id-3 div.sk-label-container {text-align: center;}#sk-container-id-3 div.sk-container {/* jupyter's `normalize.less` sets `[hidden] { display: none; }` but bootstrap.min.css set `[hidden] { display: none !important; }` so we also need the `!important` here to be able to override the default hidden behavior on the sphinx rendered scikit-learn.org. See: https://github.com/scikit-learn/scikit-learn/issues/21755 */display: inline-block !important;position: relative;}#sk-container-id-3 div.sk-text-repr-fallback {display: none;}</style><div id=\"sk-container-id-3\" class=\"sk-top-container\"><div class=\"sk-text-repr-fallback\"><pre>Pipeline(steps=[(&#x27;columntransformer&#x27;,\n",
       "                 ColumnTransformer(transformers=[(&#x27;one-hot-encoder&#x27;,\n",
       "                                                  OneHotEncoder(handle_unknown=&#x27;ignore&#x27;),\n",
       "                                                  [&#x27;PORA_DNIA&#x27;,\n",
       "                                                   &#x27;ILOŚĆ_MIESZKAŃCÓW_OBIEKTU&#x27;,\n",
       "                                                   &#x27;CZY_CZUJNIK_DYMU_JEST_W_OBIEKCIE&#x27;,\n",
       "                                                   &#x27;RODZAJ_CZUJNIKA_DYMU_W_MIESZKANIU&#x27;,\n",
       "                                                   &#x27;POWÓD_ZŁEGO_ZADZIAŁANIA_ALRMU&#x27;,\n",
       "                                                   &#x27;CZAS_DO_ZAUWAŻENIA_POŻARU&#x27;,\n",
       "                                                   &#x27;CZAS_MIĘDZY_ODKRYCIEM_A_ZGŁOSZENIEM&#x27;,\n",
       "                                                   &#x27;CO_NAPĘDZA_Z...\n",
       "                                                   &#x27;LICZBA_CZUJNIKÓW_DYMU&#x27;,\n",
       "                                                   &#x27;PÓŹNE_WYWOŁANIE&#x27;,\n",
       "                                                   &#x27;CZY_SĄSIEDNI_OBIEKT_ZOSTAŁ_DOTKNIĘTY_POŻAREM&#x27;,\n",
       "                                                   &#x27;KOD_POJAZDÓW&#x27;,\n",
       "                                                   &#x27;KOD_PERSONELU&#x27;,\n",
       "                                                   &#x27;KOD_CZAS_INCYDENTU&#x27;,\n",
       "                                                   &#x27;POSZKODOWANI_MARTWI&#x27;,\n",
       "                                                   &#x27;URATOWANI&#x27;,\n",
       "                                                   &#x27;KOD_EWAKUOWANI&#x27;,\n",
       "                                                   &#x27;KOD_OBSZAR_USZKODZONY_PRZEZ_POŻAR&#x27;,\n",
       "                                                   &#x27;KOD_OBSZAR USZKODZONY &#x27;\n",
       "                                                   &#x27;PRZEZ POŻAR_ORAZ_WODĘ&#x27;,\n",
       "                                                   &#x27;SĄSIEDNI_OBIEKT_USZKODZONY&#x27;])])),\n",
       "                (&#x27;randomforestclassifier&#x27;, RandomForestClassifier())])</pre><b>In a Jupyter environment, please rerun this cell to show the HTML representation or trust the notebook. <br />On GitHub, the HTML representation is unable to render, please try loading this page with nbviewer.org.</b></div><div class=\"sk-container\" hidden><div class=\"sk-item sk-dashed-wrapped\"><div class=\"sk-label-container\"><div class=\"sk-label sk-toggleable\"><input class=\"sk-toggleable__control sk-hidden--visually\" id=\"sk-estimator-id-15\" type=\"checkbox\" ><label for=\"sk-estimator-id-15\" class=\"sk-toggleable__label sk-toggleable__label-arrow\">Pipeline</label><div class=\"sk-toggleable__content\"><pre>Pipeline(steps=[(&#x27;columntransformer&#x27;,\n",
       "                 ColumnTransformer(transformers=[(&#x27;one-hot-encoder&#x27;,\n",
       "                                                  OneHotEncoder(handle_unknown=&#x27;ignore&#x27;),\n",
       "                                                  [&#x27;PORA_DNIA&#x27;,\n",
       "                                                   &#x27;ILOŚĆ_MIESZKAŃCÓW_OBIEKTU&#x27;,\n",
       "                                                   &#x27;CZY_CZUJNIK_DYMU_JEST_W_OBIEKCIE&#x27;,\n",
       "                                                   &#x27;RODZAJ_CZUJNIKA_DYMU_W_MIESZKANIU&#x27;,\n",
       "                                                   &#x27;POWÓD_ZŁEGO_ZADZIAŁANIA_ALRMU&#x27;,\n",
       "                                                   &#x27;CZAS_DO_ZAUWAŻENIA_POŻARU&#x27;,\n",
       "                                                   &#x27;CZAS_MIĘDZY_ODKRYCIEM_A_ZGŁOSZENIEM&#x27;,\n",
       "                                                   &#x27;CO_NAPĘDZA_Z...\n",
       "                                                   &#x27;LICZBA_CZUJNIKÓW_DYMU&#x27;,\n",
       "                                                   &#x27;PÓŹNE_WYWOŁANIE&#x27;,\n",
       "                                                   &#x27;CZY_SĄSIEDNI_OBIEKT_ZOSTAŁ_DOTKNIĘTY_POŻAREM&#x27;,\n",
       "                                                   &#x27;KOD_POJAZDÓW&#x27;,\n",
       "                                                   &#x27;KOD_PERSONELU&#x27;,\n",
       "                                                   &#x27;KOD_CZAS_INCYDENTU&#x27;,\n",
       "                                                   &#x27;POSZKODOWANI_MARTWI&#x27;,\n",
       "                                                   &#x27;URATOWANI&#x27;,\n",
       "                                                   &#x27;KOD_EWAKUOWANI&#x27;,\n",
       "                                                   &#x27;KOD_OBSZAR_USZKODZONY_PRZEZ_POŻAR&#x27;,\n",
       "                                                   &#x27;KOD_OBSZAR USZKODZONY &#x27;\n",
       "                                                   &#x27;PRZEZ POŻAR_ORAZ_WODĘ&#x27;,\n",
       "                                                   &#x27;SĄSIEDNI_OBIEKT_USZKODZONY&#x27;])])),\n",
       "                (&#x27;randomforestclassifier&#x27;, RandomForestClassifier())])</pre></div></div></div><div class=\"sk-serial\"><div class=\"sk-item sk-dashed-wrapped\"><div class=\"sk-label-container\"><div class=\"sk-label sk-toggleable\"><input class=\"sk-toggleable__control sk-hidden--visually\" id=\"sk-estimator-id-16\" type=\"checkbox\" ><label for=\"sk-estimator-id-16\" class=\"sk-toggleable__label sk-toggleable__label-arrow\">columntransformer: ColumnTransformer</label><div class=\"sk-toggleable__content\"><pre>ColumnTransformer(transformers=[(&#x27;one-hot-encoder&#x27;,\n",
       "                                 OneHotEncoder(handle_unknown=&#x27;ignore&#x27;),\n",
       "                                 [&#x27;PORA_DNIA&#x27;, &#x27;ILOŚĆ_MIESZKAŃCÓW_OBIEKTU&#x27;,\n",
       "                                  &#x27;CZY_CZUJNIK_DYMU_JEST_W_OBIEKCIE&#x27;,\n",
       "                                  &#x27;RODZAJ_CZUJNIKA_DYMU_W_MIESZKANIU&#x27;,\n",
       "                                  &#x27;POWÓD_ZŁEGO_ZADZIAŁANIA_ALRMU&#x27;,\n",
       "                                  &#x27;CZAS_DO_ZAUWAŻENIA_POŻARU&#x27;,\n",
       "                                  &#x27;CZAS_MIĘDZY_ODKRYCIEM_A_ZGŁOSZENIEM&#x27;,\n",
       "                                  &#x27;CO_NAPĘDZA_ZAPŁON&#x27;, &#x27;ŹRÓDŁO_POŻARU&#x27;,\n",
       "                                  &#x27;LOKACJA_ROZPO...\n",
       "                                  &#x27;SPECJALNA_BUDOWA_OBIEKTU&#x27;,\n",
       "                                  &#x27;CZY_BUDYNEK_JEST_NORMALNIE_ZAJĘTY&#x27;,\n",
       "                                  &#x27;LICZBA_CZUJNIKÓW_DYMU&#x27;, &#x27;PÓŹNE_WYWOŁANIE&#x27;,\n",
       "                                  &#x27;CZY_SĄSIEDNI_OBIEKT_ZOSTAŁ_DOTKNIĘTY_POŻAREM&#x27;,\n",
       "                                  &#x27;KOD_POJAZDÓW&#x27;, &#x27;KOD_PERSONELU&#x27;,\n",
       "                                  &#x27;KOD_CZAS_INCYDENTU&#x27;, &#x27;POSZKODOWANI_MARTWI&#x27;,\n",
       "                                  &#x27;URATOWANI&#x27;, &#x27;KOD_EWAKUOWANI&#x27;,\n",
       "                                  &#x27;KOD_OBSZAR_USZKODZONY_PRZEZ_POŻAR&#x27;,\n",
       "                                  &#x27;KOD_OBSZAR USZKODZONY PRZEZ POŻAR_ORAZ_WODĘ&#x27;,\n",
       "                                  &#x27;SĄSIEDNI_OBIEKT_USZKODZONY&#x27;])])</pre></div></div></div><div class=\"sk-parallel\"><div class=\"sk-parallel-item\"><div class=\"sk-item\"><div class=\"sk-label-container\"><div class=\"sk-label sk-toggleable\"><input class=\"sk-toggleable__control sk-hidden--visually\" id=\"sk-estimator-id-17\" type=\"checkbox\" ><label for=\"sk-estimator-id-17\" class=\"sk-toggleable__label sk-toggleable__label-arrow\">one-hot-encoder</label><div class=\"sk-toggleable__content\"><pre>[&#x27;PORA_DNIA&#x27;, &#x27;ILOŚĆ_MIESZKAŃCÓW_OBIEKTU&#x27;, &#x27;CZY_CZUJNIK_DYMU_JEST_W_OBIEKCIE&#x27;, &#x27;RODZAJ_CZUJNIKA_DYMU_W_MIESZKANIU&#x27;, &#x27;POWÓD_ZŁEGO_ZADZIAŁANIA_ALRMU&#x27;, &#x27;CZAS_DO_ZAUWAŻENIA_POŻARU&#x27;, &#x27;CZAS_MIĘDZY_ODKRYCIEM_A_ZGŁOSZENIEM&#x27;, &#x27;CO_NAPĘDZA_ZAPŁON&#x27;, &#x27;ŹRÓDŁO_POŻARU&#x27;, &#x27;LOKACJA_ROZPOCZĘCIA_POŻARU&#x27;, &#x27;ZASIĘG_OGNIA_PO_PRZYBYCIU&#x27;, &#x27;PRZEDMIOT_KTÓRY_ZAPŁONĄŁ&#x27;, &#x27;PRZEDMIOT_ROZPRZESTRZENIAJĄCY&#x27;, &#x27;SZYBKI_WZROST_POŻARU&#x27;]</pre></div></div></div><div class=\"sk-serial\"><div class=\"sk-item\"><div class=\"sk-estimator sk-toggleable\"><input class=\"sk-toggleable__control sk-hidden--visually\" id=\"sk-estimator-id-18\" type=\"checkbox\" ><label for=\"sk-estimator-id-18\" class=\"sk-toggleable__label sk-toggleable__label-arrow\">OneHotEncoder</label><div class=\"sk-toggleable__content\"><pre>OneHotEncoder(handle_unknown=&#x27;ignore&#x27;)</pre></div></div></div></div></div></div><div class=\"sk-parallel-item\"><div class=\"sk-item\"><div class=\"sk-label-container\"><div class=\"sk-label sk-toggleable\"><input class=\"sk-toggleable__control sk-hidden--visually\" id=\"sk-estimator-id-19\" type=\"checkbox\" ><label for=\"sk-estimator-id-19\" class=\"sk-toggleable__label sk-toggleable__label-arrow\">min_max_scaler</label><div class=\"sk-toggleable__content\"><pre>[&#x27;ZAG_LUDNOŚCI&#x27;, &#x27;GDP_NA_OS&#x27;, &#x27;DNI POWSZEDNIE_WEEKEND&#x27;, &#x27;SPECJALNA_BUDOWA_OBIEKTU&#x27;, &#x27;CZY_BUDYNEK_JEST_NORMALNIE_ZAJĘTY&#x27;, &#x27;LICZBA_CZUJNIKÓW_DYMU&#x27;, &#x27;PÓŹNE_WYWOŁANIE&#x27;, &#x27;CZY_SĄSIEDNI_OBIEKT_ZOSTAŁ_DOTKNIĘTY_POŻAREM&#x27;, &#x27;KOD_POJAZDÓW&#x27;, &#x27;KOD_PERSONELU&#x27;, &#x27;KOD_CZAS_INCYDENTU&#x27;, &#x27;POSZKODOWANI_MARTWI&#x27;, &#x27;URATOWANI&#x27;, &#x27;KOD_EWAKUOWANI&#x27;, &#x27;KOD_OBSZAR_USZKODZONY_PRZEZ_POŻAR&#x27;, &#x27;KOD_OBSZAR USZKODZONY PRZEZ POŻAR_ORAZ_WODĘ&#x27;, &#x27;SĄSIEDNI_OBIEKT_USZKODZONY&#x27;]</pre></div></div></div><div class=\"sk-serial\"><div class=\"sk-item\"><div class=\"sk-estimator sk-toggleable\"><input class=\"sk-toggleable__control sk-hidden--visually\" id=\"sk-estimator-id-20\" type=\"checkbox\" ><label for=\"sk-estimator-id-20\" class=\"sk-toggleable__label sk-toggleable__label-arrow\">MinMaxScaler</label><div class=\"sk-toggleable__content\"><pre>MinMaxScaler()</pre></div></div></div></div></div></div></div></div><div class=\"sk-item\"><div class=\"sk-estimator sk-toggleable\"><input class=\"sk-toggleable__control sk-hidden--visually\" id=\"sk-estimator-id-21\" type=\"checkbox\" ><label for=\"sk-estimator-id-21\" class=\"sk-toggleable__label sk-toggleable__label-arrow\">RandomForestClassifier</label><div class=\"sk-toggleable__content\"><pre>RandomForestClassifier()</pre></div></div></div></div></div></div></div>"
      ],
      "text/plain": [
       "Pipeline(steps=[('columntransformer',\n",
       "                 ColumnTransformer(transformers=[('one-hot-encoder',\n",
       "                                                  OneHotEncoder(handle_unknown='ignore'),\n",
       "                                                  ['PORA_DNIA',\n",
       "                                                   'ILOŚĆ_MIESZKAŃCÓW_OBIEKTU',\n",
       "                                                   'CZY_CZUJNIK_DYMU_JEST_W_OBIEKCIE',\n",
       "                                                   'RODZAJ_CZUJNIKA_DYMU_W_MIESZKANIU',\n",
       "                                                   'POWÓD_ZŁEGO_ZADZIAŁANIA_ALRMU',\n",
       "                                                   'CZAS_DO_ZAUWAŻENIA_POŻARU',\n",
       "                                                   'CZAS_MIĘDZY_ODKRYCIEM_A_ZGŁOSZENIEM',\n",
       "                                                   'CO_NAPĘDZA_Z...\n",
       "                                                   'LICZBA_CZUJNIKÓW_DYMU',\n",
       "                                                   'PÓŹNE_WYWOŁANIE',\n",
       "                                                   'CZY_SĄSIEDNI_OBIEKT_ZOSTAŁ_DOTKNIĘTY_POŻAREM',\n",
       "                                                   'KOD_POJAZDÓW',\n",
       "                                                   'KOD_PERSONELU',\n",
       "                                                   'KOD_CZAS_INCYDENTU',\n",
       "                                                   'POSZKODOWANI_MARTWI',\n",
       "                                                   'URATOWANI',\n",
       "                                                   'KOD_EWAKUOWANI',\n",
       "                                                   'KOD_OBSZAR_USZKODZONY_PRZEZ_POŻAR',\n",
       "                                                   'KOD_OBSZAR USZKODZONY '\n",
       "                                                   'PRZEZ POŻAR_ORAZ_WODĘ',\n",
       "                                                   'SĄSIEDNI_OBIEKT_USZKODZONY'])])),\n",
       "                ('randomforestclassifier', RandomForestClassifier())])"
      ]
     },
     "execution_count": 35,
     "metadata": {},
     "output_type": "execute_result"
    }
   ],
   "source": [
    "from sklearn import set_config\n",
    "set_config(display='diagram')\n",
    "model2"
   ]
  },
  {
   "cell_type": "code",
   "execution_count": 36,
   "id": "4379e10d",
   "metadata": {
    "id": "4379e10d"
   },
   "outputs": [],
   "source": [
    "start = time.time()"
   ]
  },
  {
   "cell_type": "code",
   "execution_count": 37,
   "id": "9d3600e5",
   "metadata": {
    "colab": {
     "base_uri": "https://localhost:8080/"
    },
    "executionInfo": {
     "elapsed": 3,
     "status": "ok",
     "timestamp": 1658664968913,
     "user": {
      "displayName": "pawel kinczyk",
      "userId": "16956936289197048561"
     },
     "user_tz": -120
    },
    "id": "9d3600e5",
    "outputId": "30be7ff7-657c-4f8f-8c16-9d7745265b47"
   },
   "outputs": [
    {
     "data": {
      "text/plain": [
       "dict_keys(['memory', 'steps', 'verbose', 'columntransformer', 'randomforestclassifier', 'columntransformer__n_jobs', 'columntransformer__remainder', 'columntransformer__sparse_threshold', 'columntransformer__transformer_weights', 'columntransformer__transformers', 'columntransformer__verbose', 'columntransformer__verbose_feature_names_out', 'columntransformer__one-hot-encoder', 'columntransformer__min_max_scaler', 'columntransformer__one-hot-encoder__categories', 'columntransformer__one-hot-encoder__drop', 'columntransformer__one-hot-encoder__dtype', 'columntransformer__one-hot-encoder__handle_unknown', 'columntransformer__one-hot-encoder__max_categories', 'columntransformer__one-hot-encoder__min_frequency', 'columntransformer__one-hot-encoder__sparse', 'columntransformer__min_max_scaler__clip', 'columntransformer__min_max_scaler__copy', 'columntransformer__min_max_scaler__feature_range', 'randomforestclassifier__bootstrap', 'randomforestclassifier__ccp_alpha', 'randomforestclassifier__class_weight', 'randomforestclassifier__criterion', 'randomforestclassifier__max_depth', 'randomforestclassifier__max_features', 'randomforestclassifier__max_leaf_nodes', 'randomforestclassifier__max_samples', 'randomforestclassifier__min_impurity_decrease', 'randomforestclassifier__min_samples_leaf', 'randomforestclassifier__min_samples_split', 'randomforestclassifier__min_weight_fraction_leaf', 'randomforestclassifier__n_estimators', 'randomforestclassifier__n_jobs', 'randomforestclassifier__oob_score', 'randomforestclassifier__random_state', 'randomforestclassifier__verbose', 'randomforestclassifier__warm_start'])"
      ]
     },
     "execution_count": 37,
     "metadata": {},
     "output_type": "execute_result"
    }
   ],
   "source": [
    "model2.get_params().keys()"
   ]
  },
  {
   "cell_type": "code",
   "execution_count": 38,
   "id": "24455ab7",
   "metadata": {
    "colab": {
     "base_uri": "https://localhost:8080/"
    },
    "executionInfo": {
     "elapsed": 235,
     "status": "ok",
     "timestamp": 1658664971375,
     "user": {
      "displayName": "pawel kinczyk",
      "userId": "16956936289197048561"
     },
     "user_tz": -120
    },
    "id": "24455ab7",
    "outputId": "78746fde-dddb-4635-e757-e956fc4ee98b"
   },
   "outputs": [
    {
     "data": {
      "text/plain": [
       "{'randomforestclassifier__n_estimators': [100, 200, 300],\n",
       " 'randomforestclassifier__criterion': ['gini', 'entropy', 'log_loss'],\n",
       " 'randomforestclassifier__bootstrap': ['True']}"
      ]
     },
     "execution_count": 38,
     "metadata": {},
     "output_type": "execute_result"
    }
   ],
   "source": [
    "param2 = {}\n",
    "param2['randomforestclassifier__n_estimators'] = [300,400,500]\n",
    "param2['randomforestclassifier__criterion'] = ['gini', 'entropy', 'log_loss']\n",
    "#param2['randomforestclassifier__min_samples_split'] = [2,6,10]\n",
    "#param2['randomforestclassifier__min_samples_leaf'] = [1,2,6]\n",
    "param2['randomforestclassifier__bootstrap'] = ['True']\n",
    "#param2['randomforestclassifier__max_features'] = [None, 'sqrt', 'log2']\n",
    "param2"
   ]
  },
  {
   "cell_type": "code",
   "execution_count": 39,
   "id": "7d98fd97",
   "metadata": {
    "id": "7d98fd97"
   },
   "outputs": [],
   "source": [
    "grid2=GridSearchCV(model2,param_grid=param2,scoring=\"accuracy\", n_jobs = -1)"
   ]
  },
  {
   "cell_type": "code",
   "execution_count": 40,
   "id": "e1d29429",
   "metadata": {
    "id": "e1d29429"
   },
   "outputs": [],
   "source": [
    "model2 = grid2.fit(data_train, target_train)"
   ]
  },
  {
   "cell_type": "code",
   "execution_count": 41,
   "id": "46ca1c4d",
   "metadata": {
    "id": "46ca1c4d"
   },
   "outputs": [
    {
     "data": {
      "text/plain": [
       "0.9487989167488822"
      ]
     },
     "execution_count": 41,
     "metadata": {},
     "output_type": "execute_result"
    }
   ],
   "source": [
    "grid2.best_score_"
   ]
  },
  {
   "cell_type": "code",
   "execution_count": 42,
   "id": "56232c52",
   "metadata": {
    "id": "56232c52"
   },
   "outputs": [
    {
     "data": {
      "text/plain": [
       "{'randomforestclassifier__bootstrap': 'True',\n",
       " 'randomforestclassifier__criterion': 'gini',\n",
       " 'randomforestclassifier__n_estimators': 300}"
      ]
     },
     "execution_count": 42,
     "metadata": {},
     "output_type": "execute_result"
    }
   ],
   "source": [
    "grid2.best_params_"
   ]
  },
  {
   "cell_type": "code",
   "execution_count": 43,
   "id": "e44ae470",
   "metadata": {
    "id": "e44ae470"
   },
   "outputs": [
    {
     "data": {
      "text/plain": [
       "8593.625869989395"
      ]
     },
     "execution_count": 43,
     "metadata": {},
     "output_type": "execute_result"
    }
   ],
   "source": [
    "end = time.time()\n",
    "time2 =end-start\n",
    "time2"
   ]
  },
  {
   "cell_type": "code",
   "execution_count": 44,
   "id": "ol9n37SQPDxn",
   "metadata": {
    "id": "ol9n37SQPDxn"
   },
   "outputs": [
    {
     "data": {
      "text/plain": [
       "array([0.94820973, 0.94844079, 0.94879892, 0.94815197, 0.94865643,\n",
       "       0.94874115, 0.94814042, 0.94879121, 0.94876811])"
      ]
     },
     "execution_count": 44,
     "metadata": {},
     "output_type": "execute_result"
    }
   ],
   "source": [
    "scores2 = model2.cv_results_['mean_test_score']\n",
    "scores2"
   ]
  },
  {
   "cell_type": "code",
   "execution_count": 45,
   "id": "yAn0FX4V68Xu",
   "metadata": {
    "id": "yAn0FX4V68Xu"
   },
   "outputs": [
    {
     "name": "stdout",
     "output_type": "stream",
     "text": [
      "                                              params  mean_test_score\n",
      "0  {'randomforestclassifier__bootstrap': 'True', ...         0.948210\n",
      "1  {'randomforestclassifier__bootstrap': 'True', ...         0.948441\n",
      "2  {'randomforestclassifier__bootstrap': 'True', ...         0.948799\n",
      "3  {'randomforestclassifier__bootstrap': 'True', ...         0.948152\n",
      "4  {'randomforestclassifier__bootstrap': 'True', ...         0.948656\n",
      "5  {'randomforestclassifier__bootstrap': 'True', ...         0.948741\n",
      "6  {'randomforestclassifier__bootstrap': 'True', ...         0.948140\n",
      "7  {'randomforestclassifier__bootstrap': 'True', ...         0.948791\n",
      "8  {'randomforestclassifier__bootstrap': 'True', ...         0.948768\n"
     ]
    }
   ],
   "source": [
    "cv_results2 = pd.DataFrame.from_dict(grid2.cv_results_)\n",
    "df2 = cv_results2[['params', 'mean_test_score']]\n",
    "\n",
    "pd.set_option(\"display.max_rows\", None, \"display.max_columns\", None)\n",
    "pd.set_option('expand_frame_repr', False)\n",
    "print(df2)"
   ]
  },
  {
   "cell_type": "code",
   "execution_count": 46,
   "id": "JwqUzRPT7gUd",
   "metadata": {
    "id": "JwqUzRPT7gUd"
   },
   "outputs": [],
   "source": [
    "df2.to_excel(\"pred2.xlsx\")"
   ]
  },
  {
   "cell_type": "markdown",
   "id": "b03e5d54",
   "metadata": {
    "id": "b03e5d54"
   },
   "source": [
    "# Decision tree"
   ]
  },
  {
   "cell_type": "code",
   "execution_count": null,
   "id": "44bde595",
   "metadata": {
    "id": "44bde595"
   },
   "outputs": [],
   "source": [
    "from sklearn.tree import DecisionTreeClassifier"
   ]
  },
  {
   "cell_type": "code",
   "execution_count": null,
   "id": "3915af5a",
   "metadata": {
    "colab": {
     "base_uri": "https://localhost:8080/"
    },
    "executionInfo": {
     "elapsed": 4,
     "status": "ok",
     "timestamp": 1658666705555,
     "user": {
      "displayName": "pawel kinczyk",
      "userId": "16956936289197048561"
     },
     "user_tz": -120
    },
    "id": "3915af5a",
    "outputId": "7ae53257-432e-4f50-84f0-1668dd68021a"
   },
   "outputs": [
    {
     "data": {
      "text/plain": [
       "{'decisiontreeclassifier__criterion': ['gini', 'entropy'],\n",
       " 'decisiontreeclassifier__max_features': ['sqrt', 'log2'],\n",
       " 'decisiontreeclassifier__min_samples_split': [2, 6, 10],\n",
       " 'decisiontreeclassifier__splitter': ['best', 'random']}"
      ]
     },
     "execution_count": 18,
     "metadata": {},
     "output_type": "execute_result"
    }
   ],
   "source": [
    "param3 = {}\n",
    "param3['decisiontreeclassifier__criterion'] = ['gini', 'entropy']\n",
    "param3['decisiontreeclassifier__max_features'] = [None, 'sqrt', 'log2']\n",
    "param3['decisiontreeclassifier__splitter'] = ['best', 'random']\n",
    "param3['decisiontreeclassifier__min_samples_split'] = [2, 6, 10]\n",
    "param3['decisiontreeclassifier__max_features'] = ['sqrt', 'log2']\n",
    "param3"
   ]
  },
  {
   "cell_type": "code",
   "execution_count": null,
   "id": "7bf920d9",
   "metadata": {
    "id": "7bf920d9"
   },
   "outputs": [],
   "source": [
    "model3 = make_pipeline(preprocessor, DecisionTreeClassifier())"
   ]
  },
  {
   "cell_type": "code",
   "execution_count": null,
   "id": "96a2984c",
   "metadata": {
    "id": "96a2984c"
   },
   "outputs": [],
   "source": [
    "grid3=GridSearchCV(model3,param_grid=param3,scoring=\"accuracy\", n_jobs = n_cpus)"
   ]
  },
  {
   "cell_type": "code",
   "execution_count": null,
   "id": "6249f3d6",
   "metadata": {
    "id": "6249f3d6"
   },
   "outputs": [],
   "source": [
    "model3 = grid3.fit(data_train, target_train)"
   ]
  },
  {
   "cell_type": "code",
   "execution_count": null,
   "id": "e15ca0cc",
   "metadata": {
    "id": "e15ca0cc"
   },
   "outputs": [],
   "source": [
    "model3.best_score_"
   ]
  },
  {
   "cell_type": "code",
   "execution_count": null,
   "id": "1a2acde6",
   "metadata": {
    "id": "1a2acde6"
   },
   "outputs": [],
   "source": [
    "model3.best_params_"
   ]
  },
  {
   "cell_type": "code",
   "execution_count": null,
   "id": "5b6f8d1b",
   "metadata": {
    "colab": {
     "base_uri": "https://localhost:8080/"
    },
    "executionInfo": {
     "elapsed": 2,
     "status": "ok",
     "timestamp": 1658666719946,
     "user": {
      "displayName": "pawel kinczyk",
      "userId": "16956936289197048561"
     },
     "user_tz": -120
    },
    "id": "5b6f8d1b",
    "outputId": "ec71a94d-3981-4dde-95b4-99e7e408ab5c",
    "scrolled": true
   },
   "outputs": [
    {
     "data": {
      "text/plain": [
       "dict_keys(['memory', 'steps', 'verbose', 'columntransformer', 'decisiontreeclassifier', 'columntransformer__n_jobs', 'columntransformer__remainder', 'columntransformer__sparse_threshold', 'columntransformer__transformer_weights', 'columntransformer__transformers', 'columntransformer__verbose', 'columntransformer__verbose_feature_names_out', 'columntransformer__one-hot-encoder', 'columntransformer__min_max_scaler', 'columntransformer__one-hot-encoder__categories', 'columntransformer__one-hot-encoder__drop', 'columntransformer__one-hot-encoder__dtype', 'columntransformer__one-hot-encoder__handle_unknown', 'columntransformer__one-hot-encoder__sparse', 'columntransformer__min_max_scaler__clip', 'columntransformer__min_max_scaler__copy', 'columntransformer__min_max_scaler__feature_range', 'decisiontreeclassifier__ccp_alpha', 'decisiontreeclassifier__class_weight', 'decisiontreeclassifier__criterion', 'decisiontreeclassifier__max_depth', 'decisiontreeclassifier__max_features', 'decisiontreeclassifier__max_leaf_nodes', 'decisiontreeclassifier__min_impurity_decrease', 'decisiontreeclassifier__min_samples_leaf', 'decisiontreeclassifier__min_samples_split', 'decisiontreeclassifier__min_weight_fraction_leaf', 'decisiontreeclassifier__random_state', 'decisiontreeclassifier__splitter'])"
      ]
     },
     "execution_count": 23,
     "metadata": {},
     "output_type": "execute_result"
    }
   ],
   "source": [
    "model3.get_params().keys()"
   ]
  },
  {
   "cell_type": "code",
   "execution_count": null,
   "id": "876f4f49",
   "metadata": {
    "id": "876f4f49"
   },
   "outputs": [],
   "source": [
    "end = time.time()\n",
    "time3 =end-start\n",
    "time3"
   ]
  },
  {
   "cell_type": "code",
   "execution_count": null,
   "id": "4eae5bac",
   "metadata": {
    "id": "4eae5bac"
   },
   "outputs": [],
   "source": [
    "from sklearn.tree import plot_tree\n",
    "from sklearn import tree"
   ]
  },
  {
   "cell_type": "code",
   "execution_count": null,
   "id": "VUNyGADh9GzW",
   "metadata": {
    "id": "VUNyGADh9GzW"
   },
   "outputs": [],
   "source": [
    "cv_results3 = pd.DataFrame.from_dict(grid3.cv_results_)\n",
    "df3 = cv_results3[['params', 'mean_test_score']]\n",
    "\n",
    "pd.set_option(\"display.max_rows\", None, \"display.max_columns\", None)\n",
    "pd.set_option('expand_frame_repr', False)\n",
    "print(df3)"
   ]
  },
  {
   "cell_type": "code",
   "execution_count": null,
   "id": "fgVAdEeL9GzX",
   "metadata": {
    "id": "fgVAdEeL9GzX"
   },
   "outputs": [],
   "source": [
    "df3.to_excel(\"/content/drive/MyDrive/Organizacja/Nauka/MGR IiE/Python/pred3.xlsx\")"
   ]
  },
  {
   "cell_type": "markdown",
   "id": "30974212",
   "metadata": {
    "id": "30974212"
   },
   "source": [
    "# K NAJBLIŻSZYCH SĄSIADÓW"
   ]
  },
  {
   "cell_type": "code",
   "execution_count": 34,
   "id": "bf38ccde",
   "metadata": {
    "id": "bf38ccde"
   },
   "outputs": [],
   "source": [
    "from sklearn.neighbors import KNeighborsClassifier"
   ]
  },
  {
   "cell_type": "code",
   "execution_count": 35,
   "id": "a02b23b8",
   "metadata": {
    "id": "a02b23b8"
   },
   "outputs": [],
   "source": [
    "start = time.time()"
   ]
  },
  {
   "cell_type": "code",
   "execution_count": 36,
   "id": "cb5fd4da",
   "metadata": {
    "colab": {
     "base_uri": "https://localhost:8080/"
    },
    "executionInfo": {
     "elapsed": 9,
     "status": "ok",
     "timestamp": 1658667015671,
     "user": {
      "displayName": "pawel kinczyk",
      "userId": "16956936289197048561"
     },
     "user_tz": -120
    },
    "id": "cb5fd4da",
    "outputId": "5ed57990-6b03-4898-f74d-06255913c566"
   },
   "outputs": [
    {
     "data": {
      "text/plain": [
       "{'kneighborsclassifier__n_neighbors': [6, 7, 8]}"
      ]
     },
     "execution_count": 36,
     "metadata": {},
     "output_type": "execute_result"
    }
   ],
   "source": [
    "param4 = {}\n",
    "param4['kneighborsclassifier__n_neighbors'] = [6,7,8]\n",
    "#param4['kneighborsclassifier__weights'] = ['uniform', 'distance']\n",
    "#param4['kneighborsclassifier__leaf_size'] = [20, 30]\n",
    "#param4['kneighborsclassifier__p'] = [1,2]\n",
    "param4"
   ]
  },
  {
   "cell_type": "code",
   "execution_count": 37,
   "id": "eb7ff692",
   "metadata": {
    "id": "eb7ff692"
   },
   "outputs": [],
   "source": [
    "model4 = make_pipeline(preprocessor, KNeighborsClassifier(n_jobs = 10))"
   ]
  },
  {
   "cell_type": "code",
   "execution_count": 38,
   "id": "9865ace0",
   "metadata": {
    "id": "9865ace0"
   },
   "outputs": [],
   "source": [
    "grid4=GridSearchCV(model4,param_grid=param4,scoring=\"accuracy\", refit=True, n_jobs = 10)"
   ]
  },
  {
   "cell_type": "code",
   "execution_count": 39,
   "id": "ff6675db",
   "metadata": {
    "id": "ff6675db"
   },
   "outputs": [],
   "source": [
    "model4 = grid4.fit(data_train, target_train)"
   ]
  },
  {
   "cell_type": "code",
   "execution_count": 40,
   "id": "f82239e6",
   "metadata": {
    "id": "f82239e6"
   },
   "outputs": [
    {
     "data": {
      "text/plain": [
       "0.9330835408694768"
      ]
     },
     "execution_count": 40,
     "metadata": {},
     "output_type": "execute_result"
    }
   ],
   "source": [
    "model4.best_score_"
   ]
  },
  {
   "cell_type": "code",
   "execution_count": 41,
   "id": "0347fec9",
   "metadata": {
    "id": "0347fec9"
   },
   "outputs": [
    {
     "data": {
      "text/plain": [
       "{'kneighborsclassifier__n_neighbors': 7}"
      ]
     },
     "execution_count": 41,
     "metadata": {},
     "output_type": "execute_result"
    }
   ],
   "source": [
    "model4.best_params_"
   ]
  },
  {
   "cell_type": "code",
   "execution_count": 42,
   "id": "9ea8f56d",
   "metadata": {
    "id": "9ea8f56d",
    "scrolled": true
   },
   "outputs": [
    {
     "data": {
      "text/plain": [
       "dict_keys(['cv', 'error_score', 'estimator__memory', 'estimator__steps', 'estimator__verbose', 'estimator__columntransformer', 'estimator__kneighborsclassifier', 'estimator__columntransformer__n_jobs', 'estimator__columntransformer__remainder', 'estimator__columntransformer__sparse_threshold', 'estimator__columntransformer__transformer_weights', 'estimator__columntransformer__transformers', 'estimator__columntransformer__verbose', 'estimator__columntransformer__verbose_feature_names_out', 'estimator__columntransformer__one-hot-encoder', 'estimator__columntransformer__min_max_scaler', 'estimator__columntransformer__one-hot-encoder__categories', 'estimator__columntransformer__one-hot-encoder__drop', 'estimator__columntransformer__one-hot-encoder__dtype', 'estimator__columntransformer__one-hot-encoder__handle_unknown', 'estimator__columntransformer__one-hot-encoder__max_categories', 'estimator__columntransformer__one-hot-encoder__min_frequency', 'estimator__columntransformer__one-hot-encoder__sparse', 'estimator__columntransformer__min_max_scaler__clip', 'estimator__columntransformer__min_max_scaler__copy', 'estimator__columntransformer__min_max_scaler__feature_range', 'estimator__kneighborsclassifier__algorithm', 'estimator__kneighborsclassifier__leaf_size', 'estimator__kneighborsclassifier__metric', 'estimator__kneighborsclassifier__metric_params', 'estimator__kneighborsclassifier__n_jobs', 'estimator__kneighborsclassifier__n_neighbors', 'estimator__kneighborsclassifier__p', 'estimator__kneighborsclassifier__weights', 'estimator', 'n_jobs', 'param_grid', 'pre_dispatch', 'refit', 'return_train_score', 'scoring', 'verbose'])"
      ]
     },
     "execution_count": 42,
     "metadata": {},
     "output_type": "execute_result"
    }
   ],
   "source": [
    "model4.get_params().keys()"
   ]
  },
  {
   "cell_type": "code",
   "execution_count": 43,
   "id": "a2c1f3f4",
   "metadata": {
    "id": "a2c1f3f4"
   },
   "outputs": [
    {
     "data": {
      "text/plain": [
       "4839.557332515717"
      ]
     },
     "execution_count": 43,
     "metadata": {},
     "output_type": "execute_result"
    }
   ],
   "source": [
    "end = time.time()\n",
    "time4 =end-start\n",
    "time4"
   ]
  },
  {
   "cell_type": "code",
   "execution_count": 44,
   "id": "kXEtpx4S9ZwH",
   "metadata": {
    "id": "kXEtpx4S9ZwH"
   },
   "outputs": [
    {
     "name": "stdout",
     "output_type": "stream",
     "text": [
      "                                     params  mean_test_score\n",
      "0  {'kneighborsclassifier__n_neighbors': 6}         0.929918\n",
      "1  {'kneighborsclassifier__n_neighbors': 7}         0.933084\n",
      "2  {'kneighborsclassifier__n_neighbors': 8}         0.931909\n"
     ]
    }
   ],
   "source": [
    "cv_results4 = pd.DataFrame.from_dict(grid4.cv_results_)\n",
    "df4 = cv_results4[['params', 'mean_test_score']]\n",
    "\n",
    "pd.set_option(\"display.max_rows\", None, \"display.max_columns\", None)\n",
    "pd.set_option('expand_frame_repr', False)\n",
    "print(df4)"
   ]
  },
  {
   "cell_type": "code",
   "execution_count": 45,
   "id": "J-DDwcYW9ZwI",
   "metadata": {
    "id": "J-DDwcYW9ZwI"
   },
   "outputs": [],
   "source": [
    "df4.to_excel(\"pred4.1.xlsx\")"
   ]
  },
  {
   "cell_type": "markdown",
   "id": "15015083",
   "metadata": {
    "id": "15015083"
   },
   "source": [
    "# SVC"
   ]
  },
  {
   "cell_type": "code",
   "execution_count": null,
   "id": "f63f11a8",
   "metadata": {
    "id": "f63f11a8"
   },
   "outputs": [],
   "source": [
    "from sklearn.svm import SVC"
   ]
  },
  {
   "cell_type": "code",
   "execution_count": null,
   "id": "ef6595e0",
   "metadata": {
    "id": "ef6595e0"
   },
   "outputs": [],
   "source": [
    "model5 = make_pipeline(preprocessor, SVC())"
   ]
  },
  {
   "cell_type": "code",
   "execution_count": null,
   "id": "75b6088c",
   "metadata": {
    "id": "75b6088c"
   },
   "outputs": [],
   "source": [
    "start = time.time()"
   ]
  },
  {
   "cell_type": "code",
   "execution_count": null,
   "id": "ff4aafd8",
   "metadata": {
    "colab": {
     "base_uri": "https://localhost:8080/"
    },
    "executionInfo": {
     "elapsed": 380,
     "status": "ok",
     "timestamp": 1658667511659,
     "user": {
      "displayName": "pawel kinczyk",
      "userId": "16956936289197048561"
     },
     "user_tz": -120
    },
    "id": "ff4aafd8",
    "outputId": "e4c2dbd4-5424-4aaa-e46f-49f4586ac5a9"
   },
   "outputs": [],
   "source": [
    "param5 = {}\n",
    "#param5['svc__C'] = [1.0,2.0]\n",
    "param5['svc__kernel'] = ['linear', 'poly', 'rbf', 'sigmoid','precomputed']\n",
    "#param5['svc__degree'] = [3, 5]\n",
    "#param5['svc__gamma'] = ['scale', 'auto']\n",
    "#param5['svc__decision_function_shape'] = ['ovo', 'ovr']\n",
    "param5"
   ]
  },
  {
   "cell_type": "code",
   "execution_count": null,
   "id": "e4617093",
   "metadata": {
    "id": "e4617093"
   },
   "outputs": [],
   "source": [
    "grid5=GridSearchCV(model5,param_grid=param5,scoring=\"accuracy\", refit=True, n_jobs = -1)"
   ]
  },
  {
   "cell_type": "code",
   "execution_count": null,
   "id": "c2c61ba2",
   "metadata": {
    "id": "c2c61ba2"
   },
   "outputs": [],
   "source": [
    "model5 = grid5.fit(data_train, target_train)"
   ]
  },
  {
   "cell_type": "code",
   "execution_count": null,
   "id": "e5a078c1",
   "metadata": {
    "id": "e5a078c1"
   },
   "outputs": [],
   "source": [
    "model5.best_score_"
   ]
  },
  {
   "cell_type": "code",
   "execution_count": null,
   "id": "5aac7c3b",
   "metadata": {
    "id": "5aac7c3b"
   },
   "outputs": [],
   "source": [
    "model5.best_params_"
   ]
  },
  {
   "cell_type": "code",
   "execution_count": null,
   "id": "5fafbe7e",
   "metadata": {
    "id": "5fafbe7e",
    "scrolled": true
   },
   "outputs": [],
   "source": [
    "model5.get_params().keys()"
   ]
  },
  {
   "cell_type": "code",
   "execution_count": null,
   "id": "58438dc9",
   "metadata": {
    "id": "58438dc9"
   },
   "outputs": [],
   "source": [
    "end = time.time()\n",
    "time5 =end-start\n",
    "time5"
   ]
  },
  {
   "cell_type": "code",
   "execution_count": null,
   "id": "UFu6jw0d-eaH",
   "metadata": {
    "id": "UFu6jw0d-eaH"
   },
   "outputs": [],
   "source": [
    "cv_results5 = pd.DataFrame.from_dict(grid5.cv_results_)\n",
    "df5 = cv_results5[['params', 'mean_test_score']]\n",
    "\n",
    "pd.set_option(\"display.max_rows\", None, \"display.max_columns\", None)\n",
    "pd.set_option('expand_frame_repr', False)\n",
    "print(df5)"
   ]
  },
  {
   "cell_type": "code",
   "execution_count": null,
   "id": "de9WEAej-eaH",
   "metadata": {
    "id": "de9WEAej-eaH"
   },
   "outputs": [],
   "source": [
    "df5.to_excel(\"pred5.xlsx\")"
   ]
  },
  {
   "cell_type": "markdown",
   "id": "660be97f",
   "metadata": {
    "id": "660be97f"
   },
   "source": [
    "# EXTRA TREE CLASSIFIER"
   ]
  },
  {
   "cell_type": "code",
   "execution_count": null,
   "id": "df59abb0",
   "metadata": {
    "id": "df59abb0"
   },
   "outputs": [],
   "source": [
    "from sklearn.tree import ExtraTreeClassifier"
   ]
  },
  {
   "cell_type": "code",
   "execution_count": null,
   "id": "d98f3d88",
   "metadata": {
    "id": "d98f3d88"
   },
   "outputs": [],
   "source": [
    "model6 = make_pipeline(preprocessor, ExtraTreeClassifier())"
   ]
  },
  {
   "cell_type": "code",
   "execution_count": null,
   "id": "ae391321",
   "metadata": {
    "id": "ae391321"
   },
   "outputs": [],
   "source": [
    "start = time.time()"
   ]
  },
  {
   "cell_type": "code",
   "execution_count": null,
   "id": "89a22efb",
   "metadata": {
    "colab": {
     "base_uri": "https://localhost:8080/"
    },
    "executionInfo": {
     "elapsed": 2,
     "status": "ok",
     "timestamp": 1658667921985,
     "user": {
      "displayName": "pawel kinczyk",
      "userId": "16956936289197048561"
     },
     "user_tz": -120
    },
    "id": "89a22efb",
    "outputId": "144c9113-5869-401c-b9d5-600369f46048"
   },
   "outputs": [
    {
     "data": {
      "text/plain": [
       "{'extratreeclassifier__criterion': ['gini', 'entropy', 'log_loss'],\n",
       " 'extratreeclassifier__max_features': ['sqrt', 'log2', None],\n",
       " 'extratreeclassifier__min_samples_leaf': [1, 2, 4],\n",
       " 'extratreeclassifier__min_samples_split': [2, 4, 6],\n",
       " 'extratreeclassifier__splitter': ['random', 'best']}"
      ]
     },
     "execution_count": 18,
     "metadata": {},
     "output_type": "execute_result"
    }
   ],
   "source": [
    "param6 = {}\n",
    "param6['extratreeclassifier__criterion'] = ['gini', 'entropy','log_loss']\n",
    "param6['extratreeclassifier__splitter'] = ['random', 'best']\n",
    "param6['extratreeclassifier__max_features'] = ['auto', 'sqrt', 'log2']\n",
    "param6['extratreeclassifier__min_samples_split'] = [2, 4, 6]\n",
    "param6['extratreeclassifier__min_samples_leaf'] = [1, 2, 4]\n",
    "param6['extratreeclassifier__max_features'] = ['sqrt', 'log2', None]\n",
    "param6"
   ]
  },
  {
   "cell_type": "code",
   "execution_count": null,
   "id": "5db0a606",
   "metadata": {
    "id": "5db0a606"
   },
   "outputs": [],
   "source": [
    "grid6=GridSearchCV(model6,param_grid=param6,scoring=\"accuracy\",refit=True, n_jobs = n_cpus)"
   ]
  },
  {
   "cell_type": "code",
   "execution_count": null,
   "id": "97a92b6a",
   "metadata": {
    "id": "97a92b6a"
   },
   "outputs": [],
   "source": [
    "model6 = grid6.fit(data_train, target_train)"
   ]
  },
  {
   "cell_type": "code",
   "execution_count": null,
   "id": "407f5b5d",
   "metadata": {
    "id": "407f5b5d"
   },
   "outputs": [],
   "source": [
    "model6.best_score_"
   ]
  },
  {
   "cell_type": "code",
   "execution_count": null,
   "id": "5e368ee5",
   "metadata": {
    "id": "5e368ee5"
   },
   "outputs": [],
   "source": [
    "model6.best_params_"
   ]
  },
  {
   "cell_type": "code",
   "execution_count": null,
   "id": "6d2b7548",
   "metadata": {
    "id": "6d2b7548",
    "scrolled": true
   },
   "outputs": [],
   "source": [
    "model6.get_params().keys()"
   ]
  },
  {
   "cell_type": "code",
   "execution_count": null,
   "id": "cd551c28",
   "metadata": {
    "id": "cd551c28"
   },
   "outputs": [],
   "source": [
    "end = time.time()\n",
    "time6 =end-start\n",
    "time6"
   ]
  },
  {
   "cell_type": "code",
   "execution_count": null,
   "id": "-oZXRTof-zGy",
   "metadata": {
    "id": "-oZXRTof-zGy"
   },
   "outputs": [],
   "source": [
    "cv_results6 = pd.DataFrame.from_dict(grid6.cv_results_)\n",
    "df6 = cv_results6[['params', 'mean_test_score']]\n",
    "\n",
    "pd.set_option(\"display.max_rows\", None, \"display.max_columns\", None)\n",
    "pd.set_option('expand_frame_repr', False)\n",
    "print(df6)"
   ]
  },
  {
   "cell_type": "code",
   "execution_count": null,
   "id": "lmRSO_OG-zGz",
   "metadata": {
    "id": "lmRSO_OG-zGz"
   },
   "outputs": [],
   "source": [
    "df6.to_excel(\"/content/drive/MyDrive/Organizacja/Nauka/MGR IiE/Python/pred6.xlsx\")"
   ]
  },
  {
   "cell_type": "markdown",
   "id": "53d3cb79",
   "metadata": {
    "id": "53d3cb79"
   },
   "source": [
    "# DUMMY CLASSIFIER"
   ]
  },
  {
   "cell_type": "code",
   "execution_count": null,
   "id": "c4821b9b",
   "metadata": {
    "id": "c4821b9b"
   },
   "outputs": [],
   "source": [
    "from sklearn.dummy import DummyClassifier"
   ]
  },
  {
   "cell_type": "code",
   "execution_count": null,
   "id": "5b1a3863",
   "metadata": {
    "id": "5b1a3863"
   },
   "outputs": [],
   "source": [
    "model7 = make_pipeline(preprocessor, DummyClassifier())"
   ]
  },
  {
   "cell_type": "code",
   "execution_count": null,
   "id": "cb8960e1",
   "metadata": {
    "id": "cb8960e1"
   },
   "outputs": [],
   "source": [
    "start = time.time()"
   ]
  },
  {
   "cell_type": "code",
   "execution_count": null,
   "id": "86876876",
   "metadata": {
    "id": "86876876"
   },
   "outputs": [],
   "source": [
    "model7 = model7.fit(data_train, target_train)"
   ]
  },
  {
   "cell_type": "code",
   "execution_count": null,
   "id": "e023d6d0",
   "metadata": {
    "id": "e023d6d0"
   },
   "outputs": [],
   "source": [
    "y_pred7=model7.predict(data_test)\n",
    "model7.predict(data_test)[:10]"
   ]
  },
  {
   "cell_type": "code",
   "execution_count": null,
   "id": "67669a55",
   "metadata": {
    "id": "67669a55"
   },
   "outputs": [],
   "source": [
    "target_test[:10]"
   ]
  },
  {
   "cell_type": "code",
   "execution_count": null,
   "id": "ab822556",
   "metadata": {
    "id": "ab822556"
   },
   "outputs": [],
   "source": [
    "model7.score(data_test, target_test)"
   ]
  },
  {
   "cell_type": "code",
   "execution_count": null,
   "id": "2613bbea",
   "metadata": {
    "id": "2613bbea"
   },
   "outputs": [],
   "source": [
    "end = time.time()\n",
    "time7 =end-start\n",
    "time7"
   ]
  },
  {
   "cell_type": "code",
   "execution_count": null,
   "id": "Dym6DV07-8-6",
   "metadata": {
    "id": "Dym6DV07-8-6"
   },
   "outputs": [],
   "source": [
    "cv_results7 = pd.DataFrame.from_dict(grid7.cv_results_)\n",
    "df7 = cv_results7[['params', 'mean_test_score']]\n",
    "\n",
    "pd.set_option(\"display.max_rows\", None, \"display.max_columns\", None)\n",
    "pd.set_option('expand_frame_repr', False)\n",
    "print(df7)"
   ]
  },
  {
   "cell_type": "code",
   "execution_count": null,
   "id": "CzDx6CfH-8-7",
   "metadata": {
    "id": "CzDx6CfH-8-7"
   },
   "outputs": [],
   "source": [
    "df7.to_excel(\"/content/drive/MyDrive/Organizacja/Nauka/MGR IiE/Python/pred7.xlsx\")"
   ]
  },
  {
   "cell_type": "markdown",
   "id": "dde321aa",
   "metadata": {
    "id": "dde321aa"
   },
   "source": [
    "# CAT BOOST"
   ]
  },
  {
   "cell_type": "code",
   "execution_count": null,
   "id": "L22dpiw1W-k7",
   "metadata": {
    "colab": {
     "base_uri": "https://localhost:8080/"
    },
    "executionInfo": {
     "elapsed": 15975,
     "status": "ok",
     "timestamp": 1658668747370,
     "user": {
      "displayName": "pawel kinczyk",
      "userId": "16956936289197048561"
     },
     "user_tz": -120
    },
    "id": "L22dpiw1W-k7",
    "outputId": "72038150-1326-4bfa-bc54-8bbf3dd90b19"
   },
   "outputs": [
    {
     "name": "stdout",
     "output_type": "stream",
     "text": [
      "Looking in indexes: https://pypi.org/simple, https://us-python.pkg.dev/colab-wheels/public/simple/\n",
      "Collecting catboost\n",
      "  Downloading catboost-1.0.6-cp37-none-manylinux1_x86_64.whl (76.6 MB)\n",
      "\u001b[K     |████████████████████████████████| 76.6 MB 1.2 MB/s \n",
      "\u001b[?25hRequirement already satisfied: plotly in /usr/local/lib/python3.7/dist-packages (from catboost) (5.5.0)\n",
      "Requirement already satisfied: numpy>=1.16.0 in /usr/local/lib/python3.7/dist-packages (from catboost) (1.21.6)\n",
      "Requirement already satisfied: matplotlib in /usr/local/lib/python3.7/dist-packages (from catboost) (3.2.2)\n",
      "Requirement already satisfied: scipy in /usr/local/lib/python3.7/dist-packages (from catboost) (1.7.3)\n",
      "Requirement already satisfied: six in /usr/local/lib/python3.7/dist-packages (from catboost) (1.15.0)\n",
      "Requirement already satisfied: graphviz in /usr/local/lib/python3.7/dist-packages (from catboost) (0.10.1)\n",
      "Requirement already satisfied: pandas>=0.24.0 in /usr/local/lib/python3.7/dist-packages (from catboost) (1.3.5)\n",
      "Requirement already satisfied: python-dateutil>=2.7.3 in /usr/local/lib/python3.7/dist-packages (from pandas>=0.24.0->catboost) (2.8.2)\n",
      "Requirement already satisfied: pytz>=2017.3 in /usr/local/lib/python3.7/dist-packages (from pandas>=0.24.0->catboost) (2022.1)\n",
      "Requirement already satisfied: cycler>=0.10 in /usr/local/lib/python3.7/dist-packages (from matplotlib->catboost) (0.11.0)\n",
      "Requirement already satisfied: pyparsing!=2.0.4,!=2.1.2,!=2.1.6,>=2.0.1 in /usr/local/lib/python3.7/dist-packages (from matplotlib->catboost) (3.0.9)\n",
      "Requirement already satisfied: kiwisolver>=1.0.1 in /usr/local/lib/python3.7/dist-packages (from matplotlib->catboost) (1.4.4)\n",
      "Requirement already satisfied: typing-extensions in /usr/local/lib/python3.7/dist-packages (from kiwisolver>=1.0.1->matplotlib->catboost) (4.1.1)\n",
      "Requirement already satisfied: tenacity>=6.2.0 in /usr/local/lib/python3.7/dist-packages (from plotly->catboost) (8.0.1)\n",
      "Installing collected packages: catboost\n",
      "Successfully installed catboost-1.0.6\n"
     ]
    }
   ],
   "source": [
    "pip install catboost"
   ]
  },
  {
   "cell_type": "code",
   "execution_count": null,
   "id": "afe66860",
   "metadata": {
    "id": "afe66860"
   },
   "outputs": [],
   "source": [
    "from catboost import CatBoostClassifier"
   ]
  },
  {
   "cell_type": "code",
   "execution_count": null,
   "id": "a298b5f4",
   "metadata": {
    "id": "a298b5f4"
   },
   "outputs": [],
   "source": [
    "model8 = make_pipeline(preprocessor, CatBoostClassifier())"
   ]
  },
  {
   "cell_type": "code",
   "execution_count": null,
   "id": "cdecdeb9",
   "metadata": {
    "id": "cdecdeb9"
   },
   "outputs": [],
   "source": [
    "start = time.time()"
   ]
  },
  {
   "cell_type": "code",
   "execution_count": null,
   "id": "cce16bb3",
   "metadata": {
    "colab": {
     "base_uri": "https://localhost:8080/"
    },
    "executionInfo": {
     "elapsed": 3,
     "status": "ok",
     "timestamp": 1658668837391,
     "user": {
      "displayName": "pawel kinczyk",
      "userId": "16956936289197048561"
     },
     "user_tz": -120
    },
    "id": "cce16bb3",
    "outputId": "591aff46-2f5a-4e8d-ea1a-a56c40b83f2e"
   },
   "outputs": [
    {
     "data": {
      "text/plain": [
       "{'catboostclassifier__depth': [4, 6, 8],\n",
       " 'catboostclassifier__iterations': [100, 200, 500, 1000]}"
      ]
     },
     "execution_count": 19,
     "metadata": {},
     "output_type": "execute_result"
    }
   ],
   "source": [
    "param8 = {}\n",
    "param8['catboostclassifier__iterations'] = [100,200,500,1000]\n",
    "param8['catboostclassifier__depth'] = [4, 6, 8]\n",
    "param8"
   ]
  },
  {
   "cell_type": "code",
   "execution_count": null,
   "id": "0d2260db",
   "metadata": {
    "id": "0d2260db"
   },
   "outputs": [],
   "source": [
    "grid8=GridSearchCV(model8,param_grid=param8,scoring=\"accuracy\",refit=True, n_jobs = n_cpus)"
   ]
  },
  {
   "cell_type": "code",
   "execution_count": null,
   "id": "53c53d32",
   "metadata": {
    "colab": {
     "base_uri": "https://localhost:8080/"
    },
    "executionInfo": {
     "elapsed": 1972825,
     "status": "ok",
     "timestamp": 1658670812782,
     "user": {
      "displayName": "pawel kinczyk",
      "userId": "16956936289197048561"
     },
     "user_tz": -120
    },
    "id": "53c53d32",
    "outputId": "ace17b7d-3432-4ba4-ff67-80bcf23e75a6"
   },
   "outputs": [
    {
     "name": "stdout",
     "output_type": "stream",
     "text": [
      "Learning rate set to 0.110637\n",
      "0:\tlearn: 0.5048913\ttotal: 133ms\tremaining: 2m 12s\n",
      "1:\tlearn: 0.3835838\ttotal: 210ms\tremaining: 1m 44s\n",
      "2:\tlearn: 0.3035893\ttotal: 289ms\tremaining: 1m 36s\n",
      "3:\tlearn: 0.2519025\ttotal: 368ms\tremaining: 1m 31s\n",
      "4:\tlearn: 0.2192914\ttotal: 448ms\tremaining: 1m 29s\n",
      "5:\tlearn: 0.1977562\ttotal: 523ms\tremaining: 1m 26s\n",
      "6:\tlearn: 0.1832443\ttotal: 614ms\tremaining: 1m 27s\n",
      "7:\tlearn: 0.1732089\ttotal: 695ms\tremaining: 1m 26s\n",
      "8:\tlearn: 0.1678664\ttotal: 778ms\tremaining: 1m 25s\n",
      "9:\tlearn: 0.1616971\ttotal: 857ms\tremaining: 1m 24s\n",
      "10:\tlearn: 0.1581584\ttotal: 937ms\tremaining: 1m 24s\n",
      "11:\tlearn: 0.1556823\ttotal: 1.01s\tremaining: 1m 23s\n",
      "12:\tlearn: 0.1530973\ttotal: 1.09s\tremaining: 1m 23s\n",
      "13:\tlearn: 0.1505895\ttotal: 1.17s\tremaining: 1m 22s\n",
      "14:\tlearn: 0.1481137\ttotal: 1.25s\tremaining: 1m 22s\n",
      "15:\tlearn: 0.1462584\ttotal: 1.34s\tremaining: 1m 22s\n",
      "16:\tlearn: 0.1451518\ttotal: 1.42s\tremaining: 1m 21s\n",
      "17:\tlearn: 0.1437124\ttotal: 1.49s\tremaining: 1m 21s\n",
      "18:\tlearn: 0.1425476\ttotal: 1.58s\tremaining: 1m 21s\n",
      "19:\tlearn: 0.1415267\ttotal: 1.67s\tremaining: 1m 21s\n",
      "20:\tlearn: 0.1405801\ttotal: 1.74s\tremaining: 1m 21s\n",
      "21:\tlearn: 0.1398373\ttotal: 1.82s\tremaining: 1m 21s\n",
      "22:\tlearn: 0.1392201\ttotal: 1.9s\tremaining: 1m 20s\n",
      "23:\tlearn: 0.1386687\ttotal: 1.97s\tremaining: 1m 20s\n",
      "24:\tlearn: 0.1379439\ttotal: 2.05s\tremaining: 1m 20s\n",
      "25:\tlearn: 0.1373273\ttotal: 2.13s\tremaining: 1m 19s\n",
      "26:\tlearn: 0.1368137\ttotal: 2.21s\tremaining: 1m 19s\n",
      "27:\tlearn: 0.1361556\ttotal: 2.29s\tremaining: 1m 19s\n",
      "28:\tlearn: 0.1356548\ttotal: 2.37s\tremaining: 1m 19s\n",
      "29:\tlearn: 0.1351562\ttotal: 2.44s\tremaining: 1m 19s\n",
      "30:\tlearn: 0.1346611\ttotal: 2.53s\tremaining: 1m 19s\n",
      "31:\tlearn: 0.1342972\ttotal: 2.62s\tremaining: 1m 19s\n",
      "32:\tlearn: 0.1339162\ttotal: 2.71s\tremaining: 1m 19s\n",
      "33:\tlearn: 0.1334697\ttotal: 2.79s\tremaining: 1m 19s\n",
      "34:\tlearn: 0.1330739\ttotal: 2.87s\tremaining: 1m 19s\n",
      "35:\tlearn: 0.1326414\ttotal: 2.94s\tremaining: 1m 18s\n",
      "36:\tlearn: 0.1322683\ttotal: 3.03s\tremaining: 1m 18s\n",
      "37:\tlearn: 0.1319377\ttotal: 3.1s\tremaining: 1m 18s\n",
      "38:\tlearn: 0.1316677\ttotal: 3.19s\tremaining: 1m 18s\n",
      "39:\tlearn: 0.1313768\ttotal: 3.27s\tremaining: 1m 18s\n",
      "40:\tlearn: 0.1310288\ttotal: 3.35s\tremaining: 1m 18s\n",
      "41:\tlearn: 0.1307273\ttotal: 3.43s\tremaining: 1m 18s\n",
      "42:\tlearn: 0.1304541\ttotal: 3.51s\tremaining: 1m 18s\n",
      "43:\tlearn: 0.1301584\ttotal: 3.59s\tremaining: 1m 18s\n",
      "44:\tlearn: 0.1299035\ttotal: 3.68s\tremaining: 1m 18s\n",
      "45:\tlearn: 0.1295373\ttotal: 3.76s\tremaining: 1m 17s\n",
      "46:\tlearn: 0.1293228\ttotal: 3.84s\tremaining: 1m 17s\n",
      "47:\tlearn: 0.1290625\ttotal: 3.92s\tremaining: 1m 17s\n",
      "48:\tlearn: 0.1288439\ttotal: 4s\tremaining: 1m 17s\n",
      "49:\tlearn: 0.1286346\ttotal: 4.08s\tremaining: 1m 17s\n",
      "50:\tlearn: 0.1284050\ttotal: 4.16s\tremaining: 1m 17s\n",
      "51:\tlearn: 0.1281925\ttotal: 4.24s\tremaining: 1m 17s\n",
      "52:\tlearn: 0.1279734\ttotal: 4.32s\tremaining: 1m 17s\n",
      "53:\tlearn: 0.1277527\ttotal: 4.4s\tremaining: 1m 17s\n",
      "54:\tlearn: 0.1275438\ttotal: 4.48s\tremaining: 1m 17s\n",
      "55:\tlearn: 0.1273369\ttotal: 4.56s\tremaining: 1m 16s\n",
      "56:\tlearn: 0.1271309\ttotal: 4.64s\tremaining: 1m 16s\n",
      "57:\tlearn: 0.1269280\ttotal: 4.74s\tremaining: 1m 16s\n",
      "58:\tlearn: 0.1267142\ttotal: 4.82s\tremaining: 1m 16s\n",
      "59:\tlearn: 0.1264745\ttotal: 4.9s\tremaining: 1m 16s\n",
      "60:\tlearn: 0.1262845\ttotal: 4.98s\tremaining: 1m 16s\n",
      "61:\tlearn: 0.1261075\ttotal: 5.05s\tremaining: 1m 16s\n",
      "62:\tlearn: 0.1259183\ttotal: 5.13s\tremaining: 1m 16s\n",
      "63:\tlearn: 0.1255774\ttotal: 5.21s\tremaining: 1m 16s\n",
      "64:\tlearn: 0.1253077\ttotal: 5.3s\tremaining: 1m 16s\n",
      "65:\tlearn: 0.1251521\ttotal: 5.37s\tremaining: 1m 16s\n",
      "66:\tlearn: 0.1250258\ttotal: 5.45s\tremaining: 1m 15s\n",
      "67:\tlearn: 0.1248344\ttotal: 5.53s\tremaining: 1m 15s\n",
      "68:\tlearn: 0.1246773\ttotal: 5.6s\tremaining: 1m 15s\n",
      "69:\tlearn: 0.1245425\ttotal: 5.69s\tremaining: 1m 15s\n",
      "70:\tlearn: 0.1243718\ttotal: 5.78s\tremaining: 1m 15s\n",
      "71:\tlearn: 0.1241922\ttotal: 5.85s\tremaining: 1m 15s\n",
      "72:\tlearn: 0.1239909\ttotal: 5.93s\tremaining: 1m 15s\n",
      "73:\tlearn: 0.1238249\ttotal: 6.01s\tremaining: 1m 15s\n",
      "74:\tlearn: 0.1236884\ttotal: 6.09s\tremaining: 1m 15s\n",
      "75:\tlearn: 0.1235187\ttotal: 6.18s\tremaining: 1m 15s\n",
      "76:\tlearn: 0.1233608\ttotal: 6.26s\tremaining: 1m 15s\n",
      "77:\tlearn: 0.1231805\ttotal: 6.33s\tremaining: 1m 14s\n",
      "78:\tlearn: 0.1229339\ttotal: 6.42s\tremaining: 1m 14s\n",
      "79:\tlearn: 0.1227536\ttotal: 6.5s\tremaining: 1m 14s\n",
      "80:\tlearn: 0.1225666\ttotal: 6.58s\tremaining: 1m 14s\n",
      "81:\tlearn: 0.1223970\ttotal: 6.66s\tremaining: 1m 14s\n",
      "82:\tlearn: 0.1222214\ttotal: 6.76s\tremaining: 1m 14s\n",
      "83:\tlearn: 0.1220898\ttotal: 6.85s\tremaining: 1m 14s\n",
      "84:\tlearn: 0.1219584\ttotal: 6.93s\tremaining: 1m 14s\n",
      "85:\tlearn: 0.1218104\ttotal: 7s\tremaining: 1m 14s\n",
      "86:\tlearn: 0.1216826\ttotal: 7.09s\tremaining: 1m 14s\n",
      "87:\tlearn: 0.1215366\ttotal: 7.17s\tremaining: 1m 14s\n",
      "88:\tlearn: 0.1213990\ttotal: 7.24s\tremaining: 1m 14s\n",
      "89:\tlearn: 0.1212532\ttotal: 7.32s\tremaining: 1m 14s\n",
      "90:\tlearn: 0.1210940\ttotal: 7.41s\tremaining: 1m 13s\n",
      "91:\tlearn: 0.1209622\ttotal: 7.48s\tremaining: 1m 13s\n",
      "92:\tlearn: 0.1206985\ttotal: 7.56s\tremaining: 1m 13s\n",
      "93:\tlearn: 0.1205171\ttotal: 7.65s\tremaining: 1m 13s\n",
      "94:\tlearn: 0.1203876\ttotal: 7.74s\tremaining: 1m 13s\n",
      "95:\tlearn: 0.1202501\ttotal: 7.83s\tremaining: 1m 13s\n",
      "96:\tlearn: 0.1201174\ttotal: 7.92s\tremaining: 1m 13s\n",
      "97:\tlearn: 0.1199830\ttotal: 7.99s\tremaining: 1m 13s\n",
      "98:\tlearn: 0.1198692\ttotal: 8.07s\tremaining: 1m 13s\n",
      "99:\tlearn: 0.1197055\ttotal: 8.15s\tremaining: 1m 13s\n",
      "100:\tlearn: 0.1195681\ttotal: 8.23s\tremaining: 1m 13s\n",
      "101:\tlearn: 0.1194138\ttotal: 8.31s\tremaining: 1m 13s\n",
      "102:\tlearn: 0.1192769\ttotal: 8.39s\tremaining: 1m 13s\n",
      "103:\tlearn: 0.1191551\ttotal: 8.48s\tremaining: 1m 13s\n",
      "104:\tlearn: 0.1190656\ttotal: 8.55s\tremaining: 1m 12s\n",
      "105:\tlearn: 0.1189239\ttotal: 8.64s\tremaining: 1m 12s\n",
      "106:\tlearn: 0.1187881\ttotal: 8.72s\tremaining: 1m 12s\n",
      "107:\tlearn: 0.1186953\ttotal: 8.81s\tremaining: 1m 12s\n",
      "108:\tlearn: 0.1185585\ttotal: 8.89s\tremaining: 1m 12s\n",
      "109:\tlearn: 0.1184058\ttotal: 8.97s\tremaining: 1m 12s\n",
      "110:\tlearn: 0.1181958\ttotal: 9.05s\tremaining: 1m 12s\n",
      "111:\tlearn: 0.1180432\ttotal: 9.15s\tremaining: 1m 12s\n",
      "112:\tlearn: 0.1179066\ttotal: 9.23s\tremaining: 1m 12s\n",
      "113:\tlearn: 0.1178207\ttotal: 9.31s\tremaining: 1m 12s\n",
      "114:\tlearn: 0.1177166\ttotal: 9.4s\tremaining: 1m 12s\n",
      "115:\tlearn: 0.1176335\ttotal: 9.47s\tremaining: 1m 12s\n",
      "116:\tlearn: 0.1175313\ttotal: 9.54s\tremaining: 1m 12s\n",
      "117:\tlearn: 0.1174155\ttotal: 9.62s\tremaining: 1m 11s\n",
      "118:\tlearn: 0.1173081\ttotal: 9.71s\tremaining: 1m 11s\n",
      "119:\tlearn: 0.1172394\ttotal: 9.8s\tremaining: 1m 11s\n",
      "120:\tlearn: 0.1171479\ttotal: 9.88s\tremaining: 1m 11s\n",
      "121:\tlearn: 0.1170179\ttotal: 9.96s\tremaining: 1m 11s\n",
      "122:\tlearn: 0.1168827\ttotal: 10s\tremaining: 1m 11s\n",
      "123:\tlearn: 0.1167191\ttotal: 10.1s\tremaining: 1m 11s\n",
      "124:\tlearn: 0.1165950\ttotal: 10.2s\tremaining: 1m 11s\n",
      "125:\tlearn: 0.1164775\ttotal: 10.3s\tremaining: 1m 11s\n",
      "126:\tlearn: 0.1163416\ttotal: 10.4s\tremaining: 1m 11s\n",
      "127:\tlearn: 0.1162478\ttotal: 10.4s\tremaining: 1m 11s\n",
      "128:\tlearn: 0.1161500\ttotal: 10.5s\tremaining: 1m 11s\n",
      "129:\tlearn: 0.1160152\ttotal: 10.6s\tremaining: 1m 11s\n",
      "130:\tlearn: 0.1158610\ttotal: 10.7s\tremaining: 1m 10s\n",
      "131:\tlearn: 0.1157521\ttotal: 10.8s\tremaining: 1m 10s\n",
      "132:\tlearn: 0.1156132\ttotal: 10.9s\tremaining: 1m 10s\n",
      "133:\tlearn: 0.1155238\ttotal: 11s\tremaining: 1m 10s\n",
      "134:\tlearn: 0.1154134\ttotal: 11s\tremaining: 1m 10s\n",
      "135:\tlearn: 0.1153063\ttotal: 11.1s\tremaining: 1m 10s\n",
      "136:\tlearn: 0.1152127\ttotal: 11.2s\tremaining: 1m 10s\n",
      "137:\tlearn: 0.1151342\ttotal: 11.3s\tremaining: 1m 10s\n",
      "138:\tlearn: 0.1150311\ttotal: 11.3s\tremaining: 1m 10s\n",
      "139:\tlearn: 0.1149253\ttotal: 11.4s\tremaining: 1m 10s\n",
      "140:\tlearn: 0.1148053\ttotal: 11.5s\tremaining: 1m 10s\n",
      "141:\tlearn: 0.1147128\ttotal: 11.6s\tremaining: 1m 9s\n",
      "142:\tlearn: 0.1146122\ttotal: 11.7s\tremaining: 1m 9s\n",
      "143:\tlearn: 0.1145201\ttotal: 11.8s\tremaining: 1m 9s\n",
      "144:\tlearn: 0.1143869\ttotal: 11.8s\tremaining: 1m 9s\n",
      "145:\tlearn: 0.1142553\ttotal: 11.9s\tremaining: 1m 9s\n",
      "146:\tlearn: 0.1141285\ttotal: 12s\tremaining: 1m 9s\n",
      "147:\tlearn: 0.1140284\ttotal: 12.1s\tremaining: 1m 9s\n",
      "148:\tlearn: 0.1139173\ttotal: 12.2s\tremaining: 1m 9s\n",
      "149:\tlearn: 0.1138215\ttotal: 12.2s\tremaining: 1m 9s\n",
      "150:\tlearn: 0.1137320\ttotal: 12.3s\tremaining: 1m 9s\n",
      "151:\tlearn: 0.1136317\ttotal: 12.4s\tremaining: 1m 9s\n",
      "152:\tlearn: 0.1135289\ttotal: 12.5s\tremaining: 1m 9s\n",
      "153:\tlearn: 0.1134477\ttotal: 12.6s\tremaining: 1m 8s\n",
      "154:\tlearn: 0.1133490\ttotal: 12.6s\tremaining: 1m 8s\n",
      "155:\tlearn: 0.1132390\ttotal: 12.7s\tremaining: 1m 8s\n",
      "156:\tlearn: 0.1131428\ttotal: 12.8s\tremaining: 1m 8s\n",
      "157:\tlearn: 0.1130310\ttotal: 12.9s\tremaining: 1m 8s\n",
      "158:\tlearn: 0.1129174\ttotal: 13s\tremaining: 1m 8s\n",
      "159:\tlearn: 0.1127886\ttotal: 13.1s\tremaining: 1m 8s\n",
      "160:\tlearn: 0.1126793\ttotal: 13.2s\tremaining: 1m 8s\n",
      "161:\tlearn: 0.1125751\ttotal: 13.2s\tremaining: 1m 8s\n",
      "162:\tlearn: 0.1124849\ttotal: 13.3s\tremaining: 1m 8s\n",
      "163:\tlearn: 0.1123754\ttotal: 13.4s\tremaining: 1m 8s\n",
      "164:\tlearn: 0.1122794\ttotal: 13.5s\tremaining: 1m 8s\n",
      "165:\tlearn: 0.1121816\ttotal: 13.6s\tremaining: 1m 8s\n",
      "166:\tlearn: 0.1121034\ttotal: 13.6s\tremaining: 1m 7s\n",
      "167:\tlearn: 0.1120439\ttotal: 13.7s\tremaining: 1m 7s\n",
      "168:\tlearn: 0.1119714\ttotal: 13.8s\tremaining: 1m 7s\n",
      "169:\tlearn: 0.1118956\ttotal: 13.9s\tremaining: 1m 7s\n",
      "170:\tlearn: 0.1118055\ttotal: 14s\tremaining: 1m 7s\n",
      "171:\tlearn: 0.1117066\ttotal: 14s\tremaining: 1m 7s\n",
      "172:\tlearn: 0.1116021\ttotal: 14.1s\tremaining: 1m 7s\n",
      "173:\tlearn: 0.1114924\ttotal: 14.2s\tremaining: 1m 7s\n",
      "174:\tlearn: 0.1113848\ttotal: 14.3s\tremaining: 1m 7s\n",
      "175:\tlearn: 0.1113119\ttotal: 14.3s\tremaining: 1m 7s\n",
      "176:\tlearn: 0.1112313\ttotal: 14.4s\tremaining: 1m 7s\n",
      "177:\tlearn: 0.1111372\ttotal: 14.5s\tremaining: 1m 7s\n",
      "178:\tlearn: 0.1110324\ttotal: 14.6s\tremaining: 1m 6s\n",
      "179:\tlearn: 0.1109597\ttotal: 14.7s\tremaining: 1m 6s\n",
      "180:\tlearn: 0.1108722\ttotal: 14.8s\tremaining: 1m 6s\n",
      "181:\tlearn: 0.1107676\ttotal: 14.8s\tremaining: 1m 6s\n",
      "182:\tlearn: 0.1106866\ttotal: 14.9s\tremaining: 1m 6s\n",
      "183:\tlearn: 0.1106068\ttotal: 15s\tremaining: 1m 6s\n",
      "184:\tlearn: 0.1105226\ttotal: 15.1s\tremaining: 1m 6s\n",
      "185:\tlearn: 0.1104311\ttotal: 15.2s\tremaining: 1m 6s\n",
      "186:\tlearn: 0.1103423\ttotal: 15.3s\tremaining: 1m 6s\n",
      "187:\tlearn: 0.1102406\ttotal: 15.3s\tremaining: 1m 6s\n",
      "188:\tlearn: 0.1101642\ttotal: 15.4s\tremaining: 1m 6s\n",
      "189:\tlearn: 0.1101015\ttotal: 15.5s\tremaining: 1m 6s\n",
      "190:\tlearn: 0.1100123\ttotal: 15.6s\tremaining: 1m 5s\n",
      "191:\tlearn: 0.1099116\ttotal: 15.6s\tremaining: 1m 5s\n",
      "192:\tlearn: 0.1097975\ttotal: 15.7s\tremaining: 1m 5s\n",
      "193:\tlearn: 0.1097263\ttotal: 15.8s\tremaining: 1m 5s\n",
      "194:\tlearn: 0.1096392\ttotal: 15.9s\tremaining: 1m 5s\n",
      "195:\tlearn: 0.1095690\ttotal: 16s\tremaining: 1m 5s\n",
      "196:\tlearn: 0.1095233\ttotal: 16s\tremaining: 1m 5s\n",
      "197:\tlearn: 0.1094410\ttotal: 16.1s\tremaining: 1m 5s\n",
      "198:\tlearn: 0.1093624\ttotal: 16.2s\tremaining: 1m 5s\n",
      "199:\tlearn: 0.1092692\ttotal: 16.3s\tremaining: 1m 5s\n",
      "200:\tlearn: 0.1091853\ttotal: 16.4s\tremaining: 1m 5s\n",
      "201:\tlearn: 0.1091084\ttotal: 16.5s\tremaining: 1m 4s\n",
      "202:\tlearn: 0.1090373\ttotal: 16.5s\tremaining: 1m 4s\n",
      "203:\tlearn: 0.1089514\ttotal: 16.6s\tremaining: 1m 4s\n",
      "204:\tlearn: 0.1088529\ttotal: 16.7s\tremaining: 1m 4s\n",
      "205:\tlearn: 0.1087716\ttotal: 16.8s\tremaining: 1m 4s\n",
      "206:\tlearn: 0.1086970\ttotal: 16.9s\tremaining: 1m 4s\n",
      "207:\tlearn: 0.1086027\ttotal: 17s\tremaining: 1m 4s\n",
      "208:\tlearn: 0.1085034\ttotal: 17s\tremaining: 1m 4s\n",
      "209:\tlearn: 0.1084118\ttotal: 17.1s\tremaining: 1m 4s\n",
      "210:\tlearn: 0.1083300\ttotal: 17.2s\tremaining: 1m 4s\n",
      "211:\tlearn: 0.1082376\ttotal: 17.3s\tremaining: 1m 4s\n",
      "212:\tlearn: 0.1081788\ttotal: 17.4s\tremaining: 1m 4s\n",
      "213:\tlearn: 0.1080973\ttotal: 17.4s\tremaining: 1m 4s\n",
      "214:\tlearn: 0.1080431\ttotal: 17.5s\tremaining: 1m 3s\n",
      "215:\tlearn: 0.1079482\ttotal: 17.6s\tremaining: 1m 3s\n",
      "216:\tlearn: 0.1078666\ttotal: 17.7s\tremaining: 1m 3s\n",
      "217:\tlearn: 0.1077950\ttotal: 17.7s\tremaining: 1m 3s\n",
      "218:\tlearn: 0.1077027\ttotal: 17.8s\tremaining: 1m 3s\n",
      "219:\tlearn: 0.1076642\ttotal: 17.9s\tremaining: 1m 3s\n",
      "220:\tlearn: 0.1075739\ttotal: 18s\tremaining: 1m 3s\n",
      "221:\tlearn: 0.1075031\ttotal: 18.1s\tremaining: 1m 3s\n",
      "222:\tlearn: 0.1074144\ttotal: 18.2s\tremaining: 1m 3s\n",
      "223:\tlearn: 0.1073283\ttotal: 18.2s\tremaining: 1m 3s\n",
      "224:\tlearn: 0.1072648\ttotal: 18.3s\tremaining: 1m 3s\n",
      "225:\tlearn: 0.1071963\ttotal: 18.4s\tremaining: 1m 2s\n",
      "226:\tlearn: 0.1071034\ttotal: 18.5s\tremaining: 1m 2s\n",
      "227:\tlearn: 0.1070270\ttotal: 18.6s\tremaining: 1m 2s\n",
      "228:\tlearn: 0.1069503\ttotal: 18.6s\tremaining: 1m 2s\n",
      "229:\tlearn: 0.1068805\ttotal: 18.7s\tremaining: 1m 2s\n",
      "230:\tlearn: 0.1068180\ttotal: 18.8s\tremaining: 1m 2s\n",
      "231:\tlearn: 0.1067439\ttotal: 18.9s\tremaining: 1m 2s\n",
      "232:\tlearn: 0.1066543\ttotal: 19s\tremaining: 1m 2s\n",
      "233:\tlearn: 0.1065758\ttotal: 19s\tremaining: 1m 2s\n",
      "234:\tlearn: 0.1065112\ttotal: 19.1s\tremaining: 1m 2s\n",
      "235:\tlearn: 0.1064622\ttotal: 19.2s\tremaining: 1m 2s\n",
      "236:\tlearn: 0.1063635\ttotal: 19.3s\tremaining: 1m 2s\n",
      "237:\tlearn: 0.1062771\ttotal: 19.4s\tremaining: 1m 1s\n",
      "238:\tlearn: 0.1061925\ttotal: 19.4s\tremaining: 1m 1s\n",
      "239:\tlearn: 0.1061373\ttotal: 19.5s\tremaining: 1m 1s\n",
      "240:\tlearn: 0.1060407\ttotal: 19.6s\tremaining: 1m 1s\n",
      "241:\tlearn: 0.1059722\ttotal: 19.7s\tremaining: 1m 1s\n",
      "242:\tlearn: 0.1059123\ttotal: 19.8s\tremaining: 1m 1s\n",
      "243:\tlearn: 0.1058605\ttotal: 19.8s\tremaining: 1m 1s\n",
      "244:\tlearn: 0.1058095\ttotal: 19.9s\tremaining: 1m 1s\n",
      "245:\tlearn: 0.1057486\ttotal: 20s\tremaining: 1m 1s\n",
      "246:\tlearn: 0.1057281\ttotal: 20.1s\tremaining: 1m 1s\n",
      "247:\tlearn: 0.1056892\ttotal: 20.1s\tremaining: 1m 1s\n",
      "248:\tlearn: 0.1055768\ttotal: 20.2s\tremaining: 1m 1s\n",
      "249:\tlearn: 0.1055085\ttotal: 20.3s\tremaining: 1m\n",
      "250:\tlearn: 0.1054198\ttotal: 20.4s\tremaining: 1m\n",
      "251:\tlearn: 0.1053540\ttotal: 20.5s\tremaining: 1m\n",
      "252:\tlearn: 0.1053153\ttotal: 20.6s\tremaining: 1m\n",
      "253:\tlearn: 0.1052440\ttotal: 20.6s\tremaining: 1m\n",
      "254:\tlearn: 0.1051706\ttotal: 20.7s\tremaining: 1m\n",
      "255:\tlearn: 0.1050776\ttotal: 20.8s\tremaining: 1m\n",
      "256:\tlearn: 0.1050181\ttotal: 20.9s\tremaining: 1m\n",
      "257:\tlearn: 0.1049539\ttotal: 21s\tremaining: 1m\n",
      "258:\tlearn: 0.1048737\ttotal: 21s\tremaining: 1m\n",
      "259:\tlearn: 0.1048046\ttotal: 21.1s\tremaining: 1m\n",
      "260:\tlearn: 0.1047323\ttotal: 21.2s\tremaining: 1m\n",
      "261:\tlearn: 0.1046698\ttotal: 21.3s\tremaining: 60s\n",
      "262:\tlearn: 0.1046120\ttotal: 21.4s\tremaining: 59.9s\n",
      "263:\tlearn: 0.1045625\ttotal: 21.4s\tremaining: 59.8s\n",
      "264:\tlearn: 0.1045030\ttotal: 21.5s\tremaining: 59.7s\n",
      "265:\tlearn: 0.1044283\ttotal: 21.6s\tremaining: 59.6s\n",
      "266:\tlearn: 0.1043766\ttotal: 21.7s\tremaining: 59.5s\n",
      "267:\tlearn: 0.1042917\ttotal: 21.8s\tremaining: 59.5s\n",
      "268:\tlearn: 0.1042521\ttotal: 21.8s\tremaining: 59.4s\n",
      "269:\tlearn: 0.1042053\ttotal: 21.9s\tremaining: 59.3s\n",
      "270:\tlearn: 0.1041498\ttotal: 22s\tremaining: 59.2s\n",
      "271:\tlearn: 0.1040702\ttotal: 22.1s\tremaining: 59.1s\n",
      "272:\tlearn: 0.1040057\ttotal: 22.1s\tremaining: 59s\n",
      "273:\tlearn: 0.1039231\ttotal: 22.2s\tremaining: 58.9s\n",
      "274:\tlearn: 0.1038479\ttotal: 22.3s\tremaining: 58.8s\n",
      "275:\tlearn: 0.1037918\ttotal: 22.4s\tremaining: 58.7s\n",
      "276:\tlearn: 0.1037121\ttotal: 22.5s\tremaining: 58.6s\n",
      "277:\tlearn: 0.1036425\ttotal: 22.5s\tremaining: 58.5s\n",
      "278:\tlearn: 0.1035654\ttotal: 22.6s\tremaining: 58.4s\n",
      "279:\tlearn: 0.1034991\ttotal: 22.7s\tremaining: 58.4s\n",
      "280:\tlearn: 0.1034439\ttotal: 22.8s\tremaining: 58.3s\n",
      "281:\tlearn: 0.1033685\ttotal: 22.8s\tremaining: 58.2s\n",
      "282:\tlearn: 0.1032739\ttotal: 22.9s\tremaining: 58.1s\n",
      "283:\tlearn: 0.1032336\ttotal: 23s\tremaining: 58s\n",
      "284:\tlearn: 0.1031770\ttotal: 23.1s\tremaining: 57.9s\n",
      "285:\tlearn: 0.1031001\ttotal: 23.2s\tremaining: 57.9s\n",
      "286:\tlearn: 0.1030250\ttotal: 23.3s\tremaining: 57.8s\n",
      "287:\tlearn: 0.1029916\ttotal: 23.3s\tremaining: 57.7s\n",
      "288:\tlearn: 0.1028816\ttotal: 23.4s\tremaining: 57.6s\n",
      "289:\tlearn: 0.1028261\ttotal: 23.5s\tremaining: 57.6s\n",
      "290:\tlearn: 0.1027821\ttotal: 23.6s\tremaining: 57.5s\n",
      "291:\tlearn: 0.1027343\ttotal: 23.7s\tremaining: 57.4s\n",
      "292:\tlearn: 0.1026372\ttotal: 23.8s\tremaining: 57.3s\n",
      "293:\tlearn: 0.1026013\ttotal: 23.8s\tremaining: 57.2s\n",
      "294:\tlearn: 0.1025565\ttotal: 23.9s\tremaining: 57.1s\n",
      "295:\tlearn: 0.1024773\ttotal: 24s\tremaining: 57s\n",
      "296:\tlearn: 0.1024131\ttotal: 24.1s\tremaining: 57s\n",
      "297:\tlearn: 0.1023832\ttotal: 24.1s\tremaining: 56.9s\n",
      "298:\tlearn: 0.1023349\ttotal: 24.2s\tremaining: 56.8s\n",
      "299:\tlearn: 0.1022856\ttotal: 24.3s\tremaining: 56.7s\n",
      "300:\tlearn: 0.1022117\ttotal: 24.4s\tremaining: 56.6s\n",
      "301:\tlearn: 0.1021622\ttotal: 24.5s\tremaining: 56.5s\n",
      "302:\tlearn: 0.1020874\ttotal: 24.5s\tremaining: 56.4s\n",
      "303:\tlearn: 0.1020338\ttotal: 24.6s\tremaining: 56.4s\n",
      "304:\tlearn: 0.1019946\ttotal: 24.7s\tremaining: 56.3s\n",
      "305:\tlearn: 0.1019281\ttotal: 24.8s\tremaining: 56.2s\n",
      "306:\tlearn: 0.1018748\ttotal: 24.9s\tremaining: 56.1s\n",
      "307:\tlearn: 0.1018090\ttotal: 24.9s\tremaining: 56s\n",
      "308:\tlearn: 0.1017300\ttotal: 25s\tremaining: 56s\n",
      "309:\tlearn: 0.1017167\ttotal: 25.1s\tremaining: 55.9s\n",
      "310:\tlearn: 0.1016589\ttotal: 25.2s\tremaining: 55.8s\n",
      "311:\tlearn: 0.1015773\ttotal: 25.3s\tremaining: 55.8s\n",
      "312:\tlearn: 0.1015762\ttotal: 25.4s\tremaining: 55.6s\n",
      "313:\tlearn: 0.1014943\ttotal: 25.4s\tremaining: 55.6s\n",
      "314:\tlearn: 0.1014040\ttotal: 25.5s\tremaining: 55.5s\n",
      "315:\tlearn: 0.1013595\ttotal: 25.6s\tremaining: 55.4s\n",
      "316:\tlearn: 0.1013383\ttotal: 25.7s\tremaining: 55.3s\n",
      "317:\tlearn: 0.1012910\ttotal: 25.7s\tremaining: 55.2s\n",
      "318:\tlearn: 0.1012319\ttotal: 25.8s\tremaining: 55.1s\n",
      "319:\tlearn: 0.1011625\ttotal: 25.9s\tremaining: 55s\n",
      "320:\tlearn: 0.1010834\ttotal: 26s\tremaining: 54.9s\n",
      "321:\tlearn: 0.1010279\ttotal: 26s\tremaining: 54.8s\n",
      "322:\tlearn: 0.1009521\ttotal: 26.1s\tremaining: 54.8s\n",
      "323:\tlearn: 0.1008806\ttotal: 26.2s\tremaining: 54.7s\n",
      "324:\tlearn: 0.1008291\ttotal: 26.3s\tremaining: 54.6s\n",
      "325:\tlearn: 0.1007771\ttotal: 26.4s\tremaining: 54.6s\n",
      "326:\tlearn: 0.1007391\ttotal: 26.5s\tremaining: 54.4s\n",
      "327:\tlearn: 0.1006827\ttotal: 26.6s\tremaining: 54.4s\n",
      "328:\tlearn: 0.1006249\ttotal: 26.6s\tremaining: 54.3s\n",
      "329:\tlearn: 0.1005696\ttotal: 26.7s\tremaining: 54.2s\n",
      "330:\tlearn: 0.1004828\ttotal: 26.8s\tremaining: 54.1s\n",
      "331:\tlearn: 0.1004485\ttotal: 26.9s\tremaining: 54s\n",
      "332:\tlearn: 0.1003876\ttotal: 26.9s\tremaining: 53.9s\n",
      "333:\tlearn: 0.1003436\ttotal: 27s\tremaining: 53.8s\n",
      "334:\tlearn: 0.1002734\ttotal: 27.1s\tremaining: 53.7s\n",
      "335:\tlearn: 0.1002163\ttotal: 27.2s\tremaining: 53.7s\n",
      "336:\tlearn: 0.1001479\ttotal: 27.2s\tremaining: 53.6s\n",
      "337:\tlearn: 0.1001099\ttotal: 27.3s\tremaining: 53.5s\n",
      "338:\tlearn: 0.1000291\ttotal: 27.4s\tremaining: 53.4s\n",
      "339:\tlearn: 0.0999602\ttotal: 27.5s\tremaining: 53.3s\n",
      "340:\tlearn: 0.0999069\ttotal: 27.6s\tremaining: 53.3s\n",
      "341:\tlearn: 0.0998578\ttotal: 27.6s\tremaining: 53.2s\n",
      "342:\tlearn: 0.0997972\ttotal: 27.7s\tremaining: 53.1s\n",
      "343:\tlearn: 0.0997353\ttotal: 27.8s\tremaining: 53s\n",
      "344:\tlearn: 0.0996967\ttotal: 27.9s\tremaining: 52.9s\n",
      "345:\tlearn: 0.0996602\ttotal: 27.9s\tremaining: 52.8s\n",
      "346:\tlearn: 0.0996278\ttotal: 28s\tremaining: 52.7s\n",
      "347:\tlearn: 0.0995537\ttotal: 28.1s\tremaining: 52.7s\n",
      "348:\tlearn: 0.0994944\ttotal: 28.2s\tremaining: 52.6s\n",
      "349:\tlearn: 0.0994333\ttotal: 28.3s\tremaining: 52.5s\n",
      "350:\tlearn: 0.0993818\ttotal: 28.3s\tremaining: 52.4s\n",
      "351:\tlearn: 0.0993033\ttotal: 28.4s\tremaining: 52.3s\n",
      "352:\tlearn: 0.0992587\ttotal: 28.5s\tremaining: 52.3s\n",
      "353:\tlearn: 0.0992229\ttotal: 28.6s\tremaining: 52.2s\n",
      "354:\tlearn: 0.0991679\ttotal: 28.7s\tremaining: 52.1s\n",
      "355:\tlearn: 0.0991169\ttotal: 28.7s\tremaining: 52s\n",
      "356:\tlearn: 0.0990408\ttotal: 28.8s\tremaining: 51.9s\n",
      "357:\tlearn: 0.0990047\ttotal: 28.9s\tremaining: 51.8s\n",
      "358:\tlearn: 0.0989588\ttotal: 29s\tremaining: 51.7s\n",
      "359:\tlearn: 0.0989157\ttotal: 29.1s\tremaining: 51.7s\n",
      "360:\tlearn: 0.0988368\ttotal: 29.2s\tremaining: 51.6s\n",
      "361:\tlearn: 0.0987550\ttotal: 29.2s\tremaining: 51.5s\n",
      "362:\tlearn: 0.0987080\ttotal: 29.3s\tremaining: 51.4s\n",
      "363:\tlearn: 0.0986401\ttotal: 29.4s\tremaining: 51.3s\n",
      "364:\tlearn: 0.0985801\ttotal: 29.5s\tremaining: 51.2s\n",
      "365:\tlearn: 0.0985265\ttotal: 29.5s\tremaining: 51.2s\n",
      "366:\tlearn: 0.0984724\ttotal: 29.6s\tremaining: 51.1s\n",
      "367:\tlearn: 0.0984053\ttotal: 29.7s\tremaining: 51s\n",
      "368:\tlearn: 0.0983232\ttotal: 29.8s\tremaining: 50.9s\n",
      "369:\tlearn: 0.0982783\ttotal: 29.9s\tremaining: 50.8s\n",
      "370:\tlearn: 0.0982395\ttotal: 29.9s\tremaining: 50.7s\n",
      "371:\tlearn: 0.0981815\ttotal: 30s\tremaining: 50.6s\n",
      "372:\tlearn: 0.0981563\ttotal: 30.1s\tremaining: 50.6s\n",
      "373:\tlearn: 0.0980920\ttotal: 30.2s\tremaining: 50.5s\n",
      "374:\tlearn: 0.0980453\ttotal: 30.2s\tremaining: 50.4s\n",
      "375:\tlearn: 0.0979664\ttotal: 30.3s\tremaining: 50.3s\n",
      "376:\tlearn: 0.0979116\ttotal: 30.4s\tremaining: 50.2s\n",
      "377:\tlearn: 0.0978724\ttotal: 30.5s\tremaining: 50.1s\n",
      "378:\tlearn: 0.0978160\ttotal: 30.6s\tremaining: 50.1s\n",
      "379:\tlearn: 0.0977747\ttotal: 30.6s\tremaining: 50s\n",
      "380:\tlearn: 0.0977164\ttotal: 30.7s\tremaining: 49.9s\n",
      "381:\tlearn: 0.0976501\ttotal: 30.8s\tremaining: 49.8s\n",
      "382:\tlearn: 0.0976069\ttotal: 30.8s\tremaining: 49.7s\n",
      "383:\tlearn: 0.0975324\ttotal: 30.9s\tremaining: 49.6s\n",
      "384:\tlearn: 0.0974911\ttotal: 31s\tremaining: 49.5s\n",
      "385:\tlearn: 0.0974258\ttotal: 31.1s\tremaining: 49.4s\n",
      "386:\tlearn: 0.0973451\ttotal: 31.2s\tremaining: 49.4s\n",
      "387:\tlearn: 0.0972885\ttotal: 31.3s\tremaining: 49.3s\n",
      "388:\tlearn: 0.0972137\ttotal: 31.3s\tremaining: 49.2s\n",
      "389:\tlearn: 0.0971474\ttotal: 31.4s\tremaining: 49.1s\n",
      "390:\tlearn: 0.0970842\ttotal: 31.5s\tremaining: 49.1s\n",
      "391:\tlearn: 0.0970524\ttotal: 31.6s\tremaining: 49s\n",
      "392:\tlearn: 0.0970039\ttotal: 31.6s\tremaining: 48.9s\n",
      "393:\tlearn: 0.0969438\ttotal: 31.7s\tremaining: 48.8s\n",
      "394:\tlearn: 0.0969034\ttotal: 31.8s\tremaining: 48.7s\n",
      "395:\tlearn: 0.0968465\ttotal: 31.9s\tremaining: 48.6s\n",
      "396:\tlearn: 0.0967868\ttotal: 32s\tremaining: 48.6s\n",
      "397:\tlearn: 0.0967479\ttotal: 32.1s\tremaining: 48.5s\n",
      "398:\tlearn: 0.0966733\ttotal: 32.1s\tremaining: 48.4s\n",
      "399:\tlearn: 0.0966196\ttotal: 32.2s\tremaining: 48.3s\n",
      "400:\tlearn: 0.0965658\ttotal: 32.3s\tremaining: 48.2s\n",
      "401:\tlearn: 0.0965323\ttotal: 32.4s\tremaining: 48.1s\n",
      "402:\tlearn: 0.0964782\ttotal: 32.4s\tremaining: 48s\n",
      "403:\tlearn: 0.0964161\ttotal: 32.5s\tremaining: 48s\n",
      "404:\tlearn: 0.0963616\ttotal: 32.6s\tremaining: 47.9s\n",
      "405:\tlearn: 0.0963193\ttotal: 32.7s\tremaining: 47.8s\n",
      "406:\tlearn: 0.0962633\ttotal: 32.8s\tremaining: 47.7s\n",
      "407:\tlearn: 0.0961999\ttotal: 32.8s\tremaining: 47.6s\n",
      "408:\tlearn: 0.0961576\ttotal: 32.9s\tremaining: 47.6s\n",
      "409:\tlearn: 0.0961015\ttotal: 33s\tremaining: 47.5s\n",
      "410:\tlearn: 0.0960611\ttotal: 33.1s\tremaining: 47.4s\n",
      "411:\tlearn: 0.0960433\ttotal: 33.1s\tremaining: 47.3s\n",
      "412:\tlearn: 0.0959858\ttotal: 33.2s\tremaining: 47.2s\n",
      "413:\tlearn: 0.0959413\ttotal: 33.3s\tremaining: 47.1s\n",
      "414:\tlearn: 0.0958917\ttotal: 33.4s\tremaining: 47.1s\n",
      "415:\tlearn: 0.0958384\ttotal: 33.5s\tremaining: 47s\n",
      "416:\tlearn: 0.0958033\ttotal: 33.5s\tremaining: 46.9s\n",
      "417:\tlearn: 0.0957609\ttotal: 33.6s\tremaining: 46.8s\n",
      "418:\tlearn: 0.0956966\ttotal: 33.7s\tremaining: 46.8s\n",
      "419:\tlearn: 0.0956264\ttotal: 33.8s\tremaining: 46.7s\n",
      "420:\tlearn: 0.0955639\ttotal: 33.9s\tremaining: 46.6s\n",
      "421:\tlearn: 0.0955289\ttotal: 34s\tremaining: 46.5s\n",
      "422:\tlearn: 0.0954578\ttotal: 34s\tremaining: 46.4s\n",
      "423:\tlearn: 0.0954005\ttotal: 34.1s\tremaining: 46.4s\n",
      "424:\tlearn: 0.0953550\ttotal: 34.2s\tremaining: 46.3s\n",
      "425:\tlearn: 0.0952890\ttotal: 34.3s\tremaining: 46.2s\n",
      "426:\tlearn: 0.0952284\ttotal: 34.4s\tremaining: 46.1s\n",
      "427:\tlearn: 0.0951499\ttotal: 34.5s\tremaining: 46.1s\n",
      "428:\tlearn: 0.0950999\ttotal: 34.5s\tremaining: 46s\n",
      "429:\tlearn: 0.0950248\ttotal: 34.6s\tremaining: 45.9s\n",
      "430:\tlearn: 0.0949986\ttotal: 34.7s\tremaining: 45.8s\n",
      "431:\tlearn: 0.0949455\ttotal: 34.8s\tremaining: 45.7s\n",
      "432:\tlearn: 0.0949054\ttotal: 34.9s\tremaining: 45.6s\n",
      "433:\tlearn: 0.0948650\ttotal: 34.9s\tremaining: 45.6s\n",
      "434:\tlearn: 0.0948126\ttotal: 35s\tremaining: 45.5s\n",
      "435:\tlearn: 0.0947661\ttotal: 35.1s\tremaining: 45.4s\n",
      "436:\tlearn: 0.0947206\ttotal: 35.2s\tremaining: 45.3s\n",
      "437:\tlearn: 0.0946846\ttotal: 35.2s\tremaining: 45.2s\n",
      "438:\tlearn: 0.0946377\ttotal: 35.3s\tremaining: 45.1s\n",
      "439:\tlearn: 0.0945956\ttotal: 35.4s\tremaining: 45s\n",
      "440:\tlearn: 0.0945567\ttotal: 35.5s\tremaining: 45s\n",
      "441:\tlearn: 0.0945003\ttotal: 35.6s\tremaining: 44.9s\n",
      "442:\tlearn: 0.0944698\ttotal: 35.6s\tremaining: 44.8s\n",
      "443:\tlearn: 0.0944192\ttotal: 35.7s\tremaining: 44.7s\n",
      "444:\tlearn: 0.0943552\ttotal: 35.8s\tremaining: 44.6s\n",
      "445:\tlearn: 0.0943140\ttotal: 35.9s\tremaining: 44.6s\n",
      "446:\tlearn: 0.0942583\ttotal: 36s\tremaining: 44.5s\n",
      "447:\tlearn: 0.0941988\ttotal: 36s\tremaining: 44.4s\n",
      "448:\tlearn: 0.0941287\ttotal: 36.1s\tremaining: 44.3s\n",
      "449:\tlearn: 0.0940583\ttotal: 36.2s\tremaining: 44.3s\n",
      "450:\tlearn: 0.0940077\ttotal: 36.3s\tremaining: 44.2s\n",
      "451:\tlearn: 0.0939442\ttotal: 36.4s\tremaining: 44.1s\n",
      "452:\tlearn: 0.0938888\ttotal: 36.5s\tremaining: 44s\n",
      "453:\tlearn: 0.0938169\ttotal: 36.5s\tremaining: 43.9s\n",
      "454:\tlearn: 0.0937624\ttotal: 36.6s\tremaining: 43.9s\n",
      "455:\tlearn: 0.0936898\ttotal: 36.7s\tremaining: 43.8s\n",
      "456:\tlearn: 0.0936238\ttotal: 36.8s\tremaining: 43.7s\n",
      "457:\tlearn: 0.0935644\ttotal: 36.9s\tremaining: 43.6s\n",
      "458:\tlearn: 0.0934973\ttotal: 36.9s\tremaining: 43.5s\n",
      "459:\tlearn: 0.0934592\ttotal: 37s\tremaining: 43.5s\n",
      "460:\tlearn: 0.0934125\ttotal: 37.1s\tremaining: 43.4s\n",
      "461:\tlearn: 0.0933549\ttotal: 37.2s\tremaining: 43.3s\n",
      "462:\tlearn: 0.0932949\ttotal: 37.3s\tremaining: 43.2s\n",
      "463:\tlearn: 0.0932460\ttotal: 37.4s\tremaining: 43.2s\n",
      "464:\tlearn: 0.0932136\ttotal: 37.4s\tremaining: 43.1s\n",
      "465:\tlearn: 0.0931547\ttotal: 37.5s\tremaining: 43s\n",
      "466:\tlearn: 0.0931140\ttotal: 37.6s\tremaining: 42.9s\n",
      "467:\tlearn: 0.0930533\ttotal: 37.7s\tremaining: 42.9s\n",
      "468:\tlearn: 0.0930014\ttotal: 37.8s\tremaining: 42.8s\n",
      "469:\tlearn: 0.0929490\ttotal: 37.9s\tremaining: 42.7s\n",
      "470:\tlearn: 0.0929008\ttotal: 37.9s\tremaining: 42.6s\n",
      "471:\tlearn: 0.0928560\ttotal: 38s\tremaining: 42.5s\n",
      "472:\tlearn: 0.0927772\ttotal: 38.1s\tremaining: 42.5s\n",
      "473:\tlearn: 0.0927762\ttotal: 38.2s\tremaining: 42.4s\n",
      "474:\tlearn: 0.0927524\ttotal: 38.3s\tremaining: 42.3s\n",
      "475:\tlearn: 0.0926983\ttotal: 38.3s\tremaining: 42.2s\n",
      "476:\tlearn: 0.0926214\ttotal: 38.4s\tremaining: 42.1s\n",
      "477:\tlearn: 0.0925505\ttotal: 38.5s\tremaining: 42.1s\n",
      "478:\tlearn: 0.0924915\ttotal: 38.6s\tremaining: 42s\n",
      "479:\tlearn: 0.0924644\ttotal: 38.7s\tremaining: 41.9s\n",
      "480:\tlearn: 0.0923999\ttotal: 38.8s\tremaining: 41.8s\n",
      "481:\tlearn: 0.0923485\ttotal: 38.8s\tremaining: 41.7s\n",
      "482:\tlearn: 0.0923067\ttotal: 38.9s\tremaining: 41.7s\n",
      "483:\tlearn: 0.0922810\ttotal: 39s\tremaining: 41.6s\n",
      "484:\tlearn: 0.0922435\ttotal: 39.1s\tremaining: 41.5s\n",
      "485:\tlearn: 0.0921965\ttotal: 39.2s\tremaining: 41.4s\n",
      "486:\tlearn: 0.0921540\ttotal: 39.2s\tremaining: 41.3s\n",
      "487:\tlearn: 0.0920886\ttotal: 39.3s\tremaining: 41.3s\n",
      "488:\tlearn: 0.0920323\ttotal: 39.4s\tremaining: 41.2s\n",
      "489:\tlearn: 0.0919985\ttotal: 39.5s\tremaining: 41.1s\n",
      "490:\tlearn: 0.0919328\ttotal: 39.6s\tremaining: 41s\n",
      "491:\tlearn: 0.0918927\ttotal: 39.7s\tremaining: 40.9s\n",
      "492:\tlearn: 0.0918441\ttotal: 39.7s\tremaining: 40.9s\n",
      "493:\tlearn: 0.0917862\ttotal: 39.8s\tremaining: 40.8s\n",
      "494:\tlearn: 0.0917385\ttotal: 39.9s\tremaining: 40.7s\n",
      "495:\tlearn: 0.0916999\ttotal: 40s\tremaining: 40.6s\n",
      "496:\tlearn: 0.0916514\ttotal: 40s\tremaining: 40.5s\n",
      "497:\tlearn: 0.0916026\ttotal: 40.1s\tremaining: 40.4s\n",
      "498:\tlearn: 0.0915654\ttotal: 40.2s\tremaining: 40.4s\n",
      "499:\tlearn: 0.0914945\ttotal: 40.3s\tremaining: 40.3s\n",
      "500:\tlearn: 0.0914691\ttotal: 40.4s\tremaining: 40.2s\n",
      "501:\tlearn: 0.0914224\ttotal: 40.5s\tremaining: 40.1s\n",
      "502:\tlearn: 0.0913585\ttotal: 40.5s\tremaining: 40.1s\n",
      "503:\tlearn: 0.0913074\ttotal: 40.6s\tremaining: 40s\n",
      "504:\tlearn: 0.0912472\ttotal: 40.7s\tremaining: 39.9s\n",
      "505:\tlearn: 0.0912120\ttotal: 40.8s\tremaining: 39.8s\n",
      "506:\tlearn: 0.0911736\ttotal: 40.9s\tremaining: 39.7s\n",
      "507:\tlearn: 0.0911215\ttotal: 41s\tremaining: 39.7s\n",
      "508:\tlearn: 0.0910894\ttotal: 41s\tremaining: 39.6s\n",
      "509:\tlearn: 0.0910350\ttotal: 41.1s\tremaining: 39.5s\n",
      "510:\tlearn: 0.0909766\ttotal: 41.2s\tremaining: 39.4s\n",
      "511:\tlearn: 0.0909105\ttotal: 41.3s\tremaining: 39.3s\n",
      "512:\tlearn: 0.0908850\ttotal: 41.4s\tremaining: 39.3s\n",
      "513:\tlearn: 0.0908307\ttotal: 41.4s\tremaining: 39.2s\n",
      "514:\tlearn: 0.0908250\ttotal: 41.5s\tremaining: 39.1s\n",
      "515:\tlearn: 0.0907695\ttotal: 41.6s\tremaining: 39s\n",
      "516:\tlearn: 0.0907090\ttotal: 41.7s\tremaining: 38.9s\n",
      "517:\tlearn: 0.0906667\ttotal: 41.8s\tremaining: 38.9s\n",
      "518:\tlearn: 0.0906176\ttotal: 41.8s\tremaining: 38.8s\n",
      "519:\tlearn: 0.0905774\ttotal: 41.9s\tremaining: 38.7s\n",
      "520:\tlearn: 0.0905311\ttotal: 42s\tremaining: 38.6s\n",
      "521:\tlearn: 0.0904860\ttotal: 42.1s\tremaining: 38.5s\n",
      "522:\tlearn: 0.0904398\ttotal: 42.2s\tremaining: 38.5s\n",
      "523:\tlearn: 0.0903920\ttotal: 42.2s\tremaining: 38.4s\n",
      "524:\tlearn: 0.0903713\ttotal: 42.3s\tremaining: 38.3s\n",
      "525:\tlearn: 0.0903432\ttotal: 42.4s\tremaining: 38.2s\n",
      "526:\tlearn: 0.0902914\ttotal: 42.5s\tremaining: 38.2s\n",
      "527:\tlearn: 0.0902286\ttotal: 42.6s\tremaining: 38.1s\n",
      "528:\tlearn: 0.0901775\ttotal: 42.7s\tremaining: 38s\n",
      "529:\tlearn: 0.0901168\ttotal: 42.8s\tremaining: 37.9s\n",
      "530:\tlearn: 0.0900782\ttotal: 42.9s\tremaining: 37.8s\n",
      "531:\tlearn: 0.0900326\ttotal: 42.9s\tremaining: 37.8s\n",
      "532:\tlearn: 0.0900073\ttotal: 43s\tremaining: 37.7s\n",
      "533:\tlearn: 0.0899449\ttotal: 43.1s\tremaining: 37.6s\n",
      "534:\tlearn: 0.0899044\ttotal: 43.2s\tremaining: 37.5s\n",
      "535:\tlearn: 0.0898720\ttotal: 43.3s\tremaining: 37.4s\n",
      "536:\tlearn: 0.0898273\ttotal: 43.3s\tremaining: 37.4s\n",
      "537:\tlearn: 0.0897842\ttotal: 43.4s\tremaining: 37.3s\n",
      "538:\tlearn: 0.0897128\ttotal: 43.5s\tremaining: 37.2s\n",
      "539:\tlearn: 0.0896716\ttotal: 43.6s\tremaining: 37.1s\n",
      "540:\tlearn: 0.0896144\ttotal: 43.7s\tremaining: 37s\n",
      "541:\tlearn: 0.0895570\ttotal: 43.7s\tremaining: 37s\n",
      "542:\tlearn: 0.0895072\ttotal: 43.8s\tremaining: 36.9s\n",
      "543:\tlearn: 0.0894665\ttotal: 43.9s\tremaining: 36.8s\n",
      "544:\tlearn: 0.0894145\ttotal: 44s\tremaining: 36.7s\n",
      "545:\tlearn: 0.0893604\ttotal: 44.1s\tremaining: 36.6s\n",
      "546:\tlearn: 0.0892964\ttotal: 44.2s\tremaining: 36.6s\n",
      "547:\tlearn: 0.0892462\ttotal: 44.2s\tremaining: 36.5s\n",
      "548:\tlearn: 0.0891995\ttotal: 44.3s\tremaining: 36.4s\n",
      "549:\tlearn: 0.0891554\ttotal: 44.4s\tremaining: 36.3s\n",
      "550:\tlearn: 0.0891033\ttotal: 44.5s\tremaining: 36.3s\n",
      "551:\tlearn: 0.0890491\ttotal: 44.6s\tremaining: 36.2s\n",
      "552:\tlearn: 0.0889977\ttotal: 44.7s\tremaining: 36.1s\n",
      "553:\tlearn: 0.0889597\ttotal: 44.7s\tremaining: 36s\n",
      "554:\tlearn: 0.0889163\ttotal: 44.8s\tremaining: 35.9s\n",
      "555:\tlearn: 0.0888653\ttotal: 44.9s\tremaining: 35.9s\n",
      "556:\tlearn: 0.0888154\ttotal: 45s\tremaining: 35.8s\n",
      "557:\tlearn: 0.0887662\ttotal: 45.1s\tremaining: 35.7s\n",
      "558:\tlearn: 0.0886860\ttotal: 45.2s\tremaining: 35.6s\n",
      "559:\tlearn: 0.0886220\ttotal: 45.2s\tremaining: 35.5s\n",
      "560:\tlearn: 0.0885863\ttotal: 45.3s\tremaining: 35.5s\n",
      "561:\tlearn: 0.0885425\ttotal: 45.4s\tremaining: 35.4s\n",
      "562:\tlearn: 0.0884992\ttotal: 45.5s\tremaining: 35.3s\n",
      "563:\tlearn: 0.0884521\ttotal: 45.6s\tremaining: 35.2s\n",
      "564:\tlearn: 0.0883973\ttotal: 45.6s\tremaining: 35.1s\n",
      "565:\tlearn: 0.0883268\ttotal: 45.7s\tremaining: 35.1s\n",
      "566:\tlearn: 0.0882938\ttotal: 45.8s\tremaining: 35s\n",
      "567:\tlearn: 0.0882409\ttotal: 45.9s\tremaining: 34.9s\n",
      "568:\tlearn: 0.0882021\ttotal: 46s\tremaining: 34.8s\n",
      "569:\tlearn: 0.0881656\ttotal: 46s\tremaining: 34.7s\n",
      "570:\tlearn: 0.0881259\ttotal: 46.1s\tremaining: 34.7s\n",
      "571:\tlearn: 0.0880729\ttotal: 46.2s\tremaining: 34.6s\n",
      "572:\tlearn: 0.0880301\ttotal: 46.3s\tremaining: 34.5s\n",
      "573:\tlearn: 0.0879867\ttotal: 46.4s\tremaining: 34.4s\n",
      "574:\tlearn: 0.0879406\ttotal: 46.4s\tremaining: 34.3s\n",
      "575:\tlearn: 0.0878762\ttotal: 46.5s\tremaining: 34.3s\n",
      "576:\tlearn: 0.0878389\ttotal: 46.6s\tremaining: 34.2s\n",
      "577:\tlearn: 0.0878154\ttotal: 46.7s\tremaining: 34.1s\n",
      "578:\tlearn: 0.0877582\ttotal: 46.8s\tremaining: 34s\n",
      "579:\tlearn: 0.0877268\ttotal: 46.9s\tremaining: 33.9s\n",
      "580:\tlearn: 0.0876943\ttotal: 46.9s\tremaining: 33.8s\n",
      "581:\tlearn: 0.0876356\ttotal: 47s\tremaining: 33.8s\n",
      "582:\tlearn: 0.0876225\ttotal: 47.1s\tremaining: 33.7s\n",
      "583:\tlearn: 0.0875940\ttotal: 47.2s\tremaining: 33.6s\n",
      "584:\tlearn: 0.0875591\ttotal: 47.2s\tremaining: 33.5s\n",
      "585:\tlearn: 0.0875019\ttotal: 47.3s\tremaining: 33.4s\n",
      "586:\tlearn: 0.0874580\ttotal: 47.4s\tremaining: 33.4s\n",
      "587:\tlearn: 0.0874150\ttotal: 47.5s\tremaining: 33.3s\n",
      "588:\tlearn: 0.0873870\ttotal: 47.6s\tremaining: 33.2s\n",
      "589:\tlearn: 0.0873547\ttotal: 47.7s\tremaining: 33.1s\n",
      "590:\tlearn: 0.0872905\ttotal: 47.8s\tremaining: 33.1s\n",
      "591:\tlearn: 0.0872427\ttotal: 47.9s\tremaining: 33s\n",
      "592:\tlearn: 0.0871937\ttotal: 47.9s\tremaining: 32.9s\n",
      "593:\tlearn: 0.0871406\ttotal: 48s\tremaining: 32.8s\n",
      "594:\tlearn: 0.0870875\ttotal: 48.1s\tremaining: 32.7s\n",
      "595:\tlearn: 0.0870119\ttotal: 48.2s\tremaining: 32.7s\n",
      "596:\tlearn: 0.0869800\ttotal: 48.3s\tremaining: 32.6s\n",
      "597:\tlearn: 0.0869333\ttotal: 48.4s\tremaining: 32.5s\n",
      "598:\tlearn: 0.0868857\ttotal: 48.4s\tremaining: 32.4s\n",
      "599:\tlearn: 0.0868449\ttotal: 48.5s\tremaining: 32.3s\n",
      "600:\tlearn: 0.0868098\ttotal: 48.6s\tremaining: 32.3s\n",
      "601:\tlearn: 0.0867685\ttotal: 48.7s\tremaining: 32.2s\n",
      "602:\tlearn: 0.0867385\ttotal: 48.8s\tremaining: 32.1s\n",
      "603:\tlearn: 0.0866967\ttotal: 48.8s\tremaining: 32s\n",
      "604:\tlearn: 0.0866713\ttotal: 48.9s\tremaining: 31.9s\n",
      "605:\tlearn: 0.0866468\ttotal: 49s\tremaining: 31.8s\n",
      "606:\tlearn: 0.0866118\ttotal: 49.1s\tremaining: 31.8s\n",
      "607:\tlearn: 0.0865843\ttotal: 49.1s\tremaining: 31.7s\n",
      "608:\tlearn: 0.0865188\ttotal: 49.2s\tremaining: 31.6s\n",
      "609:\tlearn: 0.0865185\ttotal: 49.3s\tremaining: 31.5s\n",
      "610:\tlearn: 0.0864752\ttotal: 49.3s\tremaining: 31.4s\n",
      "611:\tlearn: 0.0864416\ttotal: 49.4s\tremaining: 31.3s\n",
      "612:\tlearn: 0.0863926\ttotal: 49.5s\tremaining: 31.3s\n",
      "613:\tlearn: 0.0863718\ttotal: 49.6s\tremaining: 31.2s\n",
      "614:\tlearn: 0.0863249\ttotal: 49.7s\tremaining: 31.1s\n",
      "615:\tlearn: 0.0862754\ttotal: 49.7s\tremaining: 31s\n",
      "616:\tlearn: 0.0862265\ttotal: 49.8s\tremaining: 30.9s\n",
      "617:\tlearn: 0.0861699\ttotal: 49.9s\tremaining: 30.8s\n",
      "618:\tlearn: 0.0861198\ttotal: 50s\tremaining: 30.8s\n",
      "619:\tlearn: 0.0861198\ttotal: 50s\tremaining: 30.7s\n",
      "620:\tlearn: 0.0860924\ttotal: 50.1s\tremaining: 30.6s\n",
      "621:\tlearn: 0.0860309\ttotal: 50.2s\tremaining: 30.5s\n",
      "622:\tlearn: 0.0860069\ttotal: 50.3s\tremaining: 30.4s\n",
      "623:\tlearn: 0.0859771\ttotal: 50.3s\tremaining: 30.3s\n",
      "624:\tlearn: 0.0859494\ttotal: 50.4s\tremaining: 30.2s\n",
      "625:\tlearn: 0.0858784\ttotal: 50.5s\tremaining: 30.2s\n",
      "626:\tlearn: 0.0858469\ttotal: 50.6s\tremaining: 30.1s\n",
      "627:\tlearn: 0.0858168\ttotal: 50.7s\tremaining: 30s\n",
      "628:\tlearn: 0.0857771\ttotal: 50.7s\tremaining: 29.9s\n",
      "629:\tlearn: 0.0857491\ttotal: 50.8s\tremaining: 29.8s\n",
      "630:\tlearn: 0.0857196\ttotal: 50.9s\tremaining: 29.8s\n",
      "631:\tlearn: 0.0856811\ttotal: 51s\tremaining: 29.7s\n",
      "632:\tlearn: 0.0856492\ttotal: 51s\tremaining: 29.6s\n",
      "633:\tlearn: 0.0856246\ttotal: 51.1s\tremaining: 29.5s\n",
      "634:\tlearn: 0.0855633\ttotal: 51.2s\tremaining: 29.4s\n",
      "635:\tlearn: 0.0855171\ttotal: 51.3s\tremaining: 29.3s\n",
      "636:\tlearn: 0.0854681\ttotal: 51.3s\tremaining: 29.3s\n",
      "637:\tlearn: 0.0854183\ttotal: 51.4s\tremaining: 29.2s\n",
      "638:\tlearn: 0.0853918\ttotal: 51.5s\tremaining: 29.1s\n",
      "639:\tlearn: 0.0853680\ttotal: 51.6s\tremaining: 29s\n",
      "640:\tlearn: 0.0853288\ttotal: 51.7s\tremaining: 29s\n",
      "641:\tlearn: 0.0853026\ttotal: 51.8s\tremaining: 28.9s\n",
      "642:\tlearn: 0.0852721\ttotal: 51.8s\tremaining: 28.8s\n",
      "643:\tlearn: 0.0852328\ttotal: 51.9s\tremaining: 28.7s\n",
      "644:\tlearn: 0.0851862\ttotal: 52s\tremaining: 28.6s\n",
      "645:\tlearn: 0.0851344\ttotal: 52.1s\tremaining: 28.6s\n",
      "646:\tlearn: 0.0851035\ttotal: 52.2s\tremaining: 28.5s\n",
      "647:\tlearn: 0.0850772\ttotal: 52.3s\tremaining: 28.4s\n",
      "648:\tlearn: 0.0850267\ttotal: 52.3s\tremaining: 28.3s\n",
      "649:\tlearn: 0.0849735\ttotal: 52.4s\tremaining: 28.2s\n",
      "650:\tlearn: 0.0849132\ttotal: 52.5s\tremaining: 28.1s\n",
      "651:\tlearn: 0.0848711\ttotal: 52.6s\tremaining: 28.1s\n",
      "652:\tlearn: 0.0848272\ttotal: 52.7s\tremaining: 28s\n",
      "653:\tlearn: 0.0847880\ttotal: 52.8s\tremaining: 27.9s\n",
      "654:\tlearn: 0.0847365\ttotal: 52.8s\tremaining: 27.8s\n",
      "655:\tlearn: 0.0846570\ttotal: 52.9s\tremaining: 27.8s\n",
      "656:\tlearn: 0.0846117\ttotal: 53s\tremaining: 27.7s\n",
      "657:\tlearn: 0.0845700\ttotal: 53.1s\tremaining: 27.6s\n",
      "658:\tlearn: 0.0845110\ttotal: 53.2s\tremaining: 27.5s\n",
      "659:\tlearn: 0.0844554\ttotal: 53.3s\tremaining: 27.4s\n",
      "660:\tlearn: 0.0844101\ttotal: 53.3s\tremaining: 27.4s\n",
      "661:\tlearn: 0.0843703\ttotal: 53.4s\tremaining: 27.3s\n",
      "662:\tlearn: 0.0843446\ttotal: 53.5s\tremaining: 27.2s\n",
      "663:\tlearn: 0.0843142\ttotal: 53.6s\tremaining: 27.1s\n",
      "664:\tlearn: 0.0842783\ttotal: 53.7s\tremaining: 27s\n",
      "665:\tlearn: 0.0842397\ttotal: 53.7s\tremaining: 27s\n",
      "666:\tlearn: 0.0842064\ttotal: 53.8s\tremaining: 26.9s\n",
      "667:\tlearn: 0.0841414\ttotal: 53.9s\tremaining: 26.8s\n",
      "668:\tlearn: 0.0841349\ttotal: 54s\tremaining: 26.7s\n",
      "669:\tlearn: 0.0840883\ttotal: 54s\tremaining: 26.6s\n",
      "670:\tlearn: 0.0840624\ttotal: 54.1s\tremaining: 26.5s\n",
      "671:\tlearn: 0.0840218\ttotal: 54.2s\tremaining: 26.5s\n",
      "672:\tlearn: 0.0839652\ttotal: 54.3s\tremaining: 26.4s\n",
      "673:\tlearn: 0.0839265\ttotal: 54.4s\tremaining: 26.3s\n",
      "674:\tlearn: 0.0839220\ttotal: 54.4s\tremaining: 26.2s\n",
      "675:\tlearn: 0.0838727\ttotal: 54.5s\tremaining: 26.1s\n",
      "676:\tlearn: 0.0838438\ttotal: 54.6s\tremaining: 26.1s\n",
      "677:\tlearn: 0.0838059\ttotal: 54.7s\tremaining: 26s\n",
      "678:\tlearn: 0.0837869\ttotal: 54.8s\tremaining: 25.9s\n",
      "679:\tlearn: 0.0837410\ttotal: 54.8s\tremaining: 25.8s\n",
      "680:\tlearn: 0.0837065\ttotal: 54.9s\tremaining: 25.7s\n",
      "681:\tlearn: 0.0836612\ttotal: 55s\tremaining: 25.6s\n",
      "682:\tlearn: 0.0836200\ttotal: 55.1s\tremaining: 25.6s\n",
      "683:\tlearn: 0.0836033\ttotal: 55.1s\tremaining: 25.5s\n",
      "684:\tlearn: 0.0835572\ttotal: 55.2s\tremaining: 25.4s\n",
      "685:\tlearn: 0.0834923\ttotal: 55.3s\tremaining: 25.3s\n",
      "686:\tlearn: 0.0834538\ttotal: 55.4s\tremaining: 25.2s\n",
      "687:\tlearn: 0.0834036\ttotal: 55.5s\tremaining: 25.2s\n",
      "688:\tlearn: 0.0833659\ttotal: 55.6s\tremaining: 25.1s\n",
      "689:\tlearn: 0.0833067\ttotal: 55.6s\tremaining: 25s\n",
      "690:\tlearn: 0.0832746\ttotal: 55.7s\tremaining: 24.9s\n",
      "691:\tlearn: 0.0832469\ttotal: 55.8s\tremaining: 24.8s\n",
      "692:\tlearn: 0.0831988\ttotal: 55.9s\tremaining: 24.8s\n",
      "693:\tlearn: 0.0831619\ttotal: 55.9s\tremaining: 24.7s\n",
      "694:\tlearn: 0.0831198\ttotal: 56s\tremaining: 24.6s\n",
      "695:\tlearn: 0.0830821\ttotal: 56.1s\tremaining: 24.5s\n",
      "696:\tlearn: 0.0830608\ttotal: 56.2s\tremaining: 24.4s\n",
      "697:\tlearn: 0.0830215\ttotal: 56.3s\tremaining: 24.3s\n",
      "698:\tlearn: 0.0829733\ttotal: 56.4s\tremaining: 24.3s\n",
      "699:\tlearn: 0.0829411\ttotal: 56.4s\tremaining: 24.2s\n",
      "700:\tlearn: 0.0828928\ttotal: 56.5s\tremaining: 24.1s\n",
      "701:\tlearn: 0.0828701\ttotal: 56.6s\tremaining: 24s\n",
      "702:\tlearn: 0.0828491\ttotal: 56.7s\tremaining: 23.9s\n",
      "703:\tlearn: 0.0828218\ttotal: 56.7s\tremaining: 23.9s\n",
      "704:\tlearn: 0.0827777\ttotal: 56.8s\tremaining: 23.8s\n",
      "705:\tlearn: 0.0827268\ttotal: 56.9s\tremaining: 23.7s\n",
      "706:\tlearn: 0.0826766\ttotal: 57s\tremaining: 23.6s\n",
      "707:\tlearn: 0.0826360\ttotal: 57.1s\tremaining: 23.5s\n",
      "708:\tlearn: 0.0825963\ttotal: 57.1s\tremaining: 23.4s\n",
      "709:\tlearn: 0.0825610\ttotal: 57.2s\tremaining: 23.4s\n",
      "710:\tlearn: 0.0825287\ttotal: 57.3s\tremaining: 23.3s\n",
      "711:\tlearn: 0.0824996\ttotal: 57.4s\tremaining: 23.2s\n",
      "712:\tlearn: 0.0824651\ttotal: 57.5s\tremaining: 23.1s\n",
      "713:\tlearn: 0.0824358\ttotal: 57.5s\tremaining: 23s\n",
      "714:\tlearn: 0.0824024\ttotal: 57.6s\tremaining: 23s\n",
      "715:\tlearn: 0.0823480\ttotal: 57.7s\tremaining: 22.9s\n",
      "716:\tlearn: 0.0823130\ttotal: 57.8s\tremaining: 22.8s\n",
      "717:\tlearn: 0.0822550\ttotal: 57.9s\tremaining: 22.7s\n",
      "718:\tlearn: 0.0822188\ttotal: 57.9s\tremaining: 22.6s\n",
      "719:\tlearn: 0.0821751\ttotal: 58s\tremaining: 22.6s\n",
      "720:\tlearn: 0.0821213\ttotal: 58.1s\tremaining: 22.5s\n",
      "721:\tlearn: 0.0820725\ttotal: 58.2s\tremaining: 22.4s\n",
      "722:\tlearn: 0.0820448\ttotal: 58.3s\tremaining: 22.3s\n",
      "723:\tlearn: 0.0820059\ttotal: 58.3s\tremaining: 22.2s\n",
      "724:\tlearn: 0.0819834\ttotal: 58.4s\tremaining: 22.2s\n",
      "725:\tlearn: 0.0819464\ttotal: 58.5s\tremaining: 22.1s\n",
      "726:\tlearn: 0.0819138\ttotal: 58.6s\tremaining: 22s\n",
      "727:\tlearn: 0.0819002\ttotal: 58.6s\tremaining: 21.9s\n",
      "728:\tlearn: 0.0818809\ttotal: 58.7s\tremaining: 21.8s\n",
      "729:\tlearn: 0.0818456\ttotal: 58.8s\tremaining: 21.8s\n",
      "730:\tlearn: 0.0817934\ttotal: 58.9s\tremaining: 21.7s\n",
      "731:\tlearn: 0.0817578\ttotal: 59s\tremaining: 21.6s\n",
      "732:\tlearn: 0.0817460\ttotal: 59s\tremaining: 21.5s\n",
      "733:\tlearn: 0.0817218\ttotal: 59.1s\tremaining: 21.4s\n",
      "734:\tlearn: 0.0816808\ttotal: 59.2s\tremaining: 21.3s\n",
      "735:\tlearn: 0.0816481\ttotal: 59.3s\tremaining: 21.3s\n",
      "736:\tlearn: 0.0816104\ttotal: 59.4s\tremaining: 21.2s\n",
      "737:\tlearn: 0.0815692\ttotal: 59.4s\tremaining: 21.1s\n",
      "738:\tlearn: 0.0815407\ttotal: 59.5s\tremaining: 21s\n",
      "739:\tlearn: 0.0815002\ttotal: 59.6s\tremaining: 20.9s\n",
      "740:\tlearn: 0.0814693\ttotal: 59.7s\tremaining: 20.9s\n",
      "741:\tlearn: 0.0814338\ttotal: 59.8s\tremaining: 20.8s\n",
      "742:\tlearn: 0.0813891\ttotal: 59.8s\tremaining: 20.7s\n",
      "743:\tlearn: 0.0813429\ttotal: 59.9s\tremaining: 20.6s\n",
      "744:\tlearn: 0.0813125\ttotal: 60s\tremaining: 20.5s\n",
      "745:\tlearn: 0.0812603\ttotal: 1m\tremaining: 20.5s\n",
      "746:\tlearn: 0.0812138\ttotal: 1m\tremaining: 20.4s\n",
      "747:\tlearn: 0.0811686\ttotal: 1m\tremaining: 20.3s\n",
      "748:\tlearn: 0.0811265\ttotal: 1m\tremaining: 20.2s\n",
      "749:\tlearn: 0.0811006\ttotal: 1m\tremaining: 20.1s\n",
      "750:\tlearn: 0.0810775\ttotal: 1m\tremaining: 20s\n",
      "751:\tlearn: 0.0810355\ttotal: 1m\tremaining: 20s\n",
      "752:\tlearn: 0.0809808\ttotal: 1m\tremaining: 19.9s\n",
      "753:\tlearn: 0.0809743\ttotal: 1m\tremaining: 19.8s\n",
      "754:\tlearn: 0.0809485\ttotal: 1m\tremaining: 19.7s\n",
      "755:\tlearn: 0.0809259\ttotal: 1m\tremaining: 19.6s\n",
      "756:\tlearn: 0.0808905\ttotal: 1m\tremaining: 19.6s\n",
      "757:\tlearn: 0.0808600\ttotal: 1m 1s\tremaining: 19.5s\n",
      "758:\tlearn: 0.0808007\ttotal: 1m 1s\tremaining: 19.4s\n",
      "759:\tlearn: 0.0807563\ttotal: 1m 1s\tremaining: 19.3s\n",
      "760:\tlearn: 0.0807050\ttotal: 1m 1s\tremaining: 19.2s\n",
      "761:\tlearn: 0.0806657\ttotal: 1m 1s\tremaining: 19.2s\n",
      "762:\tlearn: 0.0806408\ttotal: 1m 1s\tremaining: 19.1s\n",
      "763:\tlearn: 0.0806017\ttotal: 1m 1s\tremaining: 19s\n",
      "764:\tlearn: 0.0805537\ttotal: 1m 1s\tremaining: 18.9s\n",
      "765:\tlearn: 0.0805038\ttotal: 1m 1s\tremaining: 18.8s\n",
      "766:\tlearn: 0.0804647\ttotal: 1m 1s\tremaining: 18.8s\n",
      "767:\tlearn: 0.0804346\ttotal: 1m 1s\tremaining: 18.7s\n",
      "768:\tlearn: 0.0803925\ttotal: 1m 1s\tremaining: 18.6s\n",
      "769:\tlearn: 0.0803609\ttotal: 1m 1s\tremaining: 18.5s\n",
      "770:\tlearn: 0.0803258\ttotal: 1m 2s\tremaining: 18.4s\n",
      "771:\tlearn: 0.0802827\ttotal: 1m 2s\tremaining: 18.3s\n",
      "772:\tlearn: 0.0802387\ttotal: 1m 2s\tremaining: 18.3s\n",
      "773:\tlearn: 0.0802055\ttotal: 1m 2s\tremaining: 18.2s\n",
      "774:\tlearn: 0.0801632\ttotal: 1m 2s\tremaining: 18.1s\n",
      "775:\tlearn: 0.0801186\ttotal: 1m 2s\tremaining: 18s\n",
      "776:\tlearn: 0.0800695\ttotal: 1m 2s\tremaining: 18s\n",
      "777:\tlearn: 0.0800536\ttotal: 1m 2s\tremaining: 17.9s\n",
      "778:\tlearn: 0.0800113\ttotal: 1m 2s\tremaining: 17.8s\n",
      "779:\tlearn: 0.0799661\ttotal: 1m 2s\tremaining: 17.7s\n",
      "780:\tlearn: 0.0799364\ttotal: 1m 2s\tremaining: 17.6s\n",
      "781:\tlearn: 0.0798999\ttotal: 1m 2s\tremaining: 17.6s\n",
      "782:\tlearn: 0.0798562\ttotal: 1m 3s\tremaining: 17.5s\n",
      "783:\tlearn: 0.0798345\ttotal: 1m 3s\tremaining: 17.4s\n",
      "784:\tlearn: 0.0797894\ttotal: 1m 3s\tremaining: 17.3s\n",
      "785:\tlearn: 0.0797644\ttotal: 1m 3s\tremaining: 17.2s\n",
      "786:\tlearn: 0.0797245\ttotal: 1m 3s\tremaining: 17.1s\n",
      "787:\tlearn: 0.0796889\ttotal: 1m 3s\tremaining: 17.1s\n",
      "788:\tlearn: 0.0796435\ttotal: 1m 3s\tremaining: 17s\n",
      "789:\tlearn: 0.0796095\ttotal: 1m 3s\tremaining: 16.9s\n",
      "790:\tlearn: 0.0795488\ttotal: 1m 3s\tremaining: 16.8s\n",
      "791:\tlearn: 0.0795168\ttotal: 1m 3s\tremaining: 16.7s\n",
      "792:\tlearn: 0.0794958\ttotal: 1m 3s\tremaining: 16.7s\n",
      "793:\tlearn: 0.0794639\ttotal: 1m 3s\tremaining: 16.6s\n",
      "794:\tlearn: 0.0794313\ttotal: 1m 3s\tremaining: 16.5s\n",
      "795:\tlearn: 0.0794073\ttotal: 1m 4s\tremaining: 16.4s\n",
      "796:\tlearn: 0.0793692\ttotal: 1m 4s\tremaining: 16.3s\n",
      "797:\tlearn: 0.0793276\ttotal: 1m 4s\tremaining: 16.3s\n",
      "798:\tlearn: 0.0792807\ttotal: 1m 4s\tremaining: 16.2s\n",
      "799:\tlearn: 0.0792468\ttotal: 1m 4s\tremaining: 16.1s\n",
      "800:\tlearn: 0.0791882\ttotal: 1m 4s\tremaining: 16s\n",
      "801:\tlearn: 0.0791578\ttotal: 1m 4s\tremaining: 15.9s\n",
      "802:\tlearn: 0.0791362\ttotal: 1m 4s\tremaining: 15.9s\n",
      "803:\tlearn: 0.0791122\ttotal: 1m 4s\tremaining: 15.8s\n",
      "804:\tlearn: 0.0790799\ttotal: 1m 4s\tremaining: 15.7s\n",
      "805:\tlearn: 0.0790396\ttotal: 1m 4s\tremaining: 15.6s\n",
      "806:\tlearn: 0.0790186\ttotal: 1m 4s\tremaining: 15.5s\n",
      "807:\tlearn: 0.0789890\ttotal: 1m 5s\tremaining: 15.5s\n",
      "808:\tlearn: 0.0789470\ttotal: 1m 5s\tremaining: 15.4s\n",
      "809:\tlearn: 0.0789054\ttotal: 1m 5s\tremaining: 15.3s\n",
      "810:\tlearn: 0.0788588\ttotal: 1m 5s\tremaining: 15.2s\n",
      "811:\tlearn: 0.0788360\ttotal: 1m 5s\tremaining: 15.1s\n",
      "812:\tlearn: 0.0788022\ttotal: 1m 5s\tremaining: 15.1s\n",
      "813:\tlearn: 0.0787581\ttotal: 1m 5s\tremaining: 15s\n",
      "814:\tlearn: 0.0787276\ttotal: 1m 5s\tremaining: 14.9s\n",
      "815:\tlearn: 0.0787048\ttotal: 1m 5s\tremaining: 14.8s\n",
      "816:\tlearn: 0.0786659\ttotal: 1m 5s\tremaining: 14.7s\n",
      "817:\tlearn: 0.0786343\ttotal: 1m 5s\tremaining: 14.7s\n",
      "818:\tlearn: 0.0786081\ttotal: 1m 5s\tremaining: 14.6s\n",
      "819:\tlearn: 0.0785551\ttotal: 1m 6s\tremaining: 14.5s\n",
      "820:\tlearn: 0.0785182\ttotal: 1m 6s\tremaining: 14.4s\n",
      "821:\tlearn: 0.0784998\ttotal: 1m 6s\tremaining: 14.3s\n",
      "822:\tlearn: 0.0784521\ttotal: 1m 6s\tremaining: 14.2s\n",
      "823:\tlearn: 0.0784284\ttotal: 1m 6s\tremaining: 14.2s\n",
      "824:\tlearn: 0.0783685\ttotal: 1m 6s\tremaining: 14.1s\n",
      "825:\tlearn: 0.0783369\ttotal: 1m 6s\tremaining: 14s\n",
      "826:\tlearn: 0.0783041\ttotal: 1m 6s\tremaining: 13.9s\n",
      "827:\tlearn: 0.0782573\ttotal: 1m 6s\tremaining: 13.8s\n",
      "828:\tlearn: 0.0782198\ttotal: 1m 6s\tremaining: 13.8s\n",
      "829:\tlearn: 0.0781625\ttotal: 1m 6s\tremaining: 13.7s\n",
      "830:\tlearn: 0.0781163\ttotal: 1m 6s\tremaining: 13.6s\n",
      "831:\tlearn: 0.0780616\ttotal: 1m 6s\tremaining: 13.5s\n",
      "832:\tlearn: 0.0780192\ttotal: 1m 7s\tremaining: 13.4s\n",
      "833:\tlearn: 0.0779921\ttotal: 1m 7s\tremaining: 13.4s\n",
      "834:\tlearn: 0.0779511\ttotal: 1m 7s\tremaining: 13.3s\n",
      "835:\tlearn: 0.0779082\ttotal: 1m 7s\tremaining: 13.2s\n",
      "836:\tlearn: 0.0778971\ttotal: 1m 7s\tremaining: 13.1s\n",
      "837:\tlearn: 0.0778704\ttotal: 1m 7s\tremaining: 13s\n",
      "838:\tlearn: 0.0778271\ttotal: 1m 7s\tremaining: 13s\n",
      "839:\tlearn: 0.0777844\ttotal: 1m 7s\tremaining: 12.9s\n",
      "840:\tlearn: 0.0777389\ttotal: 1m 7s\tremaining: 12.8s\n",
      "841:\tlearn: 0.0777059\ttotal: 1m 7s\tremaining: 12.7s\n",
      "842:\tlearn: 0.0776620\ttotal: 1m 7s\tremaining: 12.6s\n",
      "843:\tlearn: 0.0776436\ttotal: 1m 7s\tremaining: 12.6s\n",
      "844:\tlearn: 0.0776030\ttotal: 1m 8s\tremaining: 12.5s\n",
      "845:\tlearn: 0.0775557\ttotal: 1m 8s\tremaining: 12.4s\n",
      "846:\tlearn: 0.0775088\ttotal: 1m 8s\tremaining: 12.3s\n",
      "847:\tlearn: 0.0774587\ttotal: 1m 8s\tremaining: 12.2s\n",
      "848:\tlearn: 0.0774222\ttotal: 1m 8s\tremaining: 12.2s\n",
      "849:\tlearn: 0.0773685\ttotal: 1m 8s\tremaining: 12.1s\n",
      "850:\tlearn: 0.0773362\ttotal: 1m 8s\tremaining: 12s\n",
      "851:\tlearn: 0.0772990\ttotal: 1m 8s\tremaining: 11.9s\n",
      "852:\tlearn: 0.0772560\ttotal: 1m 8s\tremaining: 11.8s\n",
      "853:\tlearn: 0.0772191\ttotal: 1m 8s\tremaining: 11.8s\n",
      "854:\tlearn: 0.0771827\ttotal: 1m 8s\tremaining: 11.7s\n",
      "855:\tlearn: 0.0771379\ttotal: 1m 8s\tremaining: 11.6s\n",
      "856:\tlearn: 0.0771027\ttotal: 1m 9s\tremaining: 11.5s\n",
      "857:\tlearn: 0.0770632\ttotal: 1m 9s\tremaining: 11.4s\n",
      "858:\tlearn: 0.0770221\ttotal: 1m 9s\tremaining: 11.4s\n",
      "859:\tlearn: 0.0769808\ttotal: 1m 9s\tremaining: 11.3s\n",
      "860:\tlearn: 0.0769418\ttotal: 1m 9s\tremaining: 11.2s\n",
      "861:\tlearn: 0.0769011\ttotal: 1m 9s\tremaining: 11.1s\n",
      "862:\tlearn: 0.0768649\ttotal: 1m 9s\tremaining: 11s\n",
      "863:\tlearn: 0.0768460\ttotal: 1m 9s\tremaining: 11s\n",
      "864:\tlearn: 0.0768068\ttotal: 1m 9s\tremaining: 10.9s\n",
      "865:\tlearn: 0.0767782\ttotal: 1m 9s\tremaining: 10.8s\n",
      "866:\tlearn: 0.0767499\ttotal: 1m 9s\tremaining: 10.7s\n",
      "867:\tlearn: 0.0767123\ttotal: 1m 9s\tremaining: 10.6s\n",
      "868:\tlearn: 0.0766660\ttotal: 1m 10s\tremaining: 10.6s\n",
      "869:\tlearn: 0.0766325\ttotal: 1m 10s\tremaining: 10.5s\n",
      "870:\tlearn: 0.0765967\ttotal: 1m 10s\tremaining: 10.4s\n",
      "871:\tlearn: 0.0765693\ttotal: 1m 10s\tremaining: 10.3s\n",
      "872:\tlearn: 0.0765349\ttotal: 1m 10s\tremaining: 10.2s\n",
      "873:\tlearn: 0.0764840\ttotal: 1m 10s\tremaining: 10.2s\n",
      "874:\tlearn: 0.0764687\ttotal: 1m 10s\tremaining: 10.1s\n",
      "875:\tlearn: 0.0764259\ttotal: 1m 10s\tremaining: 9.99s\n",
      "876:\tlearn: 0.0763834\ttotal: 1m 10s\tremaining: 9.91s\n",
      "877:\tlearn: 0.0763609\ttotal: 1m 10s\tremaining: 9.84s\n",
      "878:\tlearn: 0.0763311\ttotal: 1m 10s\tremaining: 9.75s\n",
      "879:\tlearn: 0.0762928\ttotal: 1m 10s\tremaining: 9.67s\n",
      "880:\tlearn: 0.0762366\ttotal: 1m 11s\tremaining: 9.6s\n",
      "881:\tlearn: 0.0762278\ttotal: 1m 11s\tremaining: 9.51s\n",
      "882:\tlearn: 0.0761806\ttotal: 1m 11s\tremaining: 9.43s\n",
      "883:\tlearn: 0.0761618\ttotal: 1m 11s\tremaining: 9.35s\n",
      "884:\tlearn: 0.0761245\ttotal: 1m 11s\tremaining: 9.27s\n",
      "885:\tlearn: 0.0760850\ttotal: 1m 11s\tremaining: 9.19s\n",
      "886:\tlearn: 0.0760461\ttotal: 1m 11s\tremaining: 9.11s\n",
      "887:\tlearn: 0.0760112\ttotal: 1m 11s\tremaining: 9.03s\n",
      "888:\tlearn: 0.0759788\ttotal: 1m 11s\tremaining: 8.95s\n",
      "889:\tlearn: 0.0759351\ttotal: 1m 11s\tremaining: 8.88s\n",
      "890:\tlearn: 0.0758926\ttotal: 1m 11s\tremaining: 8.8s\n",
      "891:\tlearn: 0.0758428\ttotal: 1m 12s\tremaining: 8.72s\n",
      "892:\tlearn: 0.0758172\ttotal: 1m 12s\tremaining: 8.64s\n",
      "893:\tlearn: 0.0757918\ttotal: 1m 12s\tremaining: 8.56s\n",
      "894:\tlearn: 0.0757528\ttotal: 1m 12s\tremaining: 8.48s\n",
      "895:\tlearn: 0.0757158\ttotal: 1m 12s\tremaining: 8.4s\n",
      "896:\tlearn: 0.0756763\ttotal: 1m 12s\tremaining: 8.32s\n",
      "897:\tlearn: 0.0756363\ttotal: 1m 12s\tremaining: 8.24s\n",
      "898:\tlearn: 0.0755933\ttotal: 1m 12s\tremaining: 8.16s\n",
      "899:\tlearn: 0.0755558\ttotal: 1m 12s\tremaining: 8.08s\n",
      "900:\tlearn: 0.0755216\ttotal: 1m 12s\tremaining: 8s\n",
      "901:\tlearn: 0.0754948\ttotal: 1m 12s\tremaining: 7.92s\n",
      "902:\tlearn: 0.0754637\ttotal: 1m 12s\tremaining: 7.84s\n",
      "903:\tlearn: 0.0754085\ttotal: 1m 13s\tremaining: 7.76s\n",
      "904:\tlearn: 0.0753692\ttotal: 1m 13s\tremaining: 7.68s\n",
      "905:\tlearn: 0.0753368\ttotal: 1m 13s\tremaining: 7.59s\n",
      "906:\tlearn: 0.0753006\ttotal: 1m 13s\tremaining: 7.51s\n",
      "907:\tlearn: 0.0752559\ttotal: 1m 13s\tremaining: 7.43s\n",
      "908:\tlearn: 0.0752152\ttotal: 1m 13s\tremaining: 7.35s\n",
      "909:\tlearn: 0.0751862\ttotal: 1m 13s\tremaining: 7.27s\n",
      "910:\tlearn: 0.0751627\ttotal: 1m 13s\tremaining: 7.19s\n",
      "911:\tlearn: 0.0751363\ttotal: 1m 13s\tremaining: 7.11s\n",
      "912:\tlearn: 0.0750977\ttotal: 1m 13s\tremaining: 7.03s\n",
      "913:\tlearn: 0.0750530\ttotal: 1m 13s\tremaining: 6.95s\n",
      "914:\tlearn: 0.0750342\ttotal: 1m 13s\tremaining: 6.87s\n",
      "915:\tlearn: 0.0750167\ttotal: 1m 14s\tremaining: 6.79s\n",
      "916:\tlearn: 0.0749943\ttotal: 1m 14s\tremaining: 6.71s\n",
      "917:\tlearn: 0.0749612\ttotal: 1m 14s\tremaining: 6.63s\n",
      "918:\tlearn: 0.0749195\ttotal: 1m 14s\tremaining: 6.55s\n",
      "919:\tlearn: 0.0749180\ttotal: 1m 14s\tremaining: 6.46s\n",
      "920:\tlearn: 0.0748839\ttotal: 1m 14s\tremaining: 6.38s\n",
      "921:\tlearn: 0.0748479\ttotal: 1m 14s\tremaining: 6.3s\n",
      "922:\tlearn: 0.0748001\ttotal: 1m 14s\tremaining: 6.22s\n",
      "923:\tlearn: 0.0747637\ttotal: 1m 14s\tremaining: 6.14s\n",
      "924:\tlearn: 0.0747427\ttotal: 1m 14s\tremaining: 6.06s\n",
      "925:\tlearn: 0.0747078\ttotal: 1m 14s\tremaining: 5.98s\n",
      "926:\tlearn: 0.0746615\ttotal: 1m 14s\tremaining: 5.9s\n",
      "927:\tlearn: 0.0746457\ttotal: 1m 14s\tremaining: 5.82s\n",
      "928:\tlearn: 0.0746078\ttotal: 1m 15s\tremaining: 5.74s\n",
      "929:\tlearn: 0.0745803\ttotal: 1m 15s\tremaining: 5.66s\n",
      "930:\tlearn: 0.0745427\ttotal: 1m 15s\tremaining: 5.58s\n",
      "931:\tlearn: 0.0744986\ttotal: 1m 15s\tremaining: 5.5s\n",
      "932:\tlearn: 0.0744701\ttotal: 1m 15s\tremaining: 5.42s\n",
      "933:\tlearn: 0.0744265\ttotal: 1m 15s\tremaining: 5.33s\n",
      "934:\tlearn: 0.0743939\ttotal: 1m 15s\tremaining: 5.25s\n",
      "935:\tlearn: 0.0743455\ttotal: 1m 15s\tremaining: 5.17s\n",
      "936:\tlearn: 0.0743078\ttotal: 1m 15s\tremaining: 5.09s\n",
      "937:\tlearn: 0.0742616\ttotal: 1m 15s\tremaining: 5.01s\n",
      "938:\tlearn: 0.0742227\ttotal: 1m 15s\tremaining: 4.93s\n",
      "939:\tlearn: 0.0741957\ttotal: 1m 15s\tremaining: 4.85s\n",
      "940:\tlearn: 0.0741633\ttotal: 1m 16s\tremaining: 4.77s\n",
      "941:\tlearn: 0.0741313\ttotal: 1m 16s\tremaining: 4.69s\n",
      "942:\tlearn: 0.0740990\ttotal: 1m 16s\tremaining: 4.61s\n",
      "943:\tlearn: 0.0740551\ttotal: 1m 16s\tremaining: 4.53s\n",
      "944:\tlearn: 0.0740221\ttotal: 1m 16s\tremaining: 4.45s\n",
      "945:\tlearn: 0.0739724\ttotal: 1m 16s\tremaining: 4.37s\n",
      "946:\tlearn: 0.0739242\ttotal: 1m 16s\tremaining: 4.29s\n",
      "947:\tlearn: 0.0738874\ttotal: 1m 16s\tremaining: 4.2s\n",
      "948:\tlearn: 0.0738583\ttotal: 1m 16s\tremaining: 4.12s\n",
      "949:\tlearn: 0.0738260\ttotal: 1m 16s\tremaining: 4.04s\n",
      "950:\tlearn: 0.0738013\ttotal: 1m 16s\tremaining: 3.96s\n",
      "951:\tlearn: 0.0737978\ttotal: 1m 16s\tremaining: 3.88s\n",
      "952:\tlearn: 0.0737681\ttotal: 1m 17s\tremaining: 3.8s\n",
      "953:\tlearn: 0.0737296\ttotal: 1m 17s\tremaining: 3.72s\n",
      "954:\tlearn: 0.0736991\ttotal: 1m 17s\tremaining: 3.64s\n",
      "955:\tlearn: 0.0736683\ttotal: 1m 17s\tremaining: 3.56s\n",
      "956:\tlearn: 0.0736496\ttotal: 1m 17s\tremaining: 3.48s\n",
      "957:\tlearn: 0.0736271\ttotal: 1m 17s\tremaining: 3.4s\n",
      "958:\tlearn: 0.0735992\ttotal: 1m 17s\tremaining: 3.31s\n",
      "959:\tlearn: 0.0735775\ttotal: 1m 17s\tremaining: 3.23s\n",
      "960:\tlearn: 0.0735622\ttotal: 1m 17s\tremaining: 3.15s\n",
      "961:\tlearn: 0.0735421\ttotal: 1m 17s\tremaining: 3.07s\n",
      "962:\tlearn: 0.0735130\ttotal: 1m 17s\tremaining: 2.99s\n",
      "963:\tlearn: 0.0734954\ttotal: 1m 17s\tremaining: 2.91s\n",
      "964:\tlearn: 0.0734432\ttotal: 1m 18s\tremaining: 2.83s\n",
      "965:\tlearn: 0.0734161\ttotal: 1m 18s\tremaining: 2.75s\n",
      "966:\tlearn: 0.0733799\ttotal: 1m 18s\tremaining: 2.67s\n",
      "967:\tlearn: 0.0733336\ttotal: 1m 18s\tremaining: 2.59s\n",
      "968:\tlearn: 0.0733130\ttotal: 1m 18s\tremaining: 2.5s\n",
      "969:\tlearn: 0.0732815\ttotal: 1m 18s\tremaining: 2.42s\n",
      "970:\tlearn: 0.0732421\ttotal: 1m 18s\tremaining: 2.34s\n",
      "971:\tlearn: 0.0731847\ttotal: 1m 18s\tremaining: 2.26s\n",
      "972:\tlearn: 0.0731669\ttotal: 1m 18s\tremaining: 2.18s\n",
      "973:\tlearn: 0.0731460\ttotal: 1m 18s\tremaining: 2.1s\n",
      "974:\tlearn: 0.0731019\ttotal: 1m 18s\tremaining: 2.02s\n",
      "975:\tlearn: 0.0730629\ttotal: 1m 18s\tremaining: 1.94s\n",
      "976:\tlearn: 0.0730341\ttotal: 1m 18s\tremaining: 1.86s\n",
      "977:\tlearn: 0.0730159\ttotal: 1m 19s\tremaining: 1.78s\n",
      "978:\tlearn: 0.0729802\ttotal: 1m 19s\tremaining: 1.7s\n",
      "979:\tlearn: 0.0729436\ttotal: 1m 19s\tremaining: 1.62s\n",
      "980:\tlearn: 0.0729134\ttotal: 1m 19s\tremaining: 1.54s\n",
      "981:\tlearn: 0.0728705\ttotal: 1m 19s\tremaining: 1.46s\n",
      "982:\tlearn: 0.0728364\ttotal: 1m 19s\tremaining: 1.37s\n",
      "983:\tlearn: 0.0728198\ttotal: 1m 19s\tremaining: 1.29s\n",
      "984:\tlearn: 0.0727875\ttotal: 1m 19s\tremaining: 1.21s\n",
      "985:\tlearn: 0.0727547\ttotal: 1m 19s\tremaining: 1.13s\n",
      "986:\tlearn: 0.0727171\ttotal: 1m 19s\tremaining: 1.05s\n",
      "987:\tlearn: 0.0727039\ttotal: 1m 19s\tremaining: 970ms\n",
      "988:\tlearn: 0.0726933\ttotal: 1m 19s\tremaining: 889ms\n",
      "989:\tlearn: 0.0726636\ttotal: 1m 20s\tremaining: 808ms\n",
      "990:\tlearn: 0.0726441\ttotal: 1m 20s\tremaining: 727ms\n",
      "991:\tlearn: 0.0726025\ttotal: 1m 20s\tremaining: 647ms\n",
      "992:\tlearn: 0.0725644\ttotal: 1m 20s\tremaining: 566ms\n",
      "993:\tlearn: 0.0725279\ttotal: 1m 20s\tremaining: 485ms\n",
      "994:\tlearn: 0.0724923\ttotal: 1m 20s\tremaining: 404ms\n",
      "995:\tlearn: 0.0724750\ttotal: 1m 20s\tremaining: 323ms\n",
      "996:\tlearn: 0.0724564\ttotal: 1m 20s\tremaining: 242ms\n",
      "997:\tlearn: 0.0724146\ttotal: 1m 20s\tremaining: 162ms\n",
      "998:\tlearn: 0.0723867\ttotal: 1m 20s\tremaining: 80.8ms\n",
      "999:\tlearn: 0.0723552\ttotal: 1m 20s\tremaining: 0us\n"
     ]
    }
   ],
   "source": [
    "model8 = grid8.fit(data_train, target_train)"
   ]
  },
  {
   "cell_type": "code",
   "execution_count": null,
   "id": "fcaa1de8",
   "metadata": {
    "colab": {
     "base_uri": "https://localhost:8080/"
    },
    "executionInfo": {
     "elapsed": 393,
     "status": "ok",
     "timestamp": 1658670813165,
     "user": {
      "displayName": "pawel kinczyk",
      "userId": "16956936289197048561"
     },
     "user_tz": -120
    },
    "id": "fcaa1de8",
    "outputId": "78bf9fc3-2dc5-488c-fc6b-153b04beb5d8"
   },
   "outputs": [
    {
     "data": {
      "text/plain": [
       "0.950366220133566"
      ]
     },
     "execution_count": 22,
     "metadata": {},
     "output_type": "execute_result"
    }
   ],
   "source": [
    "model8.best_score_"
   ]
  },
  {
   "cell_type": "code",
   "execution_count": null,
   "id": "28948cea",
   "metadata": {
    "colab": {
     "base_uri": "https://localhost:8080/"
    },
    "executionInfo": {
     "elapsed": 15,
     "status": "ok",
     "timestamp": 1658670813165,
     "user": {
      "displayName": "pawel kinczyk",
      "userId": "16956936289197048561"
     },
     "user_tz": -120
    },
    "id": "28948cea",
    "outputId": "5d58efb5-f000-4592-e05c-c30c3f560eb1"
   },
   "outputs": [
    {
     "data": {
      "text/plain": [
       "{'catboostclassifier__depth': 8, 'catboostclassifier__iterations': 1000}"
      ]
     },
     "execution_count": 23,
     "metadata": {},
     "output_type": "execute_result"
    }
   ],
   "source": [
    "model8.best_params_"
   ]
  },
  {
   "cell_type": "code",
   "execution_count": null,
   "id": "3cdad3a4",
   "metadata": {
    "colab": {
     "base_uri": "https://localhost:8080/"
    },
    "executionInfo": {
     "elapsed": 13,
     "status": "ok",
     "timestamp": 1658670813166,
     "user": {
      "displayName": "pawel kinczyk",
      "userId": "16956936289197048561"
     },
     "user_tz": -120
    },
    "id": "3cdad3a4",
    "outputId": "35f65680-81ec-472f-813e-44fb3c52a125",
    "scrolled": true
   },
   "outputs": [
    {
     "data": {
      "text/plain": [
       "dict_keys(['cv', 'error_score', 'estimator__memory', 'estimator__steps', 'estimator__verbose', 'estimator__columntransformer', 'estimator__catboostclassifier', 'estimator__columntransformer__n_jobs', 'estimator__columntransformer__remainder', 'estimator__columntransformer__sparse_threshold', 'estimator__columntransformer__transformer_weights', 'estimator__columntransformer__transformers', 'estimator__columntransformer__verbose', 'estimator__columntransformer__verbose_feature_names_out', 'estimator__columntransformer__one-hot-encoder', 'estimator__columntransformer__min_max_scaler', 'estimator__columntransformer__one-hot-encoder__categories', 'estimator__columntransformer__one-hot-encoder__drop', 'estimator__columntransformer__one-hot-encoder__dtype', 'estimator__columntransformer__one-hot-encoder__handle_unknown', 'estimator__columntransformer__one-hot-encoder__sparse', 'estimator__columntransformer__min_max_scaler__clip', 'estimator__columntransformer__min_max_scaler__copy', 'estimator__columntransformer__min_max_scaler__feature_range', 'estimator', 'n_jobs', 'param_grid', 'pre_dispatch', 'refit', 'return_train_score', 'scoring', 'verbose'])"
      ]
     },
     "execution_count": 24,
     "metadata": {},
     "output_type": "execute_result"
    }
   ],
   "source": [
    "model8.get_params().keys()"
   ]
  },
  {
   "cell_type": "code",
   "execution_count": null,
   "id": "f3b00ffc",
   "metadata": {
    "colab": {
     "base_uri": "https://localhost:8080/"
    },
    "executionInfo": {
     "elapsed": 10,
     "status": "ok",
     "timestamp": 1658670813166,
     "user": {
      "displayName": "pawel kinczyk",
      "userId": "16956936289197048561"
     },
     "user_tz": -120
    },
    "id": "f3b00ffc",
    "outputId": "b34860d0-08f4-4f19-8661-9e8da9b734b2"
   },
   "outputs": [
    {
     "data": {
      "text/plain": [
       "1976.925044298172"
      ]
     },
     "execution_count": 25,
     "metadata": {},
     "output_type": "execute_result"
    }
   ],
   "source": [
    "end = time.time()\n",
    "time8 =end-start\n",
    "time8"
   ]
  },
  {
   "cell_type": "code",
   "execution_count": null,
   "id": "gueGTPJH_JA0",
   "metadata": {
    "colab": {
     "base_uri": "https://localhost:8080/"
    },
    "executionInfo": {
     "elapsed": 7,
     "status": "ok",
     "timestamp": 1658670813166,
     "user": {
      "displayName": "pawel kinczyk",
      "userId": "16956936289197048561"
     },
     "user_tz": -120
    },
    "id": "gueGTPJH_JA0",
    "outputId": "5ba78e5f-75e1-456c-9062-e9ae5bf9e712"
   },
   "outputs": [
    {
     "name": "stdout",
     "output_type": "stream",
     "text": [
      "                                               params  mean_test_score\n",
      "0   {'catboostclassifier__depth': 4, 'catboostclas...         0.948895\n",
      "1   {'catboostclassifier__depth': 4, 'catboostclas...         0.949635\n",
      "2   {'catboostclassifier__depth': 4, 'catboostclas...         0.950178\n",
      "3   {'catboostclassifier__depth': 4, 'catboostclas...         0.950231\n",
      "4   {'catboostclassifier__depth': 6, 'catboostclas...         0.949319\n",
      "5   {'catboostclassifier__depth': 6, 'catboostclas...         0.949153\n",
      "6   {'catboostclassifier__depth': 6, 'catboostclas...         0.950127\n",
      "7   {'catboostclassifier__depth': 6, 'catboostclas...         0.950343\n",
      "8   {'catboostclassifier__depth': 8, 'catboostclas...         0.948206\n",
      "9   {'catboostclassifier__depth': 8, 'catboostclas...         0.947863\n",
      "10  {'catboostclassifier__depth': 8, 'catboostclas...         0.949758\n",
      "11  {'catboostclassifier__depth': 8, 'catboostclas...         0.950366\n"
     ]
    }
   ],
   "source": [
    "cv_results8 = pd.DataFrame.from_dict(grid8.cv_results_)\n",
    "df8 = cv_results8[['params', 'mean_test_score']]\n",
    "\n",
    "pd.set_option(\"display.max_rows\", None, \"display.max_columns\", None)\n",
    "pd.set_option('expand_frame_repr', False)\n",
    "print(df8)"
   ]
  },
  {
   "cell_type": "code",
   "execution_count": null,
   "id": "Gl3M6oRz_JA0",
   "metadata": {
    "id": "Gl3M6oRz_JA0"
   },
   "outputs": [],
   "source": [
    "df8.to_excel(\"/content/drive/MyDrive/Organizacja/Nauka/MGR IiE/Python/pred8.xlsx\")"
   ]
  },
  {
   "cell_type": "markdown",
   "id": "15f2ce42",
   "metadata": {
    "id": "15f2ce42"
   },
   "source": [
    "# LGBMClassifier"
   ]
  },
  {
   "cell_type": "code",
   "execution_count": null,
   "id": "ee8892c6",
   "metadata": {
    "id": "ee8892c6"
   },
   "outputs": [],
   "source": [
    "from lightgbm import LGBMClassifier"
   ]
  },
  {
   "cell_type": "code",
   "execution_count": null,
   "id": "d570c8b0",
   "metadata": {
    "id": "d570c8b0"
   },
   "outputs": [],
   "source": [
    "model9 = make_pipeline(preprocessor, LGBMClassifier(n_jobs = n_cpus))"
   ]
  },
  {
   "cell_type": "code",
   "execution_count": null,
   "id": "5a518955",
   "metadata": {
    "id": "5a518955"
   },
   "outputs": [],
   "source": [
    "start = time.time()"
   ]
  },
  {
   "cell_type": "code",
   "execution_count": null,
   "id": "af366afb",
   "metadata": {
    "colab": {
     "base_uri": "https://localhost:8080/"
    },
    "executionInfo": {
     "elapsed": 9,
     "status": "ok",
     "timestamp": 1658681259643,
     "user": {
      "displayName": "pawel kinczyk",
      "userId": "16956936289197048561"
     },
     "user_tz": -120
    },
    "id": "af366afb",
    "outputId": "bc1260a8-0a2e-4e5b-a443-45d3c0bd30c1"
   },
   "outputs": [
    {
     "data": {
      "text/plain": [
       "{'lgbmclassifier__boosting_type': ['gbdt', 'dart', 'goss'],\n",
       " 'lgbmclassifier__n_estimators': [100, 200, 300],\n",
       " 'lgbmclassifier__num_leaves': [31, 35, 40]}"
      ]
     },
     "execution_count": 19,
     "metadata": {},
     "output_type": "execute_result"
    }
   ],
   "source": [
    "param9 = {}\n",
    "param9['lgbmclassifier__boosting_type'] = ['gbdt', 'dart', 'goss']\n",
    "param9['lgbmclassifier__num_leaves'] = [31,35,40]\n",
    "param9['lgbmclassifier__n_estimators'] = [100,200,300]\n",
    "param9"
   ]
  },
  {
   "cell_type": "code",
   "execution_count": null,
   "id": "90bef932",
   "metadata": {
    "id": "90bef932"
   },
   "outputs": [],
   "source": [
    "grid9=GridSearchCV(model9,param_grid=param9,scoring=\"accuracy\",refit=True, n_jobs = n_cpus)"
   ]
  },
  {
   "cell_type": "code",
   "execution_count": null,
   "id": "5354d5c1",
   "metadata": {
    "id": "5354d5c1"
   },
   "outputs": [],
   "source": [
    "model9 = grid9.fit(data_train, target_train)"
   ]
  },
  {
   "cell_type": "code",
   "execution_count": null,
   "id": "7cadcdcd",
   "metadata": {
    "id": "7cadcdcd"
   },
   "outputs": [],
   "source": [
    "model9 = model9.fit(data_train, target_train)"
   ]
  },
  {
   "cell_type": "code",
   "execution_count": null,
   "id": "fcc12eed",
   "metadata": {
    "colab": {
     "base_uri": "https://localhost:8080/"
    },
    "executionInfo": {
     "elapsed": 86,
     "status": "ok",
     "timestamp": 1658697420069,
     "user": {
      "displayName": "pawel kinczyk",
      "userId": "16956936289197048561"
     },
     "user_tz": -120
    },
    "id": "fcc12eed",
    "outputId": "a119a18c-42d5-4c3f-f1dc-28ce6f787060"
   },
   "outputs": [
    {
     "data": {
      "text/plain": [
       "0.9495228804831571"
      ]
     },
     "execution_count": 23,
     "metadata": {},
     "output_type": "execute_result"
    }
   ],
   "source": [
    "model9.best_score_"
   ]
  },
  {
   "cell_type": "code",
   "execution_count": null,
   "id": "4454d408",
   "metadata": {
    "colab": {
     "base_uri": "https://localhost:8080/"
    },
    "executionInfo": {
     "elapsed": 17,
     "status": "ok",
     "timestamp": 1658697420069,
     "user": {
      "displayName": "pawel kinczyk",
      "userId": "16956936289197048561"
     },
     "user_tz": -120
    },
    "id": "4454d408",
    "outputId": "7751ec7d-98ea-47bd-ab4a-140c7cc3b322"
   },
   "outputs": [
    {
     "data": {
      "text/plain": [
       "{'lgbmclassifier__boosting_type': 'gbdt',\n",
       " 'lgbmclassifier__n_estimators': 300,\n",
       " 'lgbmclassifier__num_leaves': 35}"
      ]
     },
     "execution_count": 24,
     "metadata": {},
     "output_type": "execute_result"
    }
   ],
   "source": [
    "model9.best_params_"
   ]
  },
  {
   "cell_type": "code",
   "execution_count": null,
   "id": "5b9911b1",
   "metadata": {
    "colab": {
     "base_uri": "https://localhost:8080/"
    },
    "executionInfo": {
     "elapsed": 14,
     "status": "ok",
     "timestamp": 1658697420069,
     "user": {
      "displayName": "pawel kinczyk",
      "userId": "16956936289197048561"
     },
     "user_tz": -120
    },
    "id": "5b9911b1",
    "outputId": "22063d4d-68b5-488e-bbe5-00172cd97aa5",
    "scrolled": true
   },
   "outputs": [
    {
     "data": {
      "text/plain": [
       "dict_keys(['cv', 'error_score', 'estimator__memory', 'estimator__steps', 'estimator__verbose', 'estimator__columntransformer', 'estimator__lgbmclassifier', 'estimator__columntransformer__n_jobs', 'estimator__columntransformer__remainder', 'estimator__columntransformer__sparse_threshold', 'estimator__columntransformer__transformer_weights', 'estimator__columntransformer__transformers', 'estimator__columntransformer__verbose', 'estimator__columntransformer__verbose_feature_names_out', 'estimator__columntransformer__one-hot-encoder', 'estimator__columntransformer__min_max_scaler', 'estimator__columntransformer__one-hot-encoder__categories', 'estimator__columntransformer__one-hot-encoder__drop', 'estimator__columntransformer__one-hot-encoder__dtype', 'estimator__columntransformer__one-hot-encoder__handle_unknown', 'estimator__columntransformer__one-hot-encoder__sparse', 'estimator__columntransformer__min_max_scaler__clip', 'estimator__columntransformer__min_max_scaler__copy', 'estimator__columntransformer__min_max_scaler__feature_range', 'estimator__lgbmclassifier__boosting_type', 'estimator__lgbmclassifier__class_weight', 'estimator__lgbmclassifier__colsample_bytree', 'estimator__lgbmclassifier__importance_type', 'estimator__lgbmclassifier__learning_rate', 'estimator__lgbmclassifier__max_depth', 'estimator__lgbmclassifier__min_child_samples', 'estimator__lgbmclassifier__min_child_weight', 'estimator__lgbmclassifier__min_split_gain', 'estimator__lgbmclassifier__n_estimators', 'estimator__lgbmclassifier__n_jobs', 'estimator__lgbmclassifier__num_leaves', 'estimator__lgbmclassifier__objective', 'estimator__lgbmclassifier__random_state', 'estimator__lgbmclassifier__reg_alpha', 'estimator__lgbmclassifier__reg_lambda', 'estimator__lgbmclassifier__silent', 'estimator__lgbmclassifier__subsample', 'estimator__lgbmclassifier__subsample_for_bin', 'estimator__lgbmclassifier__subsample_freq', 'estimator', 'n_jobs', 'param_grid', 'pre_dispatch', 'refit', 'return_train_score', 'scoring', 'verbose'])"
      ]
     },
     "execution_count": 25,
     "metadata": {},
     "output_type": "execute_result"
    }
   ],
   "source": [
    "model9.get_params().keys()"
   ]
  },
  {
   "cell_type": "code",
   "execution_count": null,
   "id": "0eb87f7c",
   "metadata": {
    "colab": {
     "base_uri": "https://localhost:8080/"
    },
    "executionInfo": {
     "elapsed": 12,
     "status": "ok",
     "timestamp": 1658697420070,
     "user": {
      "displayName": "pawel kinczyk",
      "userId": "16956936289197048561"
     },
     "user_tz": -120
    },
    "id": "0eb87f7c",
    "outputId": "9e366aca-2c5a-47ed-acde-47e6a5ccf3ed"
   },
   "outputs": [
    {
     "data": {
      "text/plain": [
       "16161.823615789413"
      ]
     },
     "execution_count": 26,
     "metadata": {},
     "output_type": "execute_result"
    }
   ],
   "source": [
    "end = time.time()\n",
    "time9 =end-start\n",
    "time9"
   ]
  },
  {
   "cell_type": "code",
   "execution_count": null,
   "id": "pLWv3c3S_Uvp",
   "metadata": {
    "colab": {
     "base_uri": "https://localhost:8080/"
    },
    "executionInfo": {
     "elapsed": 10,
     "status": "ok",
     "timestamp": 1658697420070,
     "user": {
      "displayName": "pawel kinczyk",
      "userId": "16956936289197048561"
     },
     "user_tz": -120
    },
    "id": "pLWv3c3S_Uvp",
    "outputId": "75bfdfe5-855c-4d17-fcfb-c512304a21b2"
   },
   "outputs": [
    {
     "name": "stdout",
     "output_type": "stream",
     "text": [
      "                                               params  mean_test_score\n",
      "0   {'lgbmclassifier__boosting_type': 'gbdt', 'lgb...         0.949099\n",
      "1   {'lgbmclassifier__boosting_type': 'gbdt', 'lgb...         0.948837\n",
      "2   {'lgbmclassifier__boosting_type': 'gbdt', 'lgb...         0.949084\n",
      "3   {'lgbmclassifier__boosting_type': 'gbdt', 'lgb...         0.949134\n",
      "4   {'lgbmclassifier__boosting_type': 'gbdt', 'lgb...         0.949180\n",
      "5   {'lgbmclassifier__boosting_type': 'gbdt', 'lgb...         0.949454\n",
      "6   {'lgbmclassifier__boosting_type': 'gbdt', 'lgb...         0.949504\n",
      "7   {'lgbmclassifier__boosting_type': 'gbdt', 'lgb...         0.949523\n",
      "8   {'lgbmclassifier__boosting_type': 'gbdt', 'lgb...         0.949519\n",
      "9   {'lgbmclassifier__boosting_type': 'dart', 'lgb...         0.946835\n",
      "10  {'lgbmclassifier__boosting_type': 'dart', 'lgb...         0.947189\n",
      "11  {'lgbmclassifier__boosting_type': 'dart', 'lgb...         0.947428\n",
      "12  {'lgbmclassifier__boosting_type': 'dart', 'lgb...         0.948383\n",
      "13  {'lgbmclassifier__boosting_type': 'dart', 'lgb...         0.948437\n",
      "14  {'lgbmclassifier__boosting_type': 'dart', 'lgb...         0.948861\n",
      "15  {'lgbmclassifier__boosting_type': 'dart', 'lgb...         0.949284\n",
      "16  {'lgbmclassifier__boosting_type': 'dart', 'lgb...         0.949284\n",
      "17  {'lgbmclassifier__boosting_type': 'dart', 'lgb...         0.949515\n",
      "18  {'lgbmclassifier__boosting_type': 'goss', 'lgb...         0.947555\n",
      "19  {'lgbmclassifier__boosting_type': 'goss', 'lgb...         0.947956\n",
      "20  {'lgbmclassifier__boosting_type': 'goss', 'lgb...         0.947609\n",
      "21  {'lgbmclassifier__boosting_type': 'goss', 'lgb...         0.945426\n",
      "22  {'lgbmclassifier__boosting_type': 'goss', 'lgb...         0.946920\n",
      "23  {'lgbmclassifier__boosting_type': 'goss', 'lgb...         0.948371\n",
      "24  {'lgbmclassifier__boosting_type': 'goss', 'lgb...         0.947301\n",
      "25  {'lgbmclassifier__boosting_type': 'goss', 'lgb...         0.947216\n",
      "26  {'lgbmclassifier__boosting_type': 'goss', 'lgb...         0.948441\n"
     ]
    }
   ],
   "source": [
    "cv_results9 = pd.DataFrame.from_dict(grid9.cv_results_)\n",
    "df9 = cv_results9[['params', 'mean_test_score']]\n",
    "\n",
    "pd.set_option(\"display.max_rows\", None, \"display.max_columns\", None)\n",
    "pd.set_option('expand_frame_repr', False)\n",
    "print(df9)"
   ]
  },
  {
   "cell_type": "code",
   "execution_count": null,
   "id": "9ENaw_y3_Uvq",
   "metadata": {
    "id": "9ENaw_y3_Uvq"
   },
   "outputs": [],
   "source": [
    "df9.to_excel(\"/content/drive/MyDrive/Organizacja/Nauka/MGR IiE/Python/pred9.xlsx\")"
   ]
  },
  {
   "cell_type": "markdown",
   "id": "RdSMTk_MsKMc",
   "metadata": {
    "id": "RdSMTk_MsKMc"
   },
   "source": [
    "# MLPClassifier"
   ]
  },
  {
   "cell_type": "code",
   "execution_count": 46,
   "id": "QgHEM5XKsKMd",
   "metadata": {
    "id": "QgHEM5XKsKMd"
   },
   "outputs": [],
   "source": [
    "from sklearn.neural_network import MLPClassifier"
   ]
  },
  {
   "cell_type": "code",
   "execution_count": 47,
   "id": "Yy3a1MK5sKMe",
   "metadata": {
    "id": "Yy3a1MK5sKMe"
   },
   "outputs": [],
   "source": [
    "model10 = make_pipeline(preprocessor, MLPClassifier())"
   ]
  },
  {
   "cell_type": "code",
   "execution_count": 48,
   "id": "-sWe-W6qsKMe",
   "metadata": {
    "id": "-sWe-W6qsKMe"
   },
   "outputs": [],
   "source": [
    "start = time.time()"
   ]
  },
  {
   "cell_type": "code",
   "execution_count": 49,
   "id": "HL7YZrcHsKMf",
   "metadata": {
    "id": "HL7YZrcHsKMf"
   },
   "outputs": [
    {
     "data": {
      "text/plain": [
       "{'mlpclassifier__max_iter': [500, 750, 1000],\n",
       " 'mlpclassifier__activation': ['identity', 'logistic', 'tanh', 'relu']}"
      ]
     },
     "execution_count": 49,
     "metadata": {},
     "output_type": "execute_result"
    }
   ],
   "source": [
    "param10 = {}\n",
    "param10['mlpclassifier__max_iter'] = [500, 750, 1000]\n",
    "param10['mlpclassifier__activation'] = ['identity', 'logistic', 'tanh', 'relu']\n",
    "param10"
   ]
  },
  {
   "cell_type": "code",
   "execution_count": 50,
   "id": "WdPjM0ImsKMj",
   "metadata": {
    "colab": {
     "base_uri": "https://localhost:8080/"
    },
    "executionInfo": {
     "elapsed": 14,
     "status": "ok",
     "timestamp": 1658697420069,
     "user": {
      "displayName": "pawel kinczyk",
      "userId": "16956936289197048561"
     },
     "user_tz": -120
    },
    "id": "WdPjM0ImsKMj",
    "outputId": "22063d4d-68b5-488e-bbe5-00172cd97aa5",
    "scrolled": true
   },
   "outputs": [
    {
     "data": {
      "text/plain": [
       "dict_keys(['memory', 'steps', 'verbose', 'columntransformer', 'mlpclassifier', 'columntransformer__n_jobs', 'columntransformer__remainder', 'columntransformer__sparse_threshold', 'columntransformer__transformer_weights', 'columntransformer__transformers', 'columntransformer__verbose', 'columntransformer__verbose_feature_names_out', 'columntransformer__one-hot-encoder', 'columntransformer__min_max_scaler', 'columntransformer__one-hot-encoder__categories', 'columntransformer__one-hot-encoder__drop', 'columntransformer__one-hot-encoder__dtype', 'columntransformer__one-hot-encoder__handle_unknown', 'columntransformer__one-hot-encoder__max_categories', 'columntransformer__one-hot-encoder__min_frequency', 'columntransformer__one-hot-encoder__sparse', 'columntransformer__min_max_scaler__clip', 'columntransformer__min_max_scaler__copy', 'columntransformer__min_max_scaler__feature_range', 'mlpclassifier__activation', 'mlpclassifier__alpha', 'mlpclassifier__batch_size', 'mlpclassifier__beta_1', 'mlpclassifier__beta_2', 'mlpclassifier__early_stopping', 'mlpclassifier__epsilon', 'mlpclassifier__hidden_layer_sizes', 'mlpclassifier__learning_rate', 'mlpclassifier__learning_rate_init', 'mlpclassifier__max_fun', 'mlpclassifier__max_iter', 'mlpclassifier__momentum', 'mlpclassifier__n_iter_no_change', 'mlpclassifier__nesterovs_momentum', 'mlpclassifier__power_t', 'mlpclassifier__random_state', 'mlpclassifier__shuffle', 'mlpclassifier__solver', 'mlpclassifier__tol', 'mlpclassifier__validation_fraction', 'mlpclassifier__verbose', 'mlpclassifier__warm_start'])"
      ]
     },
     "execution_count": 50,
     "metadata": {},
     "output_type": "execute_result"
    }
   ],
   "source": [
    "model10.get_params().keys()"
   ]
  },
  {
   "cell_type": "code",
   "execution_count": 51,
   "id": "7nZX7z-msKMg",
   "metadata": {
    "id": "7nZX7z-msKMg"
   },
   "outputs": [],
   "source": [
    "grid10=GridSearchCV(model10,param_grid=param10,scoring=\"accuracy\",refit=True, n_jobs = -1)"
   ]
  },
  {
   "cell_type": "code",
   "execution_count": 52,
   "id": "yLPPbdM8sKMg",
   "metadata": {
    "id": "yLPPbdM8sKMg"
   },
   "outputs": [],
   "source": [
    "model10 = grid10.fit(data_train, target_train)"
   ]
  },
  {
   "cell_type": "code",
   "execution_count": 53,
   "id": "Dv3uuLhfsKMh",
   "metadata": {
    "colab": {
     "base_uri": "https://localhost:8080/"
    },
    "executionInfo": {
     "elapsed": 86,
     "status": "ok",
     "timestamp": 1658697420069,
     "user": {
      "displayName": "pawel kinczyk",
      "userId": "16956936289197048561"
     },
     "user_tz": -120
    },
    "id": "Dv3uuLhfsKMh",
    "outputId": "a119a18c-42d5-4c3f-f1dc-28ce6f787060"
   },
   "outputs": [
    {
     "data": {
      "text/plain": [
       "0.9444281853556381"
      ]
     },
     "execution_count": 53,
     "metadata": {},
     "output_type": "execute_result"
    }
   ],
   "source": [
    "model10.best_score_"
   ]
  },
  {
   "cell_type": "code",
   "execution_count": 54,
   "id": "bTAw8ATssKMi",
   "metadata": {
    "colab": {
     "base_uri": "https://localhost:8080/"
    },
    "executionInfo": {
     "elapsed": 17,
     "status": "ok",
     "timestamp": 1658697420069,
     "user": {
      "displayName": "pawel kinczyk",
      "userId": "16956936289197048561"
     },
     "user_tz": -120
    },
    "id": "bTAw8ATssKMi",
    "outputId": "7751ec7d-98ea-47bd-ab4a-140c7cc3b322"
   },
   "outputs": [
    {
     "data": {
      "text/plain": [
       "{'mlpclassifier__activation': 'identity', 'mlpclassifier__max_iter': 500}"
      ]
     },
     "execution_count": 54,
     "metadata": {},
     "output_type": "execute_result"
    }
   ],
   "source": [
    "model10.best_params_"
   ]
  },
  {
   "cell_type": "code",
   "execution_count": 55,
   "id": "B3VKU_S8sKMk",
   "metadata": {
    "id": "B3VKU_S8sKMk"
   },
   "outputs": [
    {
     "data": {
      "text/plain": [
       "4634.79953289032"
      ]
     },
     "execution_count": 55,
     "metadata": {},
     "output_type": "execute_result"
    }
   ],
   "source": [
    "end = time.time()\n",
    "time10 =end-start\n",
    "time10"
   ]
  },
  {
   "cell_type": "code",
   "execution_count": 56,
   "id": "vk_q9CX1sKMl",
   "metadata": {
    "colab": {
     "base_uri": "https://localhost:8080/"
    },
    "executionInfo": {
     "elapsed": 10,
     "status": "ok",
     "timestamp": 1658697420070,
     "user": {
      "displayName": "pawel kinczyk",
      "userId": "16956936289197048561"
     },
     "user_tz": -120
    },
    "id": "vk_q9CX1sKMl",
    "outputId": "75bfdfe5-855c-4d17-fcfb-c512304a21b2"
   },
   "outputs": [
    {
     "name": "stdout",
     "output_type": "stream",
     "text": [
      "                                               params  mean_test_score\n",
      "0   {'mlpclassifier__activation': 'identity', 'mlp...         0.944428\n",
      "1   {'mlpclassifier__activation': 'identity', 'mlp...         0.944359\n",
      "2   {'mlpclassifier__activation': 'identity', 'mlp...         0.944313\n",
      "3   {'mlpclassifier__activation': 'logistic', 'mlp...         0.938871\n",
      "4   {'mlpclassifier__activation': 'logistic', 'mlp...         0.938648\n",
      "5   {'mlpclassifier__activation': 'logistic', 'mlp...         0.939799\n",
      "6   {'mlpclassifier__activation': 'tanh', 'mlpclas...         0.937666\n",
      "7   {'mlpclassifier__activation': 'tanh', 'mlpclas...         0.938482\n",
      "8   {'mlpclassifier__activation': 'tanh', 'mlpclas...         0.938386\n",
      "9   {'mlpclassifier__activation': 'relu', 'mlpclas...         0.939326\n",
      "10  {'mlpclassifier__activation': 'relu', 'mlpclas...         0.938648\n",
      "11  {'mlpclassifier__activation': 'relu', 'mlpclas...         0.938752\n"
     ]
    }
   ],
   "source": [
    "cv_results10 = pd.DataFrame.from_dict(grid10.cv_results_)\n",
    "df10 = cv_results10[['params', 'mean_test_score']]\n",
    "\n",
    "pd.set_option(\"display.max_rows\", None, \"display.max_columns\", None)\n",
    "pd.set_option('expand_frame_repr', False)\n",
    "print(df10)"
   ]
  },
  {
   "cell_type": "code",
   "execution_count": 57,
   "id": "-8uN3lkmsKMl",
   "metadata": {
    "id": "-8uN3lkmsKMl"
   },
   "outputs": [],
   "source": [
    "df10.to_excel(\"pred10.xlsx\")"
   ]
  },
  {
   "cell_type": "code",
   "execution_count": null,
   "id": "449ed2a2",
   "metadata": {},
   "outputs": [],
   "source": []
  },
  {
   "cell_type": "code",
   "execution_count": null,
   "id": "73798a6b",
   "metadata": {},
   "outputs": [],
   "source": []
  }
 ],
 "metadata": {
  "colab": {
   "collapsed_sections": [],
   "name": "M11.ipynb",
   "provenance": [
    {
     "file_id": "1471HFrPxZEwe2E093muoVowYUZRfZ0XA",
     "timestamp": 1658942555455
    }
   ]
  },
  "gpuClass": "standard",
  "kernelspec": {
   "display_name": "Python 3 (ipykernel)",
   "language": "python",
   "name": "python3"
  },
  "language_info": {
   "codemirror_mode": {
    "name": "ipython",
    "version": 3
   },
   "file_extension": ".py",
   "mimetype": "text/x-python",
   "name": "python",
   "nbconvert_exporter": "python",
   "pygments_lexer": "ipython3",
   "version": "3.9.7"
  }
 },
 "nbformat": 4,
 "nbformat_minor": 5
}
